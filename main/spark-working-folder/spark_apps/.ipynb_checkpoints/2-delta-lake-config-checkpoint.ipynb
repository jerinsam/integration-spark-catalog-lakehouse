{
 "cells": [
  {
   "cell_type": "code",
   "execution_count": 1,
   "id": "b61aad15-e4d6-4f5a-8e08-fc1db0c578d8",
   "metadata": {},
   "outputs": [],
   "source": [
    "from pyspark.sql import SparkSession"
   ]
  },
  {
   "cell_type": "code",
   "execution_count": 2,
   "id": "5838a2bf-b276-41af-b2be-2cf8f6dd9209",
   "metadata": {},
   "outputs": [],
   "source": [
    "# Load Spark SQL Magic command\n",
    "%load_ext sparksql_magic"
   ]
  },
  {
   "cell_type": "markdown",
   "id": "16db51e2-6f41-45bf-9a7b-f7e44180cf76",
   "metadata": {},
   "source": [
    "### Following code is used to initilize the Spark Session. Delta lake package is used while creating the spark session, which will help to save spark dataframe as Delta Table."
   ]
  },
  {
   "cell_type": "code",
   "execution_count": 3,
   "id": "5241b61e",
   "metadata": {},
   "outputs": [
    {
     "name": "stdout",
     "output_type": "stream",
     "text": [
      ":: loading settings :: url = jar:file:/opt/spark/jars/ivy-2.5.1.jar!/org/apache/ivy/core/settings/ivysettings.xml\n"
     ]
    },
    {
     "name": "stderr",
     "output_type": "stream",
     "text": [
      "Ivy Default Cache set to: /root/.ivy2/cache\n",
      "The jars for the packages stored in: /root/.ivy2/jars\n",
      "io.delta#delta-spark_2.12 added as a dependency\n",
      ":: resolving dependencies :: org.apache.spark#spark-submit-parent-5286d02d-6636-4bc2-bf92-40fdc920ceb7;1.0\n",
      "\tconfs: [default]\n",
      "\tfound io.delta#delta-spark_2.12;3.2.0 in central\n",
      "\tfound io.delta#delta-storage;3.2.0 in central\n",
      "\tfound org.antlr#antlr4-runtime;4.9.3 in central\n",
      "downloading https://repo1.maven.org/maven2/io/delta/delta-spark_2.12/3.2.0/delta-spark_2.12-3.2.0.jar ...\n",
      "\t[SUCCESSFUL ] io.delta#delta-spark_2.12;3.2.0!delta-spark_2.12.jar (2507ms)\n",
      "downloading https://repo1.maven.org/maven2/io/delta/delta-storage/3.2.0/delta-storage-3.2.0.jar ...\n",
      "\t[SUCCESSFUL ] io.delta#delta-storage;3.2.0!delta-storage.jar (501ms)\n",
      "downloading https://repo1.maven.org/maven2/org/antlr/antlr4-runtime/4.9.3/antlr4-runtime-4.9.3.jar ...\n",
      "\t[SUCCESSFUL ] org.antlr#antlr4-runtime;4.9.3!antlr4-runtime.jar (581ms)\n",
      ":: resolution report :: resolve 6178ms :: artifacts dl 3597ms\n",
      "\t:: modules in use:\n",
      "\tio.delta#delta-spark_2.12;3.2.0 from central in [default]\n",
      "\tio.delta#delta-storage;3.2.0 from central in [default]\n",
      "\torg.antlr#antlr4-runtime;4.9.3 from central in [default]\n",
      "\t---------------------------------------------------------------------\n",
      "\t|                  |            modules            ||   artifacts   |\n",
      "\t|       conf       | number| search|dwnlded|evicted|| number|dwnlded|\n",
      "\t---------------------------------------------------------------------\n",
      "\t|      default     |   3   |   3   |   3   |   0   ||   3   |   3   |\n",
      "\t---------------------------------------------------------------------\n",
      ":: retrieving :: org.apache.spark#spark-submit-parent-5286d02d-6636-4bc2-bf92-40fdc920ceb7\n",
      "\tconfs: [default]\n",
      "\t3 artifacts copied, 0 already retrieved (6321kB/13ms)\n",
      "24/12/27 11:24:00 WARN NativeCodeLoader: Unable to load native-hadoop library for your platform... using builtin-java classes where applicable\n",
      "Setting default log level to \"WARN\".\n",
      "To adjust logging level use sc.setLogLevel(newLevel). For SparkR, use setLogLevel(newLevel).\n"
     ]
    }
   ],
   "source": [
    "# Initialize SparkSession\n",
    "spark = SparkSession.builder \\\n",
    "    .appName(\"add-delta-lake\") \\\n",
    "    .master(\"spark://spark-master:7077\") \\\n",
    "    .config(\"spark.jars.packages\", \"io.delta:delta-spark_2.12:3.2.0\")\\\n",
    "    .config(\"spark.sql.extensions\", \"io.delta.sql.DeltaSparkSessionExtension\") \\\n",
    "    .config(\"spark.sql.catalog.spark_catalog\", \"org.apache.spark.sql.delta.catalog.DeltaCatalog\")\\\n",
    "    .getOrCreate()\n"
   ]
  },
  {
   "cell_type": "code",
   "execution_count": 53,
   "id": "d50f5cef-634f-447b-840c-3d24785da0fd",
   "metadata": {},
   "outputs": [],
   "source": [
    "# To stop SparkSession\n",
    "# spark.stop()"
   ]
  },
  {
   "cell_type": "code",
   "execution_count": 4,
   "id": "cf7dd13b-e3cc-4962-8f20-9e2e552b04e8",
   "metadata": {},
   "outputs": [],
   "source": [
    "# Example DataFrame creation\n",
    "data = [(\"Jerin\", 29), (\"Aayush\", 35), (\"Neeraj\", 28)]\n",
    "columns = [\"Name\", \"Age\"]\n",
    "df = spark.createDataFrame(data, columns)"
   ]
  },
  {
   "cell_type": "code",
   "execution_count": 5,
   "id": "a538f060-489d-4f68-87ed-22b7e29ab06c",
   "metadata": {},
   "outputs": [
    {
     "name": "stderr",
     "output_type": "stream",
     "text": [
      "                                                                                "
     ]
    },
    {
     "name": "stdout",
     "output_type": "stream",
     "text": [
      "+------+---+\n",
      "|  Name|Age|\n",
      "+------+---+\n",
      "| Jerin| 29|\n",
      "|Aayush| 35|\n",
      "|Neeraj| 28|\n",
      "+------+---+\n",
      "\n"
     ]
    }
   ],
   "source": [
    "df.show()"
   ]
  },
  {
   "cell_type": "markdown",
   "id": "e919f596-aa33-462c-9834-c693e4b322ca",
   "metadata": {},
   "source": [
    "### Create Unmanaged Delta Table, This can be accessed only using location of the data.\n",
    "- This unmanaged table is not registered in Delta Catalog, therefore this can not be accessed via Table Reference."
   ]
  },
  {
   "cell_type": "code",
   "execution_count": 6,
   "id": "a3f2572f-86cd-475d-84a2-349db4707973",
   "metadata": {},
   "outputs": [
    {
     "name": "stderr",
     "output_type": "stream",
     "text": [
      "                                                                                "
     ]
    }
   ],
   "source": [
    "# unmanaged delta table - not registered in delta catalog\n",
    "df.write.format(\"delta\").save(\"/opt/spark/data/test-delta-table-unmanaged\")"
   ]
  },
  {
   "cell_type": "code",
   "execution_count": 7,
   "id": "5223ab16-f786-4e3a-8bca-75f13ec07740",
   "metadata": {},
   "outputs": [
    {
     "name": "stderr",
     "output_type": "stream",
     "text": [
      "24/12/27 11:24:24 WARN SparkStringUtils: Truncated the string representation of a plan since it was too large. This behavior can be adjusted by setting 'spark.sql.debug.maxToStringFields'.\n",
      "                                                                                "
     ]
    },
    {
     "name": "stdout",
     "output_type": "stream",
     "text": [
      "+------+---+\n",
      "|  Name|Age|\n",
      "+------+---+\n",
      "|Aayush| 35|\n",
      "|Neeraj| 28|\n",
      "| Jerin| 29|\n",
      "+------+---+\n",
      "\n"
     ]
    }
   ],
   "source": [
    "# Read unmanaged delta table\n",
    "spark.sql(\"SELECT * FROM delta.`/opt/spark/data/test-delta-table-unmanaged`;\").show()"
   ]
  },
  {
   "cell_type": "markdown",
   "id": "0acffeb2-12f6-45e2-8d3a-7bb245a983aa",
   "metadata": {},
   "source": [
    "### Create Managed Delta Table, this can be accessed using SQL Table Reference.\n",
    "- This managed table is registered in Delta Catalog, therefore this can be accessed via SQL Table Reference."
   ]
  },
  {
   "cell_type": "markdown",
   "id": "b62394fb-0641-4b06-b051-2ccf49734a32",
   "metadata": {},
   "source": [
    "#### In this scenario, dataframe is saved to managed delta table"
   ]
  },
  {
   "cell_type": "code",
   "execution_count": 8,
   "id": "fe754e20-f188-4217-8c07-2bc0c2314cc9",
   "metadata": {},
   "outputs": [],
   "source": [
    "# This method is used to create a delta table from a dataframe and register the metadata to delta catalog.\n",
    "# In this method, When Delta table is created, data location is also managed by delta catalog along with table metadata.  \n",
    "# Since Delta Catalog manages the data location and metadata of delta table, therefore the actual data location is controlled by Delta Catalog.\n",
    "\n",
    "df.write.format(\"delta\").saveAsTable(\"`test_delta_table_managed`\")"
   ]
  },
  {
   "cell_type": "code",
   "execution_count": 9,
   "id": "6501cc6b-aa40-4da3-bcc2-2d66c9b894c8",
   "metadata": {},
   "outputs": [
    {
     "name": "stderr",
     "output_type": "stream",
     "text": [
      "                                                                                "
     ]
    },
    {
     "name": "stdout",
     "output_type": "stream",
     "text": [
      "+------+---+\n",
      "|  Name|Age|\n",
      "+------+---+\n",
      "|Aayush| 35|\n",
      "|Neeraj| 28|\n",
      "| Jerin| 29|\n",
      "+------+---+\n",
      "\n"
     ]
    }
   ],
   "source": [
    "# Read managed delta table, which is registered in delta catalog\n",
    "spark.sql(\"select * from `test_delta_table_managed`;\").show()"
   ]
  },
  {
   "cell_type": "code",
   "execution_count": 10,
   "id": "abdc56bb-61d5-4e40-a3fd-6d29fbdc8f33",
   "metadata": {},
   "outputs": [
    {
     "data": {
      "text/html": [
       "<table><tr style=\"border-bottom: 1px solid\"><td style=\"font-weight: bold\">namespace</td><td style=\"font-weight: bold\">tableName</td><td style=\"font-weight: bold\">isTemporary</td></tr><tr><td>default</td><td>test_delta_table_managed</td><td>False</td></tr></table>"
      ],
      "text/plain": [
       "<IPython.core.display.HTML object>"
      ]
     },
     "execution_count": 10,
     "metadata": {},
     "output_type": "execute_result"
    }
   ],
   "source": [
    "%%sparksql\n",
    "SHOW TABLES"
   ]
  },
  {
   "cell_type": "code",
   "execution_count": 11,
   "id": "2bd18a7f-8944-4f6b-a6fe-19589d192047",
   "metadata": {},
   "outputs": [
    {
     "name": "stdout",
     "output_type": "stream",
     "text": [
      "++\n",
      "||\n",
      "++\n",
      "++\n",
      "\n"
     ]
    }
   ],
   "source": [
    "# Drop managed delta table, since this table is saved as delta table, registered in Delta Catalog ... \n",
    "# and data location is also managed by Delta Catalog therefore dropping the table will remove the metadata along with actual data from the location.\n",
    "\n",
    "spark.sql(\"DROP TABLE `test_delta_table_managed`;\").show()"
   ]
  },
  {
   "cell_type": "markdown",
   "id": "dcaacfd3-8bba-458b-8d25-8b29b29d523c",
   "metadata": {},
   "source": [
    "#### In this method, unmanaged delta table location is registered to Delta catalog and a table name is assigned to it, therefore droping this table does not delete the data from location, it just drop the metadata from delta catalog.\n",
    "- If the unmanaged table folder name is changed, then querying the table using table name will give error."
   ]
  },
  {
   "cell_type": "code",
   "execution_count": 12,
   "id": "a8dc4cca-0d67-423d-ac66-e8dafcf88bbe",
   "metadata": {},
   "outputs": [
    {
     "data": {
      "text/plain": [
       "DataFrame[]"
      ]
     },
     "execution_count": 12,
     "metadata": {},
     "output_type": "execute_result"
    }
   ],
   "source": [
    "# Another method to create a delta table and register the metadata to delta catalog.\n",
    "# In this method, Delta table is created on the location of unmanaged delta table.  \n",
    "# Since Delta table is created on the location of unmanaged delta table, therefore the actual data location is not controlled by Delta Catalog.\n",
    "# This method will register the table metadata to the Delta Catalog but the data location is not managed by Delta Catalog.\n",
    "\n",
    "spark.sql(\"\"\"\n",
    "    CREATE TABLE test_delta_table_managed_method2\n",
    "    USING DELTA\n",
    "    LOCATION '/opt/spark/data/test-delta-table-unmanaged'\n",
    "\"\"\")"
   ]
  },
  {
   "cell_type": "code",
   "execution_count": 13,
   "id": "a347b364-aa7a-4223-9bd9-6aa7371a2d55",
   "metadata": {},
   "outputs": [
    {
     "name": "stderr",
     "output_type": "stream",
     "text": [
      "                                                                                "
     ]
    },
    {
     "name": "stdout",
     "output_type": "stream",
     "text": [
      "+------+---+\n",
      "|  Name|Age|\n",
      "+------+---+\n",
      "|Aayush| 35|\n",
      "|Neeraj| 28|\n",
      "| Jerin| 29|\n",
      "+------+---+\n",
      "\n"
     ]
    }
   ],
   "source": [
    "# Read managed delta table, which is registered in delta catalog\n",
    "spark.sql(\"select * from `test_delta_table_managed_method2`;\").show()"
   ]
  },
  {
   "cell_type": "code",
   "execution_count": 14,
   "id": "2e5da7ac-0d99-47b4-9a00-cca3e4dd6e81",
   "metadata": {},
   "outputs": [
    {
     "data": {
      "text/html": [
       "<table><tr style=\"border-bottom: 1px solid\"><td style=\"font-weight: bold\">namespace</td><td style=\"font-weight: bold\">tableName</td><td style=\"font-weight: bold\">isTemporary</td></tr><tr><td>default</td><td>test_delta_table_managed_method2</td><td>False</td></tr></table>"
      ],
      "text/plain": [
       "<IPython.core.display.HTML object>"
      ]
     },
     "execution_count": 14,
     "metadata": {},
     "output_type": "execute_result"
    }
   ],
   "source": [
    "%%sparksql\n",
    "SHOW TABLES"
   ]
  },
  {
   "cell_type": "code",
   "execution_count": 15,
   "id": "3b9f2e27-a590-4261-b43e-d8fb7243229b",
   "metadata": {},
   "outputs": [
    {
     "name": "stdout",
     "output_type": "stream",
     "text": [
      "++\n",
      "||\n",
      "++\n",
      "++\n",
      "\n"
     ]
    }
   ],
   "source": [
    "# Drop managed delta table, since this table is created on an unmanaged delta table location therefore ...\n",
    "# dropping the table will only remove the metadata from the delta catalog but not the actual data from the location.\n",
    "\n",
    "spark.sql(\"DROP TABLE `test_delta_table_managed_method2`;\").show()"
   ]
  },
  {
   "cell_type": "code",
   "execution_count": 16,
   "id": "445515c1-b8e6-4439-9e49-0ed0ed568cce",
   "metadata": {
    "editable": true,
    "slideshow": {
     "slide_type": ""
    },
    "tags": []
   },
   "outputs": [
    {
     "name": "stdout",
     "output_type": "stream",
     "text": [
      "+---------+\n",
      "|namespace|\n",
      "+---------+\n",
      "|  default|\n",
      "+---------+\n",
      "\n"
     ]
    }
   ],
   "source": [
    "# Show current database\n",
    "spark.sql(\"SHOW DATABASES;\").show()"
   ]
  },
  {
   "attachments": {
    "f7e64688-eb36-4b9e-a882-eca4d083db82.png": {
     "image/png": "[encoded data removed]"
    }
   },
   "cell_type": "markdown",
   "id": "85f83934-c7eb-4c27-89a7-834956ac600b",
   "metadata": {
    "editable": true,
    "slideshow": {
     "slide_type": ""
    },
    "tags": []
   },
   "source": [
    "#### If managed tables is dropped through SparkSQL then data goes into trash folder, but if dropped through spar.sql(\"DROP TABLE `test`\") then data won't go to trash folder.\n",
    "\n",
    "![image.png](attachment:f7e64688-eb36-4b9e-a882-eca4d083db82.png)\n",
    "\n",
    "```\n",
    "# Dropping delta table using below script, data will go to trash folder\n",
    "%%sparksql\n",
    "DROP TABLE `test_delta_table_managed_method2`\n",
    "\n",
    "# Dropping delta table using below script, data won't go to trash folder\n",
    "spark.sql(\"DROP TABLE `test_delta_table_managed_method2`;\").show()\n",
    "```\n"
   ]
  },
  {
   "cell_type": "code",
   "execution_count": null,
   "id": "04d1f1a2-a749-4a01-8e7a-4e19b331bd29",
   "metadata": {
    "editable": true,
    "slideshow": {
     "slide_type": ""
    },
    "tags": []
   },
   "outputs": [],
   "source": []
  }
 ],
 "metadata": {
  "kernelspec": {
   "display_name": "Python 3 (ipykernel)",
   "language": "python",
   "name": "python3"
  },
  "language_info": {
   "codemirror_mode": {
    "name": "ipython",
    "version": 3
   },
   "file_extension": ".py",
   "mimetype": "text/x-python",
   "name": "python",
   "nbconvert_exporter": "python",
   "pygments_lexer": "ipython3",
   "version": "3.11.11"
  }
 },
 "nbformat": 4,
 "nbformat_minor": 5
}
