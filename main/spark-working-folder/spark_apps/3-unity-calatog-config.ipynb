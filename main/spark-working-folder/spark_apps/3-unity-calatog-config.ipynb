{
 "cells": [
  {
   "cell_type": "code",
   "execution_count": 1,
   "id": "b61aad15-e4d6-4f5a-8e08-fc1db0c578d8",
   "metadata": {},
   "outputs": [],
   "source": [
    "from pyspark.sql import SparkSession"
   ]
  },
  {
   "cell_type": "markdown",
   "id": "16db51e2-6f41-45bf-9a7b-f7e44180cf76",
   "metadata": {},
   "source": [
    "### Following code is used to initilize the Spark Session. Delta lake package is used while creating the spark session, which will help to save spark dataframe as Delta Table."
   ]
  },
  {
   "cell_type": "code",
   "execution_count": 5,
   "id": "5241b61e",
   "metadata": {},
   "outputs": [],
   "source": [
    "# Initialize SparkSession\n",
    "spark = SparkSession.builder \\\n",
    "    .appName(\"add-delta-lake\") \\\n",
    "    .master(\"spark://spark-master:7077\") \\\n",
    "    .config(\"spark.jars.packages\", \"io.delta:delta-spark_2.12:3.2.0\")\\\n",
    "    .config(\"spark.sql.extensions\", \"io.delta.sql.DeltaSparkSessionExtension\") \\\n",
    "    .config(\"spark.sql.catalog.spark_catalog\", \"org.apache.spark.sql.delta.catalog.DeltaCatalog\")\\\n",
    "    .getOrCreate()\n"
   ]
  },
  {
   "cell_type": "code",
   "execution_count": 4,
   "id": "d50f5cef-634f-447b-840c-3d24785da0fd",
   "metadata": {},
   "outputs": [],
   "source": [
    "# To stop SparkSession\n",
    "# spark.stop()"
   ]
  },
  {
   "cell_type": "code",
   "execution_count": 14,
   "id": "cf7dd13b-e3cc-4962-8f20-9e2e552b04e8",
   "metadata": {},
   "outputs": [],
   "source": [
    "# Example DataFrame creation\n",
    "data = [(\"Jerin\", 29), (\"Aayush\", 35), (\"Neeraj\", 28)]\n",
    "columns = [\"Name\", \"Age\"]\n",
    "df = spark.createDataFrame(data, columns)"
   ]
  },
  {
   "cell_type": "code",
   "execution_count": 15,
   "id": "a538f060-489d-4f68-87ed-22b7e29ab06c",
   "metadata": {},
   "outputs": [
    {
     "name": "stdout",
     "output_type": "stream",
     "text": [
      "+------+---+\n",
      "|  Name|Age|\n",
      "+------+---+\n",
      "| Jerin| 29|\n",
      "|Aayush| 35|\n",
      "|Neeraj| 28|\n",
      "+------+---+\n",
      "\n"
     ]
    }
   ],
   "source": [
    "df.show()"
   ]
  },
  {
   "cell_type": "markdown",
   "id": "e919f596-aa33-462c-9834-c693e4b322ca",
   "metadata": {},
   "source": [
    "### Create Unmanaged Delta Table, This can be accessed only using location of the data.\n",
    "- This unmanaged table is not registered in Delta Catalog, therefore this can not be accessed via Table Reference."
   ]
  },
  {
   "cell_type": "code",
   "execution_count": 23,
   "id": "a3f2572f-86cd-475d-84a2-349db4707973",
   "metadata": {},
   "outputs": [
    {
     "name": "stderr",
     "output_type": "stream",
     "text": [
      "                                                                                "
     ]
    }
   ],
   "source": [
    "# unmanaged delta table - not registered in delta catalog\n",
    "df.write.format(\"delta\").save(\"/opt/spark/data/test-delta-table\")"
   ]
  },
  {
   "cell_type": "code",
   "execution_count": 24,
   "id": "5223ab16-f786-4e3a-8bca-75f13ec07740",
   "metadata": {},
   "outputs": [
    {
     "name": "stderr",
     "output_type": "stream",
     "text": [
      "                                                                                "
     ]
    },
    {
     "name": "stdout",
     "output_type": "stream",
     "text": [
      "+------+---+\n",
      "|  Name|Age|\n",
      "+------+---+\n",
      "|Aayush| 35|\n",
      "|Neeraj| 28|\n",
      "| Jerin| 29|\n",
      "+------+---+\n",
      "\n"
     ]
    }
   ],
   "source": [
    "# Read unmanaged delta table\n",
    "spark.sql(\"SELECT * FROM delta.`/opt/spark/data/test-delta-table`;\").show()"
   ]
  },
  {
   "cell_type": "markdown",
   "id": "0acffeb2-12f6-45e2-8d3a-7bb245a983aa",
   "metadata": {},
   "source": [
    "### Create Managed Delta Table, this can be accessed using SQL Table Reference.\n",
    "- This managed table is registered in Delta Catalog, therefore this can be accessed via SQL Table Reference."
   ]
  },
  {
   "cell_type": "code",
   "execution_count": 32,
   "id": "fe754e20-f188-4217-8c07-2bc0c2314cc9",
   "metadata": {},
   "outputs": [],
   "source": [
    "# Create a delta table, which is registered in delta catalog\n",
    "df.write.format(\"delta\").saveAsTable(\"`test_delta_table`\")"
   ]
  },
  {
   "cell_type": "code",
   "execution_count": 34,
   "id": "6501cc6b-aa40-4da3-bcc2-2d66c9b894c8",
   "metadata": {},
   "outputs": [
    {
     "name": "stderr",
     "output_type": "stream",
     "text": [
      "                                                                                "
     ]
    },
    {
     "name": "stdout",
     "output_type": "stream",
     "text": [
      "+------+---+\n",
      "|  Name|Age|\n",
      "+------+---+\n",
      "|Aayush| 35|\n",
      "|Neeraj| 28|\n",
      "| Jerin| 29|\n",
      "+------+---+\n",
      "\n"
     ]
    }
   ],
   "source": [
    "# Read managed delta table, which is registered in delta catalog\n",
    "spark.sql(\"select * from `test_delta_table`;\").show()"
   ]
  },
  {
   "cell_type": "code",
   "execution_count": 39,
   "id": "a8dc4cca-0d67-423d-ac66-e8dafcf88bbe",
   "metadata": {},
   "outputs": [
    {
     "data": {
      "text/plain": [
       "DataFrame[]"
      ]
     },
     "execution_count": 39,
     "metadata": {},
     "output_type": "execute_result"
    }
   ],
   "source": [
    "# Another method to create a delta table, which is registered in delta catalog\n",
    "spark.sql(\"\"\"\n",
    "    CREATE TABLE test_delta_table_method2\n",
    "    USING DELTA\n",
    "    LOCATION '/opt/spark/data/test-delta-table'\n",
    "\"\"\")"
   ]
  },
  {
   "cell_type": "code",
   "execution_count": 40,
   "id": "a347b364-aa7a-4223-9bd9-6aa7371a2d55",
   "metadata": {},
   "outputs": [
    {
     "name": "stderr",
     "output_type": "stream",
     "text": [
      "                                                                                "
     ]
    },
    {
     "name": "stdout",
     "output_type": "stream",
     "text": [
      "+------+---+\n",
      "|  Name|Age|\n",
      "+------+---+\n",
      "|Aayush| 35|\n",
      "|Neeraj| 28|\n",
      "| Jerin| 29|\n",
      "+------+---+\n",
      "\n"
     ]
    }
   ],
   "source": [
    "# Read managed delta table, which is registered in delta catalog\n",
    "spark.sql(\"select * from `test_delta_table_method2`;\").show()"
   ]
  },
  {
   "cell_type": "code",
   "execution_count": 41,
   "id": "3b9f2e27-a590-4261-b43e-d8fb7243229b",
   "metadata": {},
   "outputs": [
    {
     "name": "stdout",
     "output_type": "stream",
     "text": [
      "++\n",
      "||\n",
      "++\n",
      "++\n",
      "\n"
     ]
    }
   ],
   "source": [
    "# Drop managed delta table\n",
    "spark.sql(\"DROP TABLE `test_delta_table_method2`;\").show()"
   ]
  },
  {
   "cell_type": "code",
   "execution_count": 47,
   "id": "445515c1-b8e6-4439-9e49-0ed0ed568cce",
   "metadata": {
    "editable": true,
    "slideshow": {
     "slide_type": ""
    },
    "tags": []
   },
   "outputs": [
    {
     "name": "stdout",
     "output_type": "stream",
     "text": [
      "+---------+\n",
      "|namespace|\n",
      "+---------+\n",
      "|  default|\n",
      "+---------+\n",
      "\n"
     ]
    }
   ],
   "source": [
    "# Show current database\n",
    "spark.sql(\"SHOW DATABASES;\").show()"
   ]
  },
  {
   "cell_type": "code",
   "execution_count": 45,
   "id": "0841f3b6-4251-422a-b3fb-78f9b0a0c388",
   "metadata": {},
   "outputs": [
    {
     "name": "stdout",
     "output_type": "stream",
     "text": [
      "+---------+----------------+-----------+\n",
      "|namespace|       tableName|isTemporary|\n",
      "+---------+----------------+-----------+\n",
      "|  default|test_delta_table|      false|\n",
      "+---------+----------------+-----------+\n",
      "\n"
     ]
    }
   ],
   "source": [
    "# Show Registered Tables\n",
    "spark.sql(\"SHOW TABLES;\").show()"
   ]
  },
  {
   "cell_type": "code",
   "execution_count": null,
   "id": "f9e45b6c-67bd-43e4-8451-0fc7b2d0ce21",
   "metadata": {},
   "outputs": [],
   "source": []
  }
 ],
 "metadata": {
  "kernelspec": {
   "display_name": "Python 3 (ipykernel)",
   "language": "python",
   "name": "python3"
  },
  "language_info": {
   "codemirror_mode": {
    "name": "ipython",
    "version": 3
   },
   "file_extension": ".py",
   "mimetype": "text/x-python",
   "name": "python",
   "nbconvert_exporter": "python",
   "pygments_lexer": "ipython3",
   "version": "3.11.11"
  }
 },
 "nbformat": 4,
 "nbformat_minor": 5
}
