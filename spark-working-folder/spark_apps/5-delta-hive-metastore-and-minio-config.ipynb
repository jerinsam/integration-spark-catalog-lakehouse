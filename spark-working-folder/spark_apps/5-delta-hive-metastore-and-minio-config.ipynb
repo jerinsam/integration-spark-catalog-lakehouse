{
 "cells": [
  {
   "cell_type": "code",
   "execution_count": 1,
   "id": "b61aad15-e4d6-4f5a-8e08-fc1db0c578d8",
   "metadata": {},
   "outputs": [],
   "source": [
    "from pyspark.sql import SparkSession"
   ]
  },
  {
   "cell_type": "code",
   "execution_count": 2,
   "id": "7ccd36bb-4e21-4352-98f4-55df269b6214",
   "metadata": {},
   "outputs": [],
   "source": [
    "%load_ext sparksql_magic"
   ]
  },
  {
   "cell_type": "markdown",
   "id": "16db51e2-6f41-45bf-9a7b-f7e44180cf76",
   "metadata": {},
   "source": [
    "#### Following code is used to initilize the Spark Session. Delta lake package is used while creating the spark session, which will help to save spark dataframe as Delta Table. Hive metastore is used as default catalog and Minio as Object Storage \n",
    "  "
   ]
  },
  {
   "cell_type": "code",
   "execution_count": 3,
   "id": "5241b61e",
   "metadata": {
    "scrolled": true
   },
   "outputs": [
    {
     "name": "stdout",
     "output_type": "stream",
     "text": [
      ":: loading settings :: url = jar:file:/opt/spark/jars/ivy-2.5.1.jar!/org/apache/ivy/core/settings/ivysettings.xml\n"
     ]
    },
    {
     "name": "stderr",
     "output_type": "stream",
     "text": [
      "Ivy Default Cache set to: /root/.ivy2/cache\n",
      "The jars for the packages stored in: /root/.ivy2/jars\n",
      "io.delta#delta-spark_2.12 added as a dependency\n",
      "org.apache.hadoop#hadoop-aws added as a dependency\n",
      "org.postgresql#postgresql added as a dependency\n",
      ":: resolving dependencies :: org.apache.spark#spark-submit-parent-c266f420-4ad3-440b-bd96-f1dfa2ef8548;1.0\n",
      "\tconfs: [default]\n",
      "\tfound io.delta#delta-spark_2.12;3.3.0 in central\n",
      "\tfound io.delta#delta-storage;3.3.0 in central\n",
      "\tfound org.antlr#antlr4-runtime;4.9.3 in central\n",
      "\tfound org.apache.hadoop#hadoop-aws;3.3.4 in central\n",
      "\tfound com.amazonaws#aws-java-sdk-bundle;1.12.262 in central\n",
      "\tfound org.wildfly.openssl#wildfly-openssl;1.0.7.Final in central\n",
      "\tfound org.postgresql#postgresql;42.6.0 in central\n",
      "\tfound org.checkerframework#checker-qual;3.31.0 in central\n",
      "downloading https://repo1.maven.org/maven2/io/delta/delta-spark_2.12/3.3.0/delta-spark_2.12-3.3.0.jar ...\n",
      "\t[SUCCESSFUL ] io.delta#delta-spark_2.12;3.3.0!delta-spark_2.12.jar (2287ms)\n",
      "downloading https://repo1.maven.org/maven2/org/apache/hadoop/hadoop-aws/3.3.4/hadoop-aws-3.3.4.jar ...\n",
      "\t[SUCCESSFUL ] org.apache.hadoop#hadoop-aws;3.3.4!hadoop-aws.jar (615ms)\n",
      "downloading https://repo1.maven.org/maven2/org/postgresql/postgresql/42.6.0/postgresql-42.6.0.jar ...\n",
      "\t[SUCCESSFUL ] org.postgresql#postgresql;42.6.0!postgresql.jar (622ms)\n",
      "downloading https://repo1.maven.org/maven2/io/delta/delta-storage/3.3.0/delta-storage-3.3.0.jar ...\n",
      "\t[SUCCESSFUL ] io.delta#delta-storage;3.3.0!delta-storage.jar (585ms)\n",
      "downloading https://repo1.maven.org/maven2/org/antlr/antlr4-runtime/4.9.3/antlr4-runtime-4.9.3.jar ...\n",
      "\t[SUCCESSFUL ] org.antlr#antlr4-runtime;4.9.3!antlr4-runtime.jar (602ms)\n",
      "downloading https://repo1.maven.org/maven2/com/amazonaws/aws-java-sdk-bundle/1.12.262/aws-java-sdk-bundle-1.12.262.jar ...\n",
      "\t[SUCCESSFUL ] com.amazonaws#aws-java-sdk-bundle;1.12.262!aws-java-sdk-bundle.jar (27950ms)\n",
      "downloading https://repo1.maven.org/maven2/org/wildfly/openssl/wildfly-openssl/1.0.7.Final/wildfly-openssl-1.0.7.Final.jar ...\n",
      "\t[SUCCESSFUL ] org.wildfly.openssl#wildfly-openssl;1.0.7.Final!wildfly-openssl.jar (593ms)\n",
      "downloading https://repo1.maven.org/maven2/org/checkerframework/checker-qual/3.31.0/checker-qual-3.31.0.jar ...\n",
      "\t[SUCCESSFUL ] org.checkerframework#checker-qual;3.31.0!checker-qual.jar (591ms)\n",
      ":: resolution report :: resolve 18176ms :: artifacts dl 33863ms\n",
      "\t:: modules in use:\n",
      "\tcom.amazonaws#aws-java-sdk-bundle;1.12.262 from central in [default]\n",
      "\tio.delta#delta-spark_2.12;3.3.0 from central in [default]\n",
      "\tio.delta#delta-storage;3.3.0 from central in [default]\n",
      "\torg.antlr#antlr4-runtime;4.9.3 from central in [default]\n",
      "\torg.apache.hadoop#hadoop-aws;3.3.4 from central in [default]\n",
      "\torg.checkerframework#checker-qual;3.31.0 from central in [default]\n",
      "\torg.postgresql#postgresql;42.6.0 from central in [default]\n",
      "\torg.wildfly.openssl#wildfly-openssl;1.0.7.Final from central in [default]\n",
      "\t---------------------------------------------------------------------\n",
      "\t|                  |            modules            ||   artifacts   |\n",
      "\t|       conf       | number| search|dwnlded|evicted|| number|dwnlded|\n",
      "\t---------------------------------------------------------------------\n",
      "\t|      default     |   8   |   8   |   8   |   0   ||   8   |   8   |\n",
      "\t---------------------------------------------------------------------\n",
      ":: retrieving :: org.apache.spark#spark-submit-parent-c266f420-4ad3-440b-bd96-f1dfa2ef8548\n",
      "\tconfs: [default]\n",
      "\t8 artifacts copied, 0 already retrieved (284010kB/369ms)\n",
      "25/01/24 08:18:55 WARN NativeCodeLoader: Unable to load native-hadoop library for your platform... using builtin-java classes where applicable\n",
      "Setting default log level to \"WARN\".\n",
      "To adjust logging level use sc.setLogLevel(newLevel). For SparkR, use setLogLevel(newLevel).\n"
     ]
    }
   ],
   "source": [
    "# # Initialize SparkSession\n",
    "# # Use latest jars for delta lake. \n",
    "# Create minio bucket (\"hivebucket\")\n",
    "# \"s3a://hivebucket/delta-lake/data\"\n",
    "    \n",
    "spark = SparkSession.builder \\\n",
    "    .appName(\"add-delta-lake_1\") \\\n",
    "    .master(\"spark://spark-master:7077\") \\\n",
    "    .config(\"spark.jars.packages\", \"io.delta:delta-spark_2.12:3.3.0,org.apache.hadoop:hadoop-aws:3.3.4,org.postgresql:postgresql:42.6.0\") \\\n",
    "    .config(\"spark.sql.extensions\", \"io.delta.sql.DeltaSparkSessionExtension\") \\\n",
    "    .config(\"spark.sql.catalog.spark_catalog\", \"org.apache.spark.sql.delta.catalog.DeltaCatalog\") \\\n",
    "    .config(\"spark.hadoop.fs.s3a.endpoint\", \"http://minio:9000\") \\\n",
    "    .config(\"spark.hadoop.fs.s3a.access.key\", \"root\") \\\n",
    "    .config(\"spark.hadoop.fs.s3a.secret.key\", \"jerinminioserver\") \\\n",
    "    .config(\"spark.hadoop.fs.s3a.path.style.access\", \"true\") \\\n",
    "    .config(\"spark.hadoop.fs.s3a.impl\", \"org.apache.hadoop.fs.s3a.S3AFileSystem\") \\\n",
    "    .config(\"spark.sql.warehouse.dir\", \"s3a://hivebucket/delta-lake/data\") \\\n",
    "    .config(\"spark.sql.catalogImplementation\", \"hive\") \\\n",
    "    .config(\"spark.hadoop.hive.metastore.uris\", \"thrift://hive-metastore:9083\") \\\n",
    "    .config(\"spark.hadoop.datanucleus.connection.driver\", \"org.postgresql.Driver\") \\\n",
    "    .config(\"spark.hadoop.datanucleus.ConnectionURL\", \"jdbc:postgresql://postgresdb:5432/hivemetastore\") \\\n",
    "    .config(\"spark.hadoop.datanucleus.ConnectionUserName\", \"jerin\") \\\n",
    "    .config(\"spark.hadoop.datanucleus.ConnectionPassword\", \"jerinpostgresql\") \\\n",
    "    .enableHiveSupport() \\\n",
    "    .getOrCreate()\n"
   ]
  },
  {
   "cell_type": "code",
   "execution_count": 8,
   "id": "d50f5cef-634f-447b-840c-3d24785da0fd",
   "metadata": {},
   "outputs": [],
   "source": [
    "# To stop SparkSession\n",
    "spark.stop()"
   ]
  },
  {
   "cell_type": "code",
   "execution_count": 85,
   "id": "5dfa4f79-76b1-49c3-95a7-89ed84c111e4",
   "metadata": {
    "collapsed": true,
    "jupyter": {
     "outputs_hidden": true
    },
    "scrolled": true
   },
   "outputs": [
    {
     "data": {
      "text/plain": [
       "[('spark.eventLog.enabled', 'true'),\n",
       " ('spark.jars',\n",
       "  'file:///root/.ivy2/jars/io.delta_delta-spark_2.12-3.2.0.jar,file:///root/.ivy2/jars/io.unitycatalog_unitycatalog-spark_2.12-0.2.0.jar,file:///root/.ivy2/jars/io.delta_delta-storage-3.2.0.jar,file:///root/.ivy2/jars/org.antlr_antlr4-runtime-4.9.3.jar,file:///root/.ivy2/jars/io.unitycatalog_unitycatalog-client-0.2.0.jar,file:///root/.ivy2/jars/org.slf4j_slf4j-api-2.0.13.jar,file:///root/.ivy2/jars/org.apache.logging.log4j_log4j-slf4j2-impl-2.23.1.jar,file:///root/.ivy2/jars/org.apache.logging.log4j_log4j-api-2.23.1.jar,file:///root/.ivy2/jars/com.fasterxml.jackson.core_jackson-databind-2.15.0.jar,file:///root/.ivy2/jars/com.fasterxml.jackson.module_jackson-module-scala_2.12-2.15.0.jar,file:///root/.ivy2/jars/com.fasterxml.jackson.core_jackson-annotations-2.15.0.jar,file:///root/.ivy2/jars/com.fasterxml.jackson.core_jackson-core-2.15.0.jar,file:///root/.ivy2/jars/com.fasterxml.jackson.dataformat_jackson-dataformat-xml-2.15.0.jar,file:///root/.ivy2/jars/org.antlr_antlr4-4.9.3.jar,file:///root/.ivy2/jars/org.apache.hadoop_hadoop-client-runtime-3.4.0.jar,file:///root/.ivy2/jars/com.fasterxml.jackson.datatype_jackson-datatype-jsr310-2.17.0.jar,file:///root/.ivy2/jars/org.openapitools_jackson-databind-nullable-0.2.6.jar,file:///root/.ivy2/jars/com.google.code.findbugs_jsr305-3.0.2.jar,file:///root/.ivy2/jars/org.apache.logging.log4j_log4j-core-2.23.1.jar,file:///root/.ivy2/jars/com.thoughtworks.paranamer_paranamer-2.8.jar,file:///root/.ivy2/jars/org.codehaus.woodstox_stax2-api-4.2.1.jar,file:///root/.ivy2/jars/com.fasterxml.woodstox_woodstox-core-6.5.1.jar,file:///root/.ivy2/jars/org.antlr_antlr-runtime-3.5.2.jar,file:///root/.ivy2/jars/org.antlr_ST4-4.3.1.jar,file:///root/.ivy2/jars/org.abego.treelayout_org.abego.treelayout.core-1.0.3.jar,file:///root/.ivy2/jars/org.glassfish_javax.json-1.0.4.jar,file:///root/.ivy2/jars/com.ibm.icu_icu4j-69.1.jar,file:///root/.ivy2/jars/org.apache.hadoop_hadoop-client-api-3.4.0.jar,file:///root/.ivy2/jars/org.xerial.snappy_snappy-java-1.1.10.4.jar,file:///root/.ivy2/jars/commons-logging_commons-logging-1.2.jar'),\n",
       " ('spark.app.id', 'app-20250103065338-0003'),\n",
       " ('spark.app.startTime', '1735887217085'),\n",
       " ('spark.app.submitTime', '1735887216550'),\n",
       " ('spark.files',\n",
       "  'file:///root/.ivy2/jars/io.delta_delta-spark_2.12-3.2.0.jar,file:///root/.ivy2/jars/io.unitycatalog_unitycatalog-spark_2.12-0.2.0.jar,file:///root/.ivy2/jars/io.delta_delta-storage-3.2.0.jar,file:///root/.ivy2/jars/org.antlr_antlr4-runtime-4.9.3.jar,file:///root/.ivy2/jars/io.unitycatalog_unitycatalog-client-0.2.0.jar,file:///root/.ivy2/jars/org.slf4j_slf4j-api-2.0.13.jar,file:///root/.ivy2/jars/org.apache.logging.log4j_log4j-slf4j2-impl-2.23.1.jar,file:///root/.ivy2/jars/org.apache.logging.log4j_log4j-api-2.23.1.jar,file:///root/.ivy2/jars/com.fasterxml.jackson.core_jackson-databind-2.15.0.jar,file:///root/.ivy2/jars/com.fasterxml.jackson.module_jackson-module-scala_2.12-2.15.0.jar,file:///root/.ivy2/jars/com.fasterxml.jackson.core_jackson-annotations-2.15.0.jar,file:///root/.ivy2/jars/com.fasterxml.jackson.core_jackson-core-2.15.0.jar,file:///root/.ivy2/jars/com.fasterxml.jackson.dataformat_jackson-dataformat-xml-2.15.0.jar,file:///root/.ivy2/jars/org.antlr_antlr4-4.9.3.jar,file:///root/.ivy2/jars/org.apache.hadoop_hadoop-client-runtime-3.4.0.jar,file:///root/.ivy2/jars/com.fasterxml.jackson.datatype_jackson-datatype-jsr310-2.17.0.jar,file:///root/.ivy2/jars/org.openapitools_jackson-databind-nullable-0.2.6.jar,file:///root/.ivy2/jars/com.google.code.findbugs_jsr305-3.0.2.jar,file:///root/.ivy2/jars/org.apache.logging.log4j_log4j-core-2.23.1.jar,file:///root/.ivy2/jars/com.thoughtworks.paranamer_paranamer-2.8.jar,file:///root/.ivy2/jars/org.codehaus.woodstox_stax2-api-4.2.1.jar,file:///root/.ivy2/jars/com.fasterxml.woodstox_woodstox-core-6.5.1.jar,file:///root/.ivy2/jars/org.antlr_antlr-runtime-3.5.2.jar,file:///root/.ivy2/jars/org.antlr_ST4-4.3.1.jar,file:///root/.ivy2/jars/org.abego.treelayout_org.abego.treelayout.core-1.0.3.jar,file:///root/.ivy2/jars/org.glassfish_javax.json-1.0.4.jar,file:///root/.ivy2/jars/com.ibm.icu_icu4j-69.1.jar,file:///root/.ivy2/jars/org.apache.hadoop_hadoop-client-api-3.4.0.jar,file:///root/.ivy2/jars/org.xerial.snappy_snappy-java-1.1.10.4.jar,file:///root/.ivy2/jars/commons-logging_commons-logging-1.2.jar'),\n",
       " ('spark.master', 'spark://spark-master:7077'),\n",
       " ('spark.serializer.objectStreamReset', '100'),\n",
       " ('spark.submit.deployMode', 'client'),\n",
       " ('spark.sql.catalog.unity.token', ''),\n",
       " ('spark.driver.port', '41263'),\n",
       " ('spark.driver.extraJavaOptions',\n",
       "  '-Djava.net.preferIPv6Addresses=false -XX:+IgnoreUnrecognizedVMOptions --add-opens=java.base/java.lang=ALL-UNNAMED --add-opens=java.base/java.lang.invoke=ALL-UNNAMED --add-opens=java.base/java.lang.reflect=ALL-UNNAMED --add-opens=java.base/java.io=ALL-UNNAMED --add-opens=java.base/java.net=ALL-UNNAMED --add-opens=java.base/java.nio=ALL-UNNAMED --add-opens=java.base/java.util=ALL-UNNAMED --add-opens=java.base/java.util.concurrent=ALL-UNNAMED --add-opens=java.base/java.util.concurrent.atomic=ALL-UNNAMED --add-opens=java.base/jdk.internal.ref=ALL-UNNAMED --add-opens=java.base/sun.nio.ch=ALL-UNNAMED --add-opens=java.base/sun.nio.cs=ALL-UNNAMED --add-opens=java.base/sun.security.action=ALL-UNNAMED --add-opens=java.base/sun.util.calendar=ALL-UNNAMED --add-opens=java.security.jgss/sun.security.krb5=ALL-UNNAMED -Djdk.reflect.useDirectMethodHandle=false'),\n",
       " ('spark.submit.pyFiles',\n",
       "  '/root/.ivy2/jars/io.delta_delta-spark_2.12-3.2.0.jar,/root/.ivy2/jars/io.unitycatalog_unitycatalog-spark_2.12-0.2.0.jar,/root/.ivy2/jars/io.delta_delta-storage-3.2.0.jar,/root/.ivy2/jars/org.antlr_antlr4-runtime-4.9.3.jar,/root/.ivy2/jars/io.unitycatalog_unitycatalog-client-0.2.0.jar,/root/.ivy2/jars/org.slf4j_slf4j-api-2.0.13.jar,/root/.ivy2/jars/org.apache.logging.log4j_log4j-slf4j2-impl-2.23.1.jar,/root/.ivy2/jars/org.apache.logging.log4j_log4j-api-2.23.1.jar,/root/.ivy2/jars/com.fasterxml.jackson.core_jackson-databind-2.15.0.jar,/root/.ivy2/jars/com.fasterxml.jackson.module_jackson-module-scala_2.12-2.15.0.jar,/root/.ivy2/jars/com.fasterxml.jackson.core_jackson-annotations-2.15.0.jar,/root/.ivy2/jars/com.fasterxml.jackson.core_jackson-core-2.15.0.jar,/root/.ivy2/jars/com.fasterxml.jackson.dataformat_jackson-dataformat-xml-2.15.0.jar,/root/.ivy2/jars/org.antlr_antlr4-4.9.3.jar,/root/.ivy2/jars/org.apache.hadoop_hadoop-client-runtime-3.4.0.jar,/root/.ivy2/jars/com.fasterxml.jackson.datatype_jackson-datatype-jsr310-2.17.0.jar,/root/.ivy2/jars/org.openapitools_jackson-databind-nullable-0.2.6.jar,/root/.ivy2/jars/com.google.code.findbugs_jsr305-3.0.2.jar,/root/.ivy2/jars/org.apache.logging.log4j_log4j-core-2.23.1.jar,/root/.ivy2/jars/com.thoughtworks.paranamer_paranamer-2.8.jar,/root/.ivy2/jars/org.codehaus.woodstox_stax2-api-4.2.1.jar,/root/.ivy2/jars/com.fasterxml.woodstox_woodstox-core-6.5.1.jar,/root/.ivy2/jars/org.antlr_antlr-runtime-3.5.2.jar,/root/.ivy2/jars/org.antlr_ST4-4.3.1.jar,/root/.ivy2/jars/org.abego.treelayout_org.abego.treelayout.core-1.0.3.jar,/root/.ivy2/jars/org.glassfish_javax.json-1.0.4.jar,/root/.ivy2/jars/com.ibm.icu_icu4j-69.1.jar,/root/.ivy2/jars/org.apache.hadoop_hadoop-client-api-3.4.0.jar,/root/.ivy2/jars/org.xerial.snappy_snappy-java-1.1.10.4.jar,/root/.ivy2/jars/commons-logging_commons-logging-1.2.jar'),\n",
       " ('spark.executor.id', 'driver'),\n",
       " ('spark.sql.warehouse.dir', 'file:/opt/spark/apps/spark-warehouse'),\n",
       " ('spark.app.initial.file.urls',\n",
       "  'spark://2c03a8ef8999:41263/files/org.slf4j_slf4j-api-2.0.13.jar,spark://2c03a8ef8999:41263/files/org.apache.hadoop_hadoop-client-api-3.4.0.jar,spark://2c03a8ef8999:41263/files/io.delta_delta-spark_2.12-3.2.0.jar,spark://2c03a8ef8999:41263/files/io.unitycatalog_unitycatalog-spark_2.12-0.2.0.jar,spark://2c03a8ef8999:41263/files/io.unitycatalog_unitycatalog-client-0.2.0.jar,spark://2c03a8ef8999:41263/files/commons-logging_commons-logging-1.2.jar,spark://2c03a8ef8999:41263/files/com.fasterxml.jackson.core_jackson-core-2.15.0.jar,spark://2c03a8ef8999:41263/files/com.google.code.findbugs_jsr305-3.0.2.jar,spark://2c03a8ef8999:41263/files/org.apache.hadoop_hadoop-client-runtime-3.4.0.jar,spark://2c03a8ef8999:41263/files/org.abego.treelayout_org.abego.treelayout.core-1.0.3.jar,spark://2c03a8ef8999:41263/files/org.apache.logging.log4j_log4j-api-2.23.1.jar,spark://2c03a8ef8999:41263/files/org.antlr_antlr-runtime-3.5.2.jar,spark://2c03a8ef8999:41263/files/com.fasterxml.jackson.datatype_jackson-datatype-jsr310-2.17.0.jar,spark://2c03a8ef8999:41263/files/org.antlr_antlr4-4.9.3.jar,spark://2c03a8ef8999:41263/files/org.glassfish_javax.json-1.0.4.jar,spark://2c03a8ef8999:41263/files/com.fasterxml.jackson.module_jackson-module-scala_2.12-2.15.0.jar,spark://2c03a8ef8999:41263/files/org.apache.logging.log4j_log4j-core-2.23.1.jar,spark://2c03a8ef8999:41263/files/org.xerial.snappy_snappy-java-1.1.10.4.jar,spark://2c03a8ef8999:41263/files/com.fasterxml.woodstox_woodstox-core-6.5.1.jar,spark://2c03a8ef8999:41263/files/org.antlr_antlr4-runtime-4.9.3.jar,spark://2c03a8ef8999:41263/files/com.ibm.icu_icu4j-69.1.jar,spark://2c03a8ef8999:41263/files/org.apache.logging.log4j_log4j-slf4j2-impl-2.23.1.jar,spark://2c03a8ef8999:41263/files/io.delta_delta-storage-3.2.0.jar,spark://2c03a8ef8999:41263/files/org.antlr_ST4-4.3.1.jar,spark://2c03a8ef8999:41263/files/com.thoughtworks.paranamer_paranamer-2.8.jar,spark://2c03a8ef8999:41263/files/com.fasterxml.jackson.core_jackson-databind-2.15.0.jar,spark://2c03a8ef8999:41263/files/com.fasterxml.jackson.dataformat_jackson-dataformat-xml-2.15.0.jar,spark://2c03a8ef8999:41263/files/org.openapitools_jackson-databind-nullable-0.2.6.jar,spark://2c03a8ef8999:41263/files/org.codehaus.woodstox_stax2-api-4.2.1.jar,spark://2c03a8ef8999:41263/files/com.fasterxml.jackson.core_jackson-annotations-2.15.0.jar'),\n",
       " ('spark.sql.catalog.unity', 'io.unitycatalog.spark.UCSingleCatalog'),\n",
       " ('spark.app.name', 'unity-catalog-pyspark-session'),\n",
       " ('spark.history.fs.logDirectory', '/opt/spark/spark-events'),\n",
       " ('spark.sql.catalogImplementation', 'hive'),\n",
       " ('spark.sql.extensions', 'io.delta.sql.DeltaSparkSessionExtension'),\n",
       " ('spark.sql.catalog.spark_catalog', 'io.unitycatalog.spark.UCSingleCatalog'),\n",
       " ('spark.rdd.compress', 'True'),\n",
       " ('spark.executor.extraJavaOptions',\n",
       "  '-Djava.net.preferIPv6Addresses=false -XX:+IgnoreUnrecognizedVMOptions --add-opens=java.base/java.lang=ALL-UNNAMED --add-opens=java.base/java.lang.invoke=ALL-UNNAMED --add-opens=java.base/java.lang.reflect=ALL-UNNAMED --add-opens=java.base/java.io=ALL-UNNAMED --add-opens=java.base/java.net=ALL-UNNAMED --add-opens=java.base/java.nio=ALL-UNNAMED --add-opens=java.base/java.util=ALL-UNNAMED --add-opens=java.base/java.util.concurrent=ALL-UNNAMED --add-opens=java.base/java.util.concurrent.atomic=ALL-UNNAMED --add-opens=java.base/jdk.internal.ref=ALL-UNNAMED --add-opens=java.base/sun.nio.ch=ALL-UNNAMED --add-opens=java.base/sun.nio.cs=ALL-UNNAMED --add-opens=java.base/sun.security.action=ALL-UNNAMED --add-opens=java.base/sun.util.calendar=ALL-UNNAMED --add-opens=java.security.jgss/sun.security.krb5=ALL-UNNAMED -Djdk.reflect.useDirectMethodHandle=false'),\n",
       " ('spark.driver.host', '2c03a8ef8999'),\n",
       " ('spark.app.initial.jar.urls',\n",
       "  'spark://2c03a8ef8999:41263/jars/org.xerial.snappy_snappy-java-1.1.10.4.jar,spark://2c03a8ef8999:41263/jars/com.fasterxml.jackson.core_jackson-core-2.15.0.jar,spark://2c03a8ef8999:41263/jars/com.fasterxml.jackson.module_jackson-module-scala_2.12-2.15.0.jar,spark://2c03a8ef8999:41263/jars/com.fasterxml.jackson.core_jackson-databind-2.15.0.jar,spark://2c03a8ef8999:41263/jars/org.antlr_antlr-runtime-3.5.2.jar,spark://2c03a8ef8999:41263/jars/com.fasterxml.jackson.datatype_jackson-datatype-jsr310-2.17.0.jar,spark://2c03a8ef8999:41263/jars/com.fasterxml.woodstox_woodstox-core-6.5.1.jar,spark://2c03a8ef8999:41263/jars/com.fasterxml.jackson.core_jackson-annotations-2.15.0.jar,spark://2c03a8ef8999:41263/jars/com.thoughtworks.paranamer_paranamer-2.8.jar,spark://2c03a8ef8999:41263/jars/org.apache.hadoop_hadoop-client-api-3.4.0.jar,spark://2c03a8ef8999:41263/jars/org.apache.logging.log4j_log4j-slf4j2-impl-2.23.1.jar,spark://2c03a8ef8999:41263/jars/org.apache.logging.log4j_log4j-core-2.23.1.jar,spark://2c03a8ef8999:41263/jars/org.apache.hadoop_hadoop-client-runtime-3.4.0.jar,spark://2c03a8ef8999:41263/jars/io.unitycatalog_unitycatalog-client-0.2.0.jar,spark://2c03a8ef8999:41263/jars/org.antlr_antlr4-4.9.3.jar,spark://2c03a8ef8999:41263/jars/com.google.code.findbugs_jsr305-3.0.2.jar,spark://2c03a8ef8999:41263/jars/com.ibm.icu_icu4j-69.1.jar,spark://2c03a8ef8999:41263/jars/org.openapitools_jackson-databind-nullable-0.2.6.jar,spark://2c03a8ef8999:41263/jars/io.delta_delta-storage-3.2.0.jar,spark://2c03a8ef8999:41263/jars/io.unitycatalog_unitycatalog-spark_2.12-0.2.0.jar,spark://2c03a8ef8999:41263/jars/org.codehaus.woodstox_stax2-api-4.2.1.jar,spark://2c03a8ef8999:41263/jars/org.antlr_ST4-4.3.1.jar,spark://2c03a8ef8999:41263/jars/org.apache.logging.log4j_log4j-api-2.23.1.jar,spark://2c03a8ef8999:41263/jars/com.fasterxml.jackson.dataformat_jackson-dataformat-xml-2.15.0.jar,spark://2c03a8ef8999:41263/jars/commons-logging_commons-logging-1.2.jar,spark://2c03a8ef8999:41263/jars/org.antlr_antlr4-runtime-4.9.3.jar,spark://2c03a8ef8999:41263/jars/org.abego.treelayout_org.abego.treelayout.core-1.0.3.jar,spark://2c03a8ef8999:41263/jars/io.delta_delta-spark_2.12-3.2.0.jar,spark://2c03a8ef8999:41263/jars/org.slf4j_slf4j-api-2.0.13.jar,spark://2c03a8ef8999:41263/jars/org.glassfish_javax.json-1.0.4.jar'),\n",
       " ('spark.repl.local.jars',\n",
       "  'file:///root/.ivy2/jars/io.delta_delta-spark_2.12-3.2.0.jar,file:///root/.ivy2/jars/io.unitycatalog_unitycatalog-spark_2.12-0.2.0.jar,file:///root/.ivy2/jars/io.delta_delta-storage-3.2.0.jar,file:///root/.ivy2/jars/org.antlr_antlr4-runtime-4.9.3.jar,file:///root/.ivy2/jars/io.unitycatalog_unitycatalog-client-0.2.0.jar,file:///root/.ivy2/jars/org.slf4j_slf4j-api-2.0.13.jar,file:///root/.ivy2/jars/org.apache.logging.log4j_log4j-slf4j2-impl-2.23.1.jar,file:///root/.ivy2/jars/org.apache.logging.log4j_log4j-api-2.23.1.jar,file:///root/.ivy2/jars/com.fasterxml.jackson.core_jackson-databind-2.15.0.jar,file:///root/.ivy2/jars/com.fasterxml.jackson.module_jackson-module-scala_2.12-2.15.0.jar,file:///root/.ivy2/jars/com.fasterxml.jackson.core_jackson-annotations-2.15.0.jar,file:///root/.ivy2/jars/com.fasterxml.jackson.core_jackson-core-2.15.0.jar,file:///root/.ivy2/jars/com.fasterxml.jackson.dataformat_jackson-dataformat-xml-2.15.0.jar,file:///root/.ivy2/jars/org.antlr_antlr4-4.9.3.jar,file:///root/.ivy2/jars/org.apache.hadoop_hadoop-client-runtime-3.4.0.jar,file:///root/.ivy2/jars/com.fasterxml.jackson.datatype_jackson-datatype-jsr310-2.17.0.jar,file:///root/.ivy2/jars/org.openapitools_jackson-databind-nullable-0.2.6.jar,file:///root/.ivy2/jars/com.google.code.findbugs_jsr305-3.0.2.jar,file:///root/.ivy2/jars/org.apache.logging.log4j_log4j-core-2.23.1.jar,file:///root/.ivy2/jars/com.thoughtworks.paranamer_paranamer-2.8.jar,file:///root/.ivy2/jars/org.codehaus.woodstox_stax2-api-4.2.1.jar,file:///root/.ivy2/jars/com.fasterxml.woodstox_woodstox-core-6.5.1.jar,file:///root/.ivy2/jars/org.antlr_antlr-runtime-3.5.2.jar,file:///root/.ivy2/jars/org.antlr_ST4-4.3.1.jar,file:///root/.ivy2/jars/org.abego.treelayout_org.abego.treelayout.core-1.0.3.jar,file:///root/.ivy2/jars/org.glassfish_javax.json-1.0.4.jar,file:///root/.ivy2/jars/com.ibm.icu_icu4j-69.1.jar,file:///root/.ivy2/jars/org.apache.hadoop_hadoop-client-api-3.4.0.jar,file:///root/.ivy2/jars/org.xerial.snappy_snappy-java-1.1.10.4.jar,file:///root/.ivy2/jars/commons-logging_commons-logging-1.2.jar'),\n",
       " ('spark.sql.catalog.unity.uri', 'http://unity-catalog:8080'),\n",
       " ('spark.ui.showConsoleProgress', 'true'),\n",
       " ('spark.eventLog.dir', '/opt/spark/spark-events'),\n",
       " ('spark.sql.defaultCatalog', 'unity')]"
      ]
     },
     "execution_count": 85,
     "metadata": {},
     "output_type": "execute_result"
    }
   ],
   "source": [
    "# Get spark session config details\n",
    "# spark.sparkContext.getConf().getAll()"
   ]
  },
  {
   "cell_type": "code",
   "execution_count": 4,
   "id": "cf7dd13b-e3cc-4962-8f20-9e2e552b04e8",
   "metadata": {},
   "outputs": [
    {
     "name": "stderr",
     "output_type": "stream",
     "text": [
      "25/01/24 08:20:53 WARN MetricsConfig: Cannot locate configuration: tried hadoop-metrics2-s3a-file-system.properties,hadoop-metrics2.properties\n"
     ]
    }
   ],
   "source": [
    "# Example DataFrame creation\n",
    "data = [(\"Jerin\", 29), (\"Aayush\", 35), (\"Neeraj\", 28)]\n",
    "columns = [\"Name\", \"Age\"]\n",
    "df = spark.createDataFrame(data, columns)"
   ]
  },
  {
   "cell_type": "code",
   "execution_count": 5,
   "id": "a538f060-489d-4f68-87ed-22b7e29ab06c",
   "metadata": {},
   "outputs": [
    {
     "name": "stderr",
     "output_type": "stream",
     "text": [
      "                                                                                "
     ]
    },
    {
     "name": "stdout",
     "output_type": "stream",
     "text": [
      "+------+---+\n",
      "|  Name|Age|\n",
      "+------+---+\n",
      "| Jerin| 29|\n",
      "|Aayush| 35|\n",
      "|Neeraj| 28|\n",
      "+------+---+\n",
      "\n"
     ]
    }
   ],
   "source": [
    "df.show()"
   ]
  },
  {
   "cell_type": "code",
   "execution_count": 6,
   "id": "048b9d14-e5f4-4cd0-bce6-3bb04b1ac277",
   "metadata": {},
   "outputs": [
    {
     "data": {
      "text/html": [
       "<table><tr style=\"border-bottom: 1px solid\"><td style=\"font-weight: bold\">catalog</td></tr><tr><td>spark_catalog</td></tr></table>"
      ],
      "text/plain": [
       "<IPython.core.display.HTML object>"
      ]
     },
     "execution_count": 6,
     "metadata": {},
     "output_type": "execute_result"
    }
   ],
   "source": [
    "%%sparksql\n",
    "SHOW CATALOGS;"
   ]
  },
  {
   "cell_type": "code",
   "execution_count": 7,
   "id": "0e6d9739-8688-4eb2-acd4-07641c509728",
   "metadata": {
    "scrolled": true
   },
   "outputs": [
    {
     "name": "stderr",
     "output_type": "stream",
     "text": [
      "https://maven-central.storage-download.googleapis.com/maven2/ added as a remote repository with the name: repo-1\n",
      "https://maven-central.storage-download.googleapis.com/maven2/ added as a remote repository with the name: repo-1\n",
      "Ivy Default Cache set to: /root/.ivy2/cache\n",
      "The jars for the packages stored in: /root/.ivy2/jars\n",
      "org.apache.hive#hive-metastore added as a dependency\n",
      "org.apache.hive#hive-exec added as a dependency\n",
      "org.apache.hive#hive-common added as a dependency\n",
      "org.apache.hive#hive-serde added as a dependency\n",
      "com.google.guava#guava added as a dependency\n",
      "org.apache.hadoop#hadoop-client-api added as a dependency\n",
      "org.apache.hadoop#hadoop-client-runtime added as a dependency\n",
      ":: resolving dependencies :: org.apache.spark#spark-submit-parent-d0b6e840-45f6-4772-8ade-5aa0f5ea6361;1.0\n",
      "\tconfs: [default]\n",
      "\tfound org.apache.hive#hive-metastore;2.3.9 in central\n",
      "\tfound org.apache.hive#hive-serde;2.3.9 in central\n",
      "\tfound org.apache.hive#hive-common;2.3.9 in central\n",
      "\tfound org.apache.hive#hive-shims;2.3.9 in central\n",
      "\tfound org.apache.hive.shims#hive-shims-common;2.3.9 in central\n",
      "\tfound org.apache.logging.log4j#log4j-slf4j-impl;2.6.2 in central\n",
      "\tfound org.slf4j#slf4j-api;1.7.10 in central\n",
      "\tfound com.google.guava#guava;14.0.1 in central\n",
      "\tfound commons-lang#commons-lang;2.6 in central\n",
      "\tfound org.apache.thrift#libthrift;0.9.3 in central\n",
      "\tfound org.apache.httpcomponents#httpclient;4.4 in central\n",
      "\tfound org.apache.httpcomponents#httpcore;4.4 in central\n",
      "\tfound commons-logging#commons-logging;1.2 in central\n",
      "\tfound commons-codec#commons-codec;1.4 in central\n",
      "\tfound org.apache.zookeeper#zookeeper;3.4.6 in central\n",
      "\tfound org.slf4j#slf4j-log4j12;1.6.1 in central\n",
      "\tfound log4j#log4j;1.2.16 in central\n",
      "\tfound jline#jline;2.12 in central\n",
      "\tfound io.netty#netty;3.7.0.Final in central\n",
      "\tfound org.apache.hive.shims#hive-shims-0.23;2.3.9 in central\n",
      "\tfound org.apache.hadoop#hadoop-yarn-server-resourcemanager;2.7.2 in central\n",
      "\tfound org.apache.hadoop#hadoop-annotations;2.7.2 in central\n",
      "\tfound com.google.inject.extensions#guice-servlet;3.0 in central\n",
      "\tfound com.google.inject#guice;3.0 in central\n",
      "\tfound javax.inject#javax.inject;1 in central\n",
      "\tfound aopalliance#aopalliance;1.0 in central\n",
      "\tfound org.sonatype.sisu.inject#cglib;2.2.1-v20090111 in central\n",
      "\tfound asm#asm;3.2 in central\n",
      "\tfound com.google.protobuf#protobuf-java;2.5.0 in central\n",
      "\tfound commons-io#commons-io;2.4 in central\n",
      "\tfound com.sun.jersey#jersey-json;1.14 in central\n",
      "\tfound org.codehaus.jettison#jettison;1.1 in central\n",
      "\tfound com.sun.xml.bind#jaxb-impl;2.2.3-1 in central\n",
      "\tfound javax.xml.bind#jaxb-api;2.2.2 in central\n",
      "\tfound javax.xml.stream#stax-api;1.0-2 in central\n",
      "\tfound javax.activation#activation;1.1 in central\n",
      "\tfound org.codehaus.jackson#jackson-core-asl;1.9.13 in central\n",
      "\tfound org.codehaus.jackson#jackson-mapper-asl;1.9.13 in central\n",
      "\tfound org.codehaus.jackson#jackson-jaxrs;1.9.13 in central\n",
      "\tfound org.codehaus.jackson#jackson-xc;1.9.13 in central\n",
      "\tfound com.sun.jersey#jersey-core;1.14 in central\n",
      "\tfound com.sun.jersey.contribs#jersey-guice;1.9 in central\n",
      "\tfound com.sun.jersey#jersey-server;1.14 in central\n",
      "\tfound org.apache.hadoop#hadoop-yarn-common;2.7.2 in central\n",
      "\tfound org.apache.hadoop#hadoop-yarn-api;2.7.2 in central\n",
      "\tfound org.apache.commons#commons-compress;1.9 in central\n",
      "\tfound org.mortbay.jetty#jetty-util;6.1.26 in central\n",
      "\tfound com.sun.jersey#jersey-client;1.9 in central\n",
      "\tfound commons-cli#commons-cli;1.2 in central\n",
      "\tfound log4j#log4j;1.2.17 in central\n",
      "\tfound org.apache.hadoop#hadoop-yarn-server-common;2.7.2 in central\n",
      "\tfound org.fusesource.leveldbjni#leveldbjni-all;1.8 in central\n",
      "\tfound org.apache.hadoop#hadoop-yarn-server-applicationhistoryservice;2.7.2 in central\n",
      "\tfound commons-collections#commons-collections;3.2.2 in central\n",
      "\tfound org.apache.hadoop#hadoop-yarn-server-web-proxy;2.7.2 in central\n",
      "\tfound org.mortbay.jetty#jetty;6.1.26 in central\n",
      "\tfound org.apache.hive.shims#hive-shims-scheduler;2.3.9 in central\n",
      "\tfound org.apache.hive#hive-storage-api;2.4.0 in central\n",
      "\tfound org.apache.commons#commons-lang3;3.1 in central\n",
      "\tfound org.apache.orc#orc-core;1.3.4 in central\n",
      "\tfound io.airlift#aircompressor;0.8 in central\n",
      "\tfound io.airlift#slice;0.29 in central\n",
      "\tfound org.openjdk.jol#jol-core;0.2 in central\n",
      "\tfound org.eclipse.jetty.aggregate#jetty-all;7.6.0.v20120127 in central\n",
      "\tfound org.apache.geronimo.specs#geronimo-jta_1.1_spec;1.1.1 in central\n",
      "\tfound javax.mail#mail;1.4.1 in central\n",
      "\tfound org.apache.geronimo.specs#geronimo-jaspic_1.0_spec;1.0 in central\n",
      "\tfound org.apache.geronimo.specs#geronimo-annotation_1.0_spec;1.1.1 in central\n",
      "\tfound asm#asm-commons;3.1 in central\n",
      "\tfound asm#asm-tree;3.1 in central\n",
      "\tfound org.eclipse.jetty.orbit#javax.servlet;3.0.0.v201112011016 in central\n",
      "\tfound joda-time#joda-time;2.8.1 in central\n",
      "\tfound org.apache.logging.log4j#log4j-1.2-api;2.6.2 in central\n",
      "\tfound org.apache.logging.log4j#log4j-web;2.6.2 in central\n",
      "\tfound org.apache.ant#ant;1.9.1 in central\n",
      "\tfound org.apache.ant#ant-launcher;1.9.1 in central\n",
      "\tfound com.tdunning#json;1.8 in central\n",
      "\tfound io.dropwizard.metrics#metrics-core;3.1.0 in central\n",
      "\tfound io.dropwizard.metrics#metrics-jvm;3.1.0 in central\n",
      "\tfound io.dropwizard.metrics#metrics-json;3.1.0 in central\n",
      "\tfound com.github.joshelser#dropwizard-metrics-hadoop-metrics2-reporter;0.1.2 in central\n",
      "\tfound org.apache.hadoop#hadoop-common;2.7.2 in central\n",
      "\tfound org.apache.commons#commons-math3;3.1.1 in central\n",
      "\tfound xmlenc#xmlenc;0.52 in central\n",
      "\tfound commons-httpclient#commons-httpclient;3.1 in central\n",
      "\tfound commons-net#commons-net;3.1 in central\n",
      "\tfound javax.servlet#servlet-api;2.5 in central\n",
      "\tfound net.java.dev.jets3t#jets3t;0.9.0 in central\n",
      "\tfound com.jamesmurty.utils#java-xmlbuilder;0.4 in central\n",
      "\tfound commons-configuration#commons-configuration;1.6 in central\n",
      "\tfound commons-digester#commons-digester;1.8 in central\n",
      "\tfound commons-beanutils#commons-beanutils;1.7.0 in central\n",
      "\tfound commons-beanutils#commons-beanutils-core;1.8.0 in central\n",
      "\tfound org.apache.avro#avro;1.8.2 in central\n",
      "\tfound com.thoughtworks.paranamer#paranamer;2.7 in central\n",
      "\tfound org.xerial.snappy#snappy-java;1.1.1.3 in central\n",
      "\tfound org.tukaani#xz;1.5 in central\n",
      "\tfound com.google.code.gson#gson;2.2.4 in central\n",
      "\tfound org.apache.hadoop#hadoop-auth;2.7.2 in central\n",
      "\tfound org.apache.directory.server#apacheds-kerberos-codec;2.0.0-M15 in central\n",
      "\tfound org.apache.directory.server#apacheds-i18n;2.0.0-M15 in central\n",
      "\tfound org.apache.directory.api#api-asn1-api;1.0.0-M20 in central\n",
      "\tfound org.apache.directory.api#api-util;1.0.0-M20 in central\n",
      "\tfound com.jcraft#jsch;0.1.42 in central\n",
      "\tfound com.google.code.findbugs#jsr305;3.0.0 in central\n",
      "\tfound org.apache.htrace#htrace-core;3.1.0-incubating in central\n",
      "\tfound javax.servlet.jsp#jsp-api;2.1 in central\n",
      "\tfound org.slf4j#slf4j-log4j12;1.7.14 in central\n",
      "\tfound org.apache.hive#hive-service-rpc;2.3.9 in central\n",
      "\tfound tomcat#jasper-compiler;5.5.23 in central\n",
      "\tfound javax.servlet#jsp-api;2.0 in central\n",
      "\tfound ant#ant;1.6.5 in central\n",
      "\tfound tomcat#jasper-runtime;5.5.23 in central\n",
      "\tfound commons-el#commons-el;1.0 in central\n",
      "\tfound org.apache.thrift#libfb303;0.9.3 in central\n",
      "\tfound net.sf.opencsv#opencsv;2.3 in central\n",
      "\tfound org.apache.parquet#parquet-hadoop-bundle;1.8.1 in central\n",
      "\tfound javolution#javolution;5.5.1 in central\n",
      "\tfound org.apache.hbase#hbase-client;1.1.1 in central\n",
      "\tfound org.apache.hbase#hbase-annotations;1.1.1 in central\n",
      "\tfound com.github.stephenc.findbugs#findbugs-annotations;1.3.9-1 in central\n",
      "\tfound junit#junit;4.11 in central\n",
      "\tfound org.hamcrest#hamcrest-core;1.3 in central\n",
      "\tfound org.apache.hbase#hbase-protocol;1.1.1 in central\n",
      "\tfound io.netty#netty-all;4.0.52.Final in central\n",
      "\tfound org.jruby.jcodings#jcodings;1.0.8 in central\n",
      "\tfound org.jruby.joni#joni;2.1.2 in central\n",
      "\tfound org.apache.hadoop#hadoop-mapreduce-client-core;2.7.2 in central\n",
      "\tfound com.jolbox#bonecp;0.8.0.RELEASE in central\n",
      "\tfound com.zaxxer#HikariCP;2.5.1 in central\n",
      "\tfound org.apache.derby#derby;10.10.2.0 in central\n",
      "\tfound org.datanucleus#datanucleus-api-jdo;4.2.4 in central\n",
      "\tfound org.datanucleus#datanucleus-core;4.1.17 in central\n",
      "\tfound org.datanucleus#datanucleus-rdbms;4.1.19 in central\n",
      "\tfound commons-pool#commons-pool;1.5.4 in central\n",
      "\tfound commons-dbcp#commons-dbcp;1.4 in central\n",
      "\tfound javax.jdo#jdo-api;3.0.1 in central\n",
      "\tfound javax.transaction#jta;1.1 in central\n",
      "\tfound org.datanucleus#javax.jdo;3.2.0-m3 in central\n",
      "\tfound javax.transaction#transaction-api;1.1 in central\n",
      "\tfound org.antlr#antlr-runtime;3.5.2 in central\n",
      "\tfound co.cask.tephra#tephra-api;0.6.0 in central\n",
      "\tfound co.cask.tephra#tephra-core;0.6.0 in central\n",
      "\tfound com.google.inject.extensions#guice-assistedinject;3.0 in central\n",
      "\tfound it.unimi.dsi#fastutil;6.5.6 in central\n",
      "\tfound org.apache.twill#twill-common;0.6.0-incubating in central\n",
      "\tfound org.apache.twill#twill-core;0.6.0-incubating in central\n",
      "\tfound org.apache.twill#twill-api;0.6.0-incubating in central\n",
      "\tfound org.apache.twill#twill-discovery-api;0.6.0-incubating in central\n",
      "\tfound org.apache.twill#twill-zookeeper;0.6.0-incubating in central\n",
      "\tfound org.apache.twill#twill-discovery-core;0.6.0-incubating in central\n",
      "\tfound co.cask.tephra#tephra-hbase-compat-1.0;0.6.0 in central\n",
      "\tfound org.apache.hive#hive-exec;2.3.9 in central\n",
      "\tfound org.apache.hive#hive-llap-tez;2.3.9 in central\n",
      "\tfound org.apache.hive#hive-llap-client;2.3.9 in central\n",
      "\tfound org.apache.hive#hive-llap-common;2.3.9 in central\n",
      "\tfound org.antlr#ST4;4.0.4 in central\n",
      "\tfound org.apache.ivy#ivy;2.4.0 in central\n",
      "\tfound org.codehaus.groovy#groovy-all;2.4.4 in central\n",
      "\tfound stax#stax-api;1.0.1 in central\n",
      "\tfound net.hydromatic#eigenbase-properties;1.1.5 in central\n",
      "\tfound org.codehaus.janino#commons-compiler;2.7.6 in central\n",
      "\tfound org.codehaus.janino#janino;2.7.6 in central\n",
      "\tfound org.apache.hadoop#hadoop-client-api;3.3.4 in central\n",
      "\tfound org.xerial.snappy#snappy-java;1.1.8.2 in central\n",
      "\tfound org.apache.hadoop#hadoop-client-runtime;3.3.4 in central\n",
      "\tfound org.slf4j#slf4j-api;1.7.36 in central\n",
      "\tfound com.google.code.findbugs#jsr305;3.0.2 in central\n",
      "downloading https://repo1.maven.org/maven2/org/apache/hive/hive-metastore/2.3.9/hive-metastore-2.3.9.jar ...\n",
      "\t[SUCCESSFUL ] org.apache.hive#hive-metastore;2.3.9!hive-metastore.jar (15376ms)\n",
      "downloading https://repo1.maven.org/maven2/org/apache/hive/hive-exec/2.3.9/hive-exec-2.3.9.jar ...\n",
      "\t[SUCCESSFUL ] org.apache.hive#hive-exec;2.3.9!hive-exec.jar (25779ms)\n",
      "downloading https://repo1.maven.org/maven2/org/apache/hive/hive-common/2.3.9/hive-common-2.3.9.jar ...\n",
      "\t[SUCCESSFUL ] org.apache.hive#hive-common;2.3.9!hive-common.jar (642ms)\n",
      "downloading https://repo1.maven.org/maven2/org/apache/hive/hive-serde/2.3.9/hive-serde-2.3.9.jar ...\n",
      "\t[SUCCESSFUL ] org.apache.hive#hive-serde;2.3.9!hive-serde.jar (701ms)\n",
      "downloading https://repo1.maven.org/maven2/com/google/guava/guava/14.0.1/guava-14.0.1.jar ...\n",
      "\t[SUCCESSFUL ] com.google.guava#guava;14.0.1!guava.jar(bundle) (939ms)\n",
      "downloading https://repo1.maven.org/maven2/org/apache/hadoop/hadoop-client-api/3.3.4/hadoop-client-api-3.3.4.jar ...\n",
      "\t[SUCCESSFUL ] org.apache.hadoop#hadoop-client-api;3.3.4!hadoop-client-api.jar (3322ms)\n",
      "downloading https://repo1.maven.org/maven2/org/apache/hadoop/hadoop-client-runtime/3.3.4/hadoop-client-runtime-3.3.4.jar ...\n",
      "\t[SUCCESSFUL ] org.apache.hadoop#hadoop-client-runtime;3.3.4!hadoop-client-runtime.jar (3451ms)\n",
      "downloading https://repo1.maven.org/maven2/org/apache/hive/hive-shims/2.3.9/hive-shims-2.3.9.jar ...\n",
      "\t[SUCCESSFUL ] org.apache.hive#hive-shims;2.3.9!hive-shims.jar (551ms)\n",
      "downloading https://repo1.maven.org/maven2/javolution/javolution/5.5.1/javolution-5.5.1.jar ...\n",
      "\t[SUCCESSFUL ] javolution#javolution;5.5.1!javolution.jar(bundle) (577ms)\n",
      "downloading https://repo1.maven.org/maven2/com/google/protobuf/protobuf-java/2.5.0/protobuf-java-2.5.0.jar ...\n",
      "\t[SUCCESSFUL ] com.google.protobuf#protobuf-java;2.5.0!protobuf-java.jar(bundle) (600ms)\n",
      "downloading https://repo1.maven.org/maven2/org/apache/hbase/hbase-client/1.1.1/hbase-client-1.1.1.jar ...\n",
      "\t[SUCCESSFUL ] org.apache.hbase#hbase-client;1.1.1!hbase-client.jar (640ms)\n",
      "downloading https://repo1.maven.org/maven2/com/jolbox/bonecp/0.8.0.RELEASE/bonecp-0.8.0.RELEASE.jar ...\n",
      "\t[SUCCESSFUL ] com.jolbox#bonecp;0.8.0.RELEASE!bonecp.jar(bundle) (549ms)\n",
      "downloading https://repo1.maven.org/maven2/com/zaxxer/HikariCP/2.5.1/HikariCP-2.5.1.jar ...\n",
      "\t[SUCCESSFUL ] com.zaxxer#HikariCP;2.5.1!HikariCP.jar(bundle) (552ms)\n",
      "downloading https://repo1.maven.org/maven2/commons-cli/commons-cli/1.2/commons-cli-1.2.jar ...\n",
      "\t[SUCCESSFUL ] commons-cli#commons-cli;1.2!commons-cli.jar (547ms)\n",
      "downloading https://repo1.maven.org/maven2/commons-lang/commons-lang/2.6/commons-lang-2.6.jar ...\n",
      "\t[SUCCESSFUL ] commons-lang#commons-lang;2.6!commons-lang.jar (567ms)\n",
      "downloading https://repo1.maven.org/maven2/org/apache/derby/derby/10.10.2.0/derby-10.10.2.0.jar ...\n",
      "\t[SUCCESSFUL ] org.apache.derby#derby;10.10.2.0!derby.jar (741ms)\n",
      "downloading https://repo1.maven.org/maven2/org/datanucleus/datanucleus-api-jdo/4.2.4/datanucleus-api-jdo-4.2.4.jar ...\n",
      "\t[SUCCESSFUL ] org.datanucleus#datanucleus-api-jdo;4.2.4!datanucleus-api-jdo.jar (572ms)\n",
      "downloading https://repo1.maven.org/maven2/org/datanucleus/datanucleus-core/4.1.17/datanucleus-core-4.1.17.jar ...\n",
      "\t[SUCCESSFUL ] org.datanucleus#datanucleus-core;4.1.17!datanucleus-core.jar (689ms)\n",
      "downloading https://repo1.maven.org/maven2/org/datanucleus/datanucleus-rdbms/4.1.19/datanucleus-rdbms-4.1.19.jar ...\n",
      "\t[SUCCESSFUL ] org.datanucleus#datanucleus-rdbms;4.1.19!datanucleus-rdbms.jar (679ms)\n",
      "downloading https://repo1.maven.org/maven2/commons-pool/commons-pool/1.5.4/commons-pool-1.5.4.jar ...\n",
      "\t[SUCCESSFUL ] commons-pool#commons-pool;1.5.4!commons-pool.jar (554ms)\n",
      "downloading https://repo1.maven.org/maven2/commons-dbcp/commons-dbcp/1.4/commons-dbcp-1.4.jar ...\n",
      "\t[SUCCESSFUL ] commons-dbcp#commons-dbcp;1.4!commons-dbcp.jar (604ms)\n",
      "downloading https://repo1.maven.org/maven2/javax/jdo/jdo-api/3.0.1/jdo-api-3.0.1.jar ...\n",
      "\t[SUCCESSFUL ] javax.jdo#jdo-api;3.0.1!jdo-api.jar (595ms)\n",
      "downloading https://repo1.maven.org/maven2/org/datanucleus/javax.jdo/3.2.0-m3/javax.jdo-3.2.0-m3.jar ...\n",
      "\t[SUCCESSFUL ] org.datanucleus#javax.jdo;3.2.0-m3!javax.jdo.jar (571ms)\n",
      "downloading https://repo1.maven.org/maven2/org/antlr/antlr-runtime/3.5.2/antlr-runtime-3.5.2.jar ...\n",
      "\t[SUCCESSFUL ] org.antlr#antlr-runtime;3.5.2!antlr-runtime.jar (569ms)\n",
      "downloading https://repo1.maven.org/maven2/org/apache/thrift/libfb303/0.9.3/libfb303-0.9.3.jar ...\n",
      "\t[SUCCESSFUL ] org.apache.thrift#libfb303;0.9.3!libfb303.jar (310ms)\n",
      "downloading https://repo1.maven.org/maven2/org/apache/thrift/libthrift/0.9.3/libthrift-0.9.3.jar ...\n",
      "\t[SUCCESSFUL ] org.apache.thrift#libthrift;0.9.3!libthrift.jar (296ms)\n",
      "downloading https://repo1.maven.org/maven2/co/cask/tephra/tephra-api/0.6.0/tephra-api-0.6.0.jar ...\n",
      "\t[SUCCESSFUL ] co.cask.tephra#tephra-api;0.6.0!tephra-api.jar (551ms)\n",
      "downloading https://repo1.maven.org/maven2/co/cask/tephra/tephra-core/0.6.0/tephra-core-0.6.0.jar ...\n",
      "\t[SUCCESSFUL ] co.cask.tephra#tephra-core;0.6.0!tephra-core.jar (598ms)\n",
      "downloading https://repo1.maven.org/maven2/co/cask/tephra/tephra-hbase-compat-1.0/0.6.0/tephra-hbase-compat-1.0-0.6.0.jar ...\n",
      "\t[SUCCESSFUL ] co.cask.tephra#tephra-hbase-compat-1.0;0.6.0!tephra-hbase-compat-1.0.jar (549ms)\n",
      "downloading https://repo1.maven.org/maven2/org/apache/hive/hive-service-rpc/2.3.9/hive-service-rpc-2.3.9.jar ...\n",
      "\t[SUCCESSFUL ] org.apache.hive#hive-service-rpc;2.3.9!hive-service-rpc.jar (660ms)\n",
      "downloading https://repo1.maven.org/maven2/commons-codec/commons-codec/1.4/commons-codec-1.4.jar ...\n",
      "\t[SUCCESSFUL ] commons-codec#commons-codec;1.4!commons-codec.jar (552ms)\n",
      "downloading https://repo1.maven.org/maven2/org/apache/avro/avro/1.8.2/avro-1.8.2.jar ...\n",
      "\t[SUCCESSFUL ] org.apache.avro#avro;1.8.2!avro.jar(bundle) (656ms)\n",
      "downloading https://repo1.maven.org/maven2/net/sf/opencsv/opencsv/2.3/opencsv-2.3.jar ...\n",
      "\t[SUCCESSFUL ] net.sf.opencsv#opencsv;2.3!opencsv.jar (550ms)\n",
      "downloading https://repo1.maven.org/maven2/org/apache/parquet/parquet-hadoop-bundle/1.8.1/parquet-hadoop-bundle-1.8.1.jar ...\n",
      "\t[SUCCESSFUL ] org.apache.parquet#parquet-hadoop-bundle;1.8.1!parquet-hadoop-bundle.jar (753ms)\n",
      "downloading https://repo1.maven.org/maven2/org/apache/hive/hive-storage-api/2.4.0/hive-storage-api-2.4.0.jar ...\n",
      "\t[SUCCESSFUL ] org.apache.hive#hive-storage-api;2.4.0!hive-storage-api.jar (561ms)\n",
      "downloading https://repo1.maven.org/maven2/org/apache/commons/commons-lang3/3.1/commons-lang3-3.1.jar ...\n",
      "\t[SUCCESSFUL ] org.apache.commons#commons-lang3;3.1!commons-lang3.jar (577ms)\n",
      "downloading https://repo1.maven.org/maven2/org/apache/orc/orc-core/1.3.4/orc-core-1.3.4.jar ...\n",
      "\t[SUCCESSFUL ] org.apache.orc#orc-core;1.3.4!orc-core.jar (597ms)\n",
      "downloading https://repo1.maven.org/maven2/jline/jline/2.12/jline-2.12.jar ...\n",
      "\t[SUCCESSFUL ] jline#jline;2.12!jline.jar (563ms)\n",
      "downloading https://repo1.maven.org/maven2/org/eclipse/jetty/aggregate/jetty-all/7.6.0.v20120127/jetty-all-7.6.0.v20120127.jar ...\n",
      "\t[SUCCESSFUL ] org.eclipse.jetty.aggregate#jetty-all;7.6.0.v20120127!jetty-all.jar (666ms)\n",
      "downloading https://repo1.maven.org/maven2/org/eclipse/jetty/orbit/javax.servlet/3.0.0.v201112011016/javax.servlet-3.0.0.v201112011016.jar ...\n",
      "\t[SUCCESSFUL ] org.eclipse.jetty.orbit#javax.servlet;3.0.0.v201112011016!javax.servlet.jar(orbit) (557ms)\n",
      "downloading https://repo1.maven.org/maven2/joda-time/joda-time/2.8.1/joda-time-2.8.1.jar ...\n",
      "\t[SUCCESSFUL ] joda-time#joda-time;2.8.1!joda-time.jar (588ms)\n",
      "downloading https://repo1.maven.org/maven2/org/apache/logging/log4j/log4j-1.2-api/2.6.2/log4j-1.2-api-2.6.2.jar ...\n",
      "\t[SUCCESSFUL ] org.apache.logging.log4j#log4j-1.2-api;2.6.2!log4j-1.2-api.jar(bundle) (554ms)\n",
      "downloading https://repo1.maven.org/maven2/org/apache/logging/log4j/log4j-web/2.6.2/log4j-web-2.6.2.jar ...\n",
      "\t[SUCCESSFUL ] org.apache.logging.log4j#log4j-web;2.6.2!log4j-web.jar (543ms)\n",
      "downloading https://repo1.maven.org/maven2/org/apache/logging/log4j/log4j-slf4j-impl/2.6.2/log4j-slf4j-impl-2.6.2.jar ...\n",
      "\t[SUCCESSFUL ] org.apache.logging.log4j#log4j-slf4j-impl;2.6.2!log4j-slf4j-impl.jar (544ms)\n",
      "downloading https://repo1.maven.org/maven2/org/apache/commons/commons-compress/1.9/commons-compress-1.9.jar ...\n",
      "\t[SUCCESSFUL ] org.apache.commons#commons-compress;1.9!commons-compress.jar (578ms)\n",
      "downloading https://repo1.maven.org/maven2/org/apache/ant/ant/1.9.1/ant-1.9.1.jar ...\n",
      "\t[SUCCESSFUL ] org.apache.ant#ant;1.9.1!ant.jar (694ms)\n",
      "downloading https://repo1.maven.org/maven2/com/tdunning/json/1.8/json-1.8.jar ...\n",
      "\t[SUCCESSFUL ] com.tdunning#json;1.8!json.jar (542ms)\n",
      "downloading https://repo1.maven.org/maven2/io/dropwizard/metrics/metrics-core/3.1.0/metrics-core-3.1.0.jar ...\n",
      "\t[SUCCESSFUL ] io.dropwizard.metrics#metrics-core;3.1.0!metrics-core.jar(bundle) (547ms)\n",
      "downloading https://repo1.maven.org/maven2/io/dropwizard/metrics/metrics-jvm/3.1.0/metrics-jvm-3.1.0.jar ...\n",
      "\t[SUCCESSFUL ] io.dropwizard.metrics#metrics-jvm;3.1.0!metrics-jvm.jar(bundle) (543ms)\n",
      "downloading https://repo1.maven.org/maven2/io/dropwizard/metrics/metrics-json/3.1.0/metrics-json-3.1.0.jar ...\n",
      "\t[SUCCESSFUL ] io.dropwizard.metrics#metrics-json;3.1.0!metrics-json.jar(bundle) (543ms)\n",
      "downloading https://repo1.maven.org/maven2/com/github/joshelser/dropwizard-metrics-hadoop-metrics2-reporter/0.1.2/dropwizard-metrics-hadoop-metrics2-reporter-0.1.2.jar ...\n",
      "\t[SUCCESSFUL ] com.github.joshelser#dropwizard-metrics-hadoop-metrics2-reporter;0.1.2!dropwizard-metrics-hadoop-metrics2-reporter.jar (551ms)\n",
      "downloading https://repo1.maven.org/maven2/org/apache/hive/shims/hive-shims-common/2.3.9/hive-shims-common-2.3.9.jar ...\n",
      "\t[SUCCESSFUL ] org.apache.hive.shims#hive-shims-common;2.3.9!hive-shims-common.jar (563ms)\n",
      "downloading https://repo1.maven.org/maven2/org/apache/zookeeper/zookeeper/3.4.6/zookeeper-3.4.6-tests.jar ...\n",
      "\t[SUCCESSFUL ] org.apache.zookeeper#zookeeper;3.4.6!zookeeper.jar(test-jar) (627ms)\n",
      "downloading https://repo1.maven.org/maven2/org/apache/zookeeper/zookeeper/3.4.6/zookeeper-3.4.6.jar ...\n",
      "\t[SUCCESSFUL ] org.apache.zookeeper#zookeeper;3.4.6!zookeeper.jar (404ms)\n",
      "downloading https://repo1.maven.org/maven2/org/apache/httpcomponents/httpclient/4.4/httpclient-4.4.jar ...\n",
      "\t[SUCCESSFUL ] org.apache.httpcomponents#httpclient;4.4!httpclient.jar (623ms)\n",
      "downloading https://repo1.maven.org/maven2/org/apache/httpcomponents/httpcore/4.4/httpcore-4.4.jar ...\n",
      "\t[SUCCESSFUL ] org.apache.httpcomponents#httpcore;4.4!httpcore.jar (571ms)\n",
      "downloading https://repo1.maven.org/maven2/commons-logging/commons-logging/1.2/commons-logging-1.2.jar ...\n",
      "\t[SUCCESSFUL ] commons-logging#commons-logging;1.2!commons-logging.jar (550ms)\n",
      "downloading https://repo1.maven.org/maven2/io/netty/netty/3.7.0.Final/netty-3.7.0.Final.jar ...\n",
      "\t[SUCCESSFUL ] io.netty#netty;3.7.0.Final!netty.jar(bundle) (632ms)\n",
      "downloading https://repo1.maven.org/maven2/org/apache/hive/shims/hive-shims-0.23/2.3.9/hive-shims-0.23-2.3.9.jar ...\n",
      "\t[SUCCESSFUL ] org.apache.hive.shims#hive-shims-0.23;2.3.9!hive-shims-0.23.jar (551ms)\n",
      "downloading https://repo1.maven.org/maven2/org/apache/hive/shims/hive-shims-scheduler/2.3.9/hive-shims-scheduler-2.3.9.jar ...\n",
      "\t[SUCCESSFUL ] org.apache.hive.shims#hive-shims-scheduler;2.3.9!hive-shims-scheduler.jar (542ms)\n",
      "downloading https://repo1.maven.org/maven2/org/apache/hadoop/hadoop-yarn-server-resourcemanager/2.7.2/hadoop-yarn-server-resourcemanager-2.7.2.jar ...\n",
      "\t[SUCCESSFUL ] org.apache.hadoop#hadoop-yarn-server-resourcemanager;2.7.2!hadoop-yarn-server-resourcemanager.jar (645ms)\n",
      "downloading https://repo1.maven.org/maven2/org/apache/hadoop/hadoop-annotations/2.7.2/hadoop-annotations-2.7.2.jar ...\n",
      "\t[SUCCESSFUL ] org.apache.hadoop#hadoop-annotations;2.7.2!hadoop-annotations.jar (544ms)\n",
      "downloading https://repo1.maven.org/maven2/com/google/inject/extensions/guice-servlet/3.0/guice-servlet-3.0.jar ...\n",
      "\t[SUCCESSFUL ] com.google.inject.extensions#guice-servlet;3.0!guice-servlet.jar (550ms)\n",
      "downloading https://repo1.maven.org/maven2/commons-io/commons-io/2.4/commons-io-2.4.jar ...\n",
      "\t[SUCCESSFUL ] commons-io#commons-io;2.4!commons-io.jar (561ms)\n",
      "downloading https://repo1.maven.org/maven2/com/google/inject/guice/3.0/guice-3.0.jar ...\n",
      "\t[SUCCESSFUL ] com.google.inject#guice;3.0!guice.jar (594ms)\n",
      "downloading https://repo1.maven.org/maven2/com/sun/jersey/jersey-json/1.14/jersey-json-1.14.jar ...\n",
      "\t[SUCCESSFUL ] com.sun.jersey#jersey-json;1.14!jersey-json.jar (564ms)\n",
      "downloading https://repo1.maven.org/maven2/com/sun/jersey/contribs/jersey-guice/1.9/jersey-guice-1.9.jar ...\n",
      "\t[SUCCESSFUL ] com.sun.jersey.contribs#jersey-guice;1.9!jersey-guice.jar (543ms)\n",
      "downloading https://repo1.maven.org/maven2/org/apache/hadoop/hadoop-yarn-common/2.7.2/hadoop-yarn-common-2.7.2.jar ...\n",
      "\t[SUCCESSFUL ] org.apache.hadoop#hadoop-yarn-common;2.7.2!hadoop-yarn-common.jar (667ms)\n",
      "downloading https://repo1.maven.org/maven2/org/apache/hadoop/hadoop-yarn-api/2.7.2/hadoop-yarn-api-2.7.2.jar ...\n",
      "\t[SUCCESSFUL ] org.apache.hadoop#hadoop-yarn-api;2.7.2!hadoop-yarn-api.jar (689ms)\n",
      "downloading https://repo1.maven.org/maven2/javax/xml/bind/jaxb-api/2.2.2/jaxb-api-2.2.2.jar ...\n",
      "\t[SUCCESSFUL ] javax.xml.bind#jaxb-api;2.2.2!jaxb-api.jar (577ms)\n",
      "downloading https://repo1.maven.org/maven2/org/codehaus/jettison/jettison/1.1/jettison-1.1.jar ...\n",
      "\t[SUCCESSFUL ] org.codehaus.jettison#jettison;1.1!jettison.jar(bundle) (549ms)\n",
      "downloading https://repo1.maven.org/maven2/com/sun/jersey/jersey-core/1.14/jersey-core-1.14.jar ...\n",
      "\t[SUCCESSFUL ] com.sun.jersey#jersey-core;1.14!jersey-core.jar (580ms)\n",
      "downloading https://repo1.maven.org/maven2/com/sun/jersey/jersey-client/1.9/jersey-client-1.9.jar ...\n",
      "\t[SUCCESSFUL ] com.sun.jersey#jersey-client;1.9!jersey-client.jar(bundle) (580ms)\n",
      "downloading https://repo1.maven.org/maven2/org/mortbay/jetty/jetty-util/6.1.26/jetty-util-6.1.26.jar ...\n",
      "\t[SUCCESSFUL ] org.mortbay.jetty#jetty-util;6.1.26!jetty-util.jar (557ms)\n",
      "downloading https://repo1.maven.org/maven2/log4j/log4j/1.2.17/log4j-1.2.17.jar ...\n",
      "\t[SUCCESSFUL ] log4j#log4j;1.2.17!log4j.jar(bundle) (582ms)\n",
      "downloading https://repo1.maven.org/maven2/org/apache/hadoop/hadoop-yarn-server-common/2.7.2/hadoop-yarn-server-common-2.7.2.jar ...\n",
      "\t[SUCCESSFUL ] org.apache.hadoop#hadoop-yarn-server-common;2.7.2!hadoop-yarn-server-common.jar (567ms)\n",
      "downloading https://repo1.maven.org/maven2/org/apache/hadoop/hadoop-yarn-server-applicationhistoryservice/2.7.2/hadoop-yarn-server-applicationhistoryservice-2.7.2.jar ...\n",
      "\t[SUCCESSFUL ] org.apache.hadoop#hadoop-yarn-server-applicationhistoryservice;2.7.2!hadoop-yarn-server-applicationhistoryservice.jar (563ms)\n",
      "downloading https://repo1.maven.org/maven2/org/apache/hadoop/hadoop-yarn-server-web-proxy/2.7.2/hadoop-yarn-server-web-proxy-2.7.2.jar ...\n",
      "\t[SUCCESSFUL ] org.apache.hadoop#hadoop-yarn-server-web-proxy;2.7.2!hadoop-yarn-server-web-proxy.jar (546ms)\n",
      "downloading https://repo1.maven.org/maven2/org/fusesource/leveldbjni/leveldbjni-all/1.8/leveldbjni-all-1.8.jar ...\n",
      "\t[SUCCESSFUL ] org.fusesource.leveldbjni#leveldbjni-all;1.8!leveldbjni-all.jar(bundle) (622ms)\n",
      "downloading https://repo1.maven.org/maven2/javax/inject/javax.inject/1/javax.inject-1.jar ...\n",
      "\t[SUCCESSFUL ] javax.inject#javax.inject;1!javax.inject.jar (540ms)\n",
      "downloading https://repo1.maven.org/maven2/aopalliance/aopalliance/1.0/aopalliance-1.0.jar ...\n",
      "\t[SUCCESSFUL ] aopalliance#aopalliance;1.0!aopalliance.jar (659ms)\n",
      "downloading https://repo1.maven.org/maven2/org/sonatype/sisu/inject/cglib/2.2.1-v20090111/cglib-2.2.1-v20090111.jar ...\n",
      "\t[SUCCESSFUL ] org.sonatype.sisu.inject#cglib;2.2.1-v20090111!cglib.jar (675ms)\n",
      "downloading https://repo1.maven.org/maven2/asm/asm/3.2/asm-3.2.jar ...\n",
      "\t[SUCCESSFUL ] asm#asm;3.2!asm.jar (731ms)\n",
      "downloading https://repo1.maven.org/maven2/com/sun/xml/bind/jaxb-impl/2.2.3-1/jaxb-impl-2.2.3-1.jar ...\n",
      "\t[SUCCESSFUL ] com.sun.xml.bind#jaxb-impl;2.2.3-1!jaxb-impl.jar (667ms)\n",
      "downloading https://repo1.maven.org/maven2/org/codehaus/jackson/jackson-core-asl/1.9.13/jackson-core-asl-1.9.13.jar ...\n",
      "\t[SUCCESSFUL ] org.codehaus.jackson#jackson-core-asl;1.9.13!jackson-core-asl.jar (564ms)\n",
      "downloading https://repo1.maven.org/maven2/org/codehaus/jackson/jackson-mapper-asl/1.9.13/jackson-mapper-asl-1.9.13.jar ...\n",
      "\t[SUCCESSFUL ] org.codehaus.jackson#jackson-mapper-asl;1.9.13!jackson-mapper-asl.jar (617ms)\n",
      "downloading https://repo1.maven.org/maven2/org/codehaus/jackson/jackson-jaxrs/1.9.13/jackson-jaxrs-1.9.13.jar ...\n",
      "\t[SUCCESSFUL ] org.codehaus.jackson#jackson-jaxrs;1.9.13!jackson-jaxrs.jar (544ms)\n",
      "downloading https://repo1.maven.org/maven2/org/codehaus/jackson/jackson-xc/1.9.13/jackson-xc-1.9.13.jar ...\n",
      "\t[SUCCESSFUL ] org.codehaus.jackson#jackson-xc;1.9.13!jackson-xc.jar (543ms)\n",
      "downloading https://repo1.maven.org/maven2/javax/xml/stream/stax-api/1.0-2/stax-api-1.0-2.jar ...\n",
      "\t[SUCCESSFUL ] javax.xml.stream#stax-api;1.0-2!stax-api.jar (544ms)\n",
      "downloading https://repo1.maven.org/maven2/javax/activation/activation/1.1/activation-1.1.jar ...\n",
      "\t[SUCCESSFUL ] javax.activation#activation;1.1!activation.jar (551ms)\n",
      "downloading https://repo1.maven.org/maven2/com/sun/jersey/jersey-server/1.14/jersey-server-1.14.jar ...\n",
      "\t[SUCCESSFUL ] com.sun.jersey#jersey-server;1.14!jersey-server.jar (593ms)\n",
      "downloading https://repo1.maven.org/maven2/commons-collections/commons-collections/3.2.2/commons-collections-3.2.2.jar ...\n",
      "\t[SUCCESSFUL ] commons-collections#commons-collections;3.2.2!commons-collections.jar (590ms)\n",
      "downloading https://repo1.maven.org/maven2/org/mortbay/jetty/jetty/6.1.26/jetty-6.1.26.jar ...\n",
      "\t[SUCCESSFUL ] org.mortbay.jetty#jetty;6.1.26!jetty.jar (583ms)\n",
      "downloading https://repo1.maven.org/maven2/io/airlift/aircompressor/0.8/aircompressor-0.8.jar ...\n",
      "\t[SUCCESSFUL ] io.airlift#aircompressor;0.8!aircompressor.jar (554ms)\n",
      "downloading https://repo1.maven.org/maven2/io/airlift/slice/0.29/slice-0.29.jar ...\n",
      "\t[SUCCESSFUL ] io.airlift#slice;0.29!slice.jar (550ms)\n",
      "downloading https://repo1.maven.org/maven2/org/openjdk/jol/jol-core/0.2/jol-core-0.2.jar ...\n",
      "\t[SUCCESSFUL ] org.openjdk.jol#jol-core;0.2!jol-core.jar (552ms)\n",
      "downloading https://repo1.maven.org/maven2/org/apache/geronimo/specs/geronimo-jta_1.1_spec/1.1.1/geronimo-jta_1.1_spec-1.1.1.jar ...\n",
      "\t[SUCCESSFUL ] org.apache.geronimo.specs#geronimo-jta_1.1_spec;1.1.1!geronimo-jta_1.1_spec.jar (544ms)\n",
      "downloading https://repo1.maven.org/maven2/javax/mail/mail/1.4.1/mail-1.4.1.jar ...\n",
      "\t[SUCCESSFUL ] javax.mail#mail;1.4.1!mail.jar (586ms)\n",
      "downloading https://repo1.maven.org/maven2/org/apache/geronimo/specs/geronimo-jaspic_1.0_spec/1.0/geronimo-jaspic_1.0_spec-1.0.jar ...\n",
      "\t[SUCCESSFUL ] org.apache.geronimo.specs#geronimo-jaspic_1.0_spec;1.0!geronimo-jaspic_1.0_spec.jar(bundle) (546ms)\n",
      "downloading https://repo1.maven.org/maven2/org/apache/geronimo/specs/geronimo-annotation_1.0_spec/1.1.1/geronimo-annotation_1.0_spec-1.1.1.jar ...\n",
      "\t[SUCCESSFUL ] org.apache.geronimo.specs#geronimo-annotation_1.0_spec;1.1.1!geronimo-annotation_1.0_spec.jar (542ms)\n",
      "downloading https://repo1.maven.org/maven2/asm/asm-commons/3.1/asm-commons-3.1.jar ...\n",
      "\t[SUCCESSFUL ] asm#asm-commons;3.1!asm-commons.jar (551ms)\n",
      "downloading https://repo1.maven.org/maven2/asm/asm-tree/3.1/asm-tree-3.1.jar ...\n",
      "\t[SUCCESSFUL ] asm#asm-tree;3.1!asm-tree.jar (549ms)\n",
      "downloading https://repo1.maven.org/maven2/org/apache/ant/ant-launcher/1.9.1/ant-launcher-1.9.1.jar ...\n",
      "\t[SUCCESSFUL ] org.apache.ant#ant-launcher;1.9.1!ant-launcher.jar (549ms)\n",
      "downloading https://repo1.maven.org/maven2/org/apache/hadoop/hadoop-common/2.7.2/hadoop-common-2.7.2.jar ...\n",
      "\t[SUCCESSFUL ] org.apache.hadoop#hadoop-common;2.7.2!hadoop-common.jar (865ms)\n",
      "downloading https://repo1.maven.org/maven2/org/apache/commons/commons-math3/3.1.1/commons-math3-3.1.1.jar ...\n",
      "\t[SUCCESSFUL ] org.apache.commons#commons-math3;3.1.1!commons-math3.jar (659ms)\n",
      "downloading https://repo1.maven.org/maven2/xmlenc/xmlenc/0.52/xmlenc-0.52.jar ...\n",
      "\t[SUCCESSFUL ] xmlenc#xmlenc;0.52!xmlenc.jar (542ms)\n",
      "downloading https://repo1.maven.org/maven2/commons-httpclient/commons-httpclient/3.1/commons-httpclient-3.1.jar ...\n",
      "\t[SUCCESSFUL ] commons-httpclient#commons-httpclient;3.1!commons-httpclient.jar (607ms)\n",
      "downloading https://repo1.maven.org/maven2/commons-net/commons-net/3.1/commons-net-3.1.jar ...\n",
      "\t[SUCCESSFUL ] commons-net#commons-net;3.1!commons-net.jar (565ms)\n",
      "downloading https://repo1.maven.org/maven2/javax/servlet/servlet-api/2.5/servlet-api-2.5.jar ...\n",
      "\t[SUCCESSFUL ] javax.servlet#servlet-api;2.5!servlet-api.jar (568ms)\n",
      "downloading https://repo1.maven.org/maven2/net/java/dev/jets3t/jets3t/0.9.0/jets3t-0.9.0.jar ...\n",
      "\t[SUCCESSFUL ] net.java.dev.jets3t#jets3t;0.9.0!jets3t.jar (599ms)\n",
      "downloading https://repo1.maven.org/maven2/commons-configuration/commons-configuration/1.6/commons-configuration-1.6.jar ...\n",
      "\t[SUCCESSFUL ] commons-configuration#commons-configuration;1.6!commons-configuration.jar (567ms)\n",
      "downloading https://repo1.maven.org/maven2/com/google/code/gson/gson/2.2.4/gson-2.2.4.jar ...\n",
      "\t[SUCCESSFUL ] com.google.code.gson#gson;2.2.4!gson.jar (590ms)\n",
      "downloading https://repo1.maven.org/maven2/org/apache/hadoop/hadoop-auth/2.7.2/hadoop-auth-2.7.2.jar ...\n",
      "\t[SUCCESSFUL ] org.apache.hadoop#hadoop-auth;2.7.2!hadoop-auth.jar (736ms)\n",
      "downloading https://repo1.maven.org/maven2/com/jcraft/jsch/0.1.42/jsch-0.1.42.jar ...\n",
      "\t[SUCCESSFUL ] com.jcraft#jsch;0.1.42!jsch.jar (559ms)\n",
      "downloading https://repo1.maven.org/maven2/org/apache/htrace/htrace-core/3.1.0-incubating/htrace-core-3.1.0-incubating.jar ...\n",
      "\t[SUCCESSFUL ] org.apache.htrace#htrace-core;3.1.0-incubating!htrace-core.jar (652ms)\n",
      "downloading https://repo1.maven.org/maven2/com/jamesmurty/utils/java-xmlbuilder/0.4/java-xmlbuilder-0.4.jar ...\n",
      "\t[SUCCESSFUL ] com.jamesmurty.utils#java-xmlbuilder;0.4!java-xmlbuilder.jar (542ms)\n",
      "downloading https://repo1.maven.org/maven2/commons-digester/commons-digester/1.8/commons-digester-1.8.jar ...\n",
      "\t[SUCCESSFUL ] commons-digester#commons-digester;1.8!commons-digester.jar (556ms)\n",
      "downloading https://repo1.maven.org/maven2/commons-beanutils/commons-beanutils-core/1.8.0/commons-beanutils-core-1.8.0.jar ...\n",
      "\t[SUCCESSFUL ] commons-beanutils#commons-beanutils-core;1.8.0!commons-beanutils-core.jar (560ms)\n",
      "downloading https://repo1.maven.org/maven2/commons-beanutils/commons-beanutils/1.7.0/commons-beanutils-1.7.0.jar ...\n",
      "\t[SUCCESSFUL ] commons-beanutils#commons-beanutils;1.7.0!commons-beanutils.jar (565ms)\n",
      "downloading https://repo1.maven.org/maven2/com/thoughtworks/paranamer/paranamer/2.7/paranamer-2.7.jar ...\n",
      "\t[SUCCESSFUL ] com.thoughtworks.paranamer#paranamer;2.7!paranamer.jar(bundle) (549ms)\n",
      "downloading https://repo1.maven.org/maven2/org/tukaani/xz/1.5/xz-1.5.jar ...\n",
      "\t[SUCCESSFUL ] org.tukaani#xz;1.5!xz.jar (556ms)\n",
      "downloading https://repo1.maven.org/maven2/org/apache/directory/server/apacheds-kerberos-codec/2.0.0-M15/apacheds-kerberos-codec-2.0.0-M15.jar ...\n",
      "\t[SUCCESSFUL ] org.apache.directory.server#apacheds-kerberos-codec;2.0.0-M15!apacheds-kerberos-codec.jar(bundle) (598ms)\n",
      "downloading https://repo1.maven.org/maven2/org/apache/directory/server/apacheds-i18n/2.0.0-M15/apacheds-i18n-2.0.0-M15.jar ...\n",
      "\t[SUCCESSFUL ] org.apache.directory.server#apacheds-i18n;2.0.0-M15!apacheds-i18n.jar(bundle) (547ms)\n",
      "downloading https://repo1.maven.org/maven2/org/apache/directory/api/api-asn1-api/1.0.0-M20/api-asn1-api-1.0.0-M20.jar ...\n",
      "\t[SUCCESSFUL ] org.apache.directory.api#api-asn1-api;1.0.0-M20!api-asn1-api.jar(bundle) (543ms)\n",
      "downloading https://repo1.maven.org/maven2/org/apache/directory/api/api-util/1.0.0-M20/api-util-1.0.0-M20.jar ...\n",
      "\t[SUCCESSFUL ] org.apache.directory.api#api-util;1.0.0-M20!api-util.jar(bundle) (546ms)\n",
      "downloading https://repo1.maven.org/maven2/javax/servlet/jsp/jsp-api/2.1/jsp-api-2.1.jar ...\n",
      "\t[SUCCESSFUL ] javax.servlet.jsp#jsp-api;2.1!jsp-api.jar (557ms)\n",
      "downloading https://repo1.maven.org/maven2/org/slf4j/slf4j-log4j12/1.7.14/slf4j-log4j12-1.7.14.jar ...\n",
      "\t[SUCCESSFUL ] org.slf4j#slf4j-log4j12;1.7.14!slf4j-log4j12.jar (553ms)\n",
      "downloading https://repo1.maven.org/maven2/tomcat/jasper-compiler/5.5.23/jasper-compiler-5.5.23.jar ...\n",
      "\t[SUCCESSFUL ] tomcat#jasper-compiler;5.5.23!jasper-compiler.jar (582ms)\n",
      "downloading https://repo1.maven.org/maven2/tomcat/jasper-runtime/5.5.23/jasper-runtime-5.5.23.jar ...\n",
      "\t[SUCCESSFUL ] tomcat#jasper-runtime;5.5.23!jasper-runtime.jar (560ms)\n",
      "downloading https://repo1.maven.org/maven2/javax/servlet/jsp-api/2.0/jsp-api-2.0.jar ...\n",
      "\t[SUCCESSFUL ] javax.servlet#jsp-api;2.0!jsp-api.jar (557ms)\n",
      "downloading https://repo1.maven.org/maven2/ant/ant/1.6.5/ant-1.6.5.jar ...\n",
      "\t[SUCCESSFUL ] ant#ant;1.6.5!ant.jar (621ms)\n",
      "downloading https://repo1.maven.org/maven2/commons-el/commons-el/1.0/commons-el-1.0.jar ...\n",
      "\t[SUCCESSFUL ] commons-el#commons-el;1.0!commons-el.jar (549ms)\n",
      "downloading https://repo1.maven.org/maven2/org/apache/hbase/hbase-annotations/1.1.1/hbase-annotations-1.1.1.jar ...\n",
      "\t[SUCCESSFUL ] org.apache.hbase#hbase-annotations;1.1.1!hbase-annotations.jar (547ms)\n",
      "downloading https://repo1.maven.org/maven2/org/apache/hbase/hbase-protocol/1.1.1/hbase-protocol-1.1.1.jar ...\n",
      "\t[SUCCESSFUL ] org.apache.hbase#hbase-protocol;1.1.1!hbase-protocol.jar (921ms)\n",
      "downloading https://repo1.maven.org/maven2/io/netty/netty-all/4.0.52.Final/netty-all-4.0.52.Final.jar ...\n",
      "\t[SUCCESSFUL ] io.netty#netty-all;4.0.52.Final!netty-all.jar (703ms)\n",
      "downloading https://repo1.maven.org/maven2/org/jruby/jcodings/jcodings/1.0.8/jcodings-1.0.8.jar ...\n",
      "\t[SUCCESSFUL ] org.jruby.jcodings#jcodings;1.0.8!jcodings.jar (635ms)\n",
      "downloading https://repo1.maven.org/maven2/org/jruby/joni/joni/2.1.2/joni-2.1.2.jar ...\n",
      "\t[SUCCESSFUL ] org.jruby.joni#joni;2.1.2!joni.jar (559ms)\n",
      "downloading https://repo1.maven.org/maven2/org/apache/hadoop/hadoop-mapreduce-client-core/2.7.2/hadoop-mapreduce-client-core-2.7.2.jar ...\n",
      "\t[SUCCESSFUL ] org.apache.hadoop#hadoop-mapreduce-client-core;2.7.2!hadoop-mapreduce-client-core.jar (664ms)\n",
      "downloading https://repo1.maven.org/maven2/com/github/stephenc/findbugs/findbugs-annotations/1.3.9-1/findbugs-annotations-1.3.9-1.jar ...\n",
      "\t[SUCCESSFUL ] com.github.stephenc.findbugs#findbugs-annotations;1.3.9-1!findbugs-annotations.jar (554ms)\n",
      "downloading https://repo1.maven.org/maven2/junit/junit/4.11/junit-4.11.jar ...\n",
      "\t[SUCCESSFUL ] junit#junit;4.11!junit.jar (562ms)\n",
      "downloading https://repo1.maven.org/maven2/org/hamcrest/hamcrest-core/1.3/hamcrest-core-1.3.jar ...\n",
      "\t[SUCCESSFUL ] org.hamcrest#hamcrest-core;1.3!hamcrest-core.jar (643ms)\n",
      "downloading https://repo1.maven.org/maven2/javax/transaction/jta/1.1/jta-1.1.jar ...\n",
      "\t[SUCCESSFUL ] javax.transaction#jta;1.1!jta.jar (563ms)\n",
      "downloading https://repo1.maven.org/maven2/javax/transaction/transaction-api/1.1/transaction-api-1.1.jar ...\n",
      "\t[SUCCESSFUL ] javax.transaction#transaction-api;1.1!transaction-api.jar (552ms)\n",
      "downloading https://repo1.maven.org/maven2/com/google/inject/extensions/guice-assistedinject/3.0/guice-assistedinject-3.0.jar ...\n",
      "\t[SUCCESSFUL ] com.google.inject.extensions#guice-assistedinject;3.0!guice-assistedinject.jar (548ms)\n",
      "downloading https://repo1.maven.org/maven2/it/unimi/dsi/fastutil/6.5.6/fastutil-6.5.6.jar ...\n",
      "\t[SUCCESSFUL ] it.unimi.dsi#fastutil;6.5.6!fastutil.jar (2011ms)\n",
      "downloading https://repo1.maven.org/maven2/org/apache/twill/twill-common/0.6.0-incubating/twill-common-0.6.0-incubating.jar ...\n",
      "\t[SUCCESSFUL ] org.apache.twill#twill-common;0.6.0-incubating!twill-common.jar (589ms)\n",
      "downloading https://repo1.maven.org/maven2/org/apache/twill/twill-core/0.6.0-incubating/twill-core-0.6.0-incubating.jar ...\n",
      "\t[SUCCESSFUL ] org.apache.twill#twill-core;0.6.0-incubating!twill-core.jar (569ms)\n",
      "downloading https://repo1.maven.org/maven2/org/apache/twill/twill-discovery-api/0.6.0-incubating/twill-discovery-api-0.6.0-incubating.jar ...\n",
      "\t[SUCCESSFUL ] org.apache.twill#twill-discovery-api;0.6.0-incubating!twill-discovery-api.jar (543ms)\n",
      "downloading https://repo1.maven.org/maven2/org/apache/twill/twill-discovery-core/0.6.0-incubating/twill-discovery-core-0.6.0-incubating.jar ...\n",
      "\t[SUCCESSFUL ] org.apache.twill#twill-discovery-core;0.6.0-incubating!twill-discovery-core.jar (549ms)\n",
      "downloading https://repo1.maven.org/maven2/org/apache/twill/twill-zookeeper/0.6.0-incubating/twill-zookeeper-0.6.0-incubating.jar ...\n",
      "\t[SUCCESSFUL ] org.apache.twill#twill-zookeeper;0.6.0-incubating!twill-zookeeper.jar (555ms)\n",
      "downloading https://repo1.maven.org/maven2/org/apache/twill/twill-api/0.6.0-incubating/twill-api-0.6.0-incubating.jar ...\n",
      "\t[SUCCESSFUL ] org.apache.twill#twill-api;0.6.0-incubating!twill-api.jar (551ms)\n",
      "downloading https://repo1.maven.org/maven2/org/apache/hive/hive-llap-tez/2.3.9/hive-llap-tez-2.3.9.jar ...\n",
      "\t[SUCCESSFUL ] org.apache.hive#hive-llap-tez;2.3.9!hive-llap-tez.jar (551ms)\n",
      "downloading https://repo1.maven.org/maven2/org/antlr/ST4/4.0.4/ST4-4.0.4.jar ...\n",
      "\t[SUCCESSFUL ] org.antlr#ST4;4.0.4!ST4.jar (559ms)\n",
      "downloading https://repo1.maven.org/maven2/org/apache/ivy/ivy/2.4.0/ivy-2.4.0.jar ...\n",
      "\t[SUCCESSFUL ] org.apache.ivy#ivy;2.4.0!ivy.jar (652ms)\n",
      "downloading https://repo1.maven.org/maven2/org/codehaus/groovy/groovy-all/2.4.4/groovy-all-2.4.4.jar ...\n",
      "\t[SUCCESSFUL ] org.codehaus.groovy#groovy-all;2.4.4!groovy-all.jar (1183ms)\n",
      "downloading https://repo1.maven.org/maven2/stax/stax-api/1.0.1/stax-api-1.0.1.jar ...\n",
      "\t[SUCCESSFUL ] stax#stax-api;1.0.1!stax-api.jar (544ms)\n",
      "downloading https://repo1.maven.org/maven2/net/hydromatic/eigenbase-properties/1.1.5/eigenbase-properties-1.1.5.jar ...\n",
      "\t[SUCCESSFUL ] net.hydromatic#eigenbase-properties;1.1.5!eigenbase-properties.jar(bundle) (545ms)\n",
      "downloading https://repo1.maven.org/maven2/org/codehaus/janino/commons-compiler/2.7.6/commons-compiler-2.7.6.jar ...\n",
      "\t[SUCCESSFUL ] org.codehaus.janino#commons-compiler;2.7.6!commons-compiler.jar (548ms)\n",
      "downloading https://repo1.maven.org/maven2/org/codehaus/janino/janino/2.7.6/janino-2.7.6.jar ...\n",
      "\t[SUCCESSFUL ] org.codehaus.janino#janino;2.7.6!janino.jar (586ms)\n",
      "downloading https://repo1.maven.org/maven2/org/apache/hive/hive-llap-client/2.3.9/hive-llap-client-2.3.9.jar ...\n",
      "\t[SUCCESSFUL ] org.apache.hive#hive-llap-client;2.3.9!hive-llap-client.jar (552ms)\n",
      "downloading https://repo1.maven.org/maven2/org/apache/hive/hive-llap-common/2.3.9/hive-llap-common-2.3.9.jar ...\n",
      "\t[SUCCESSFUL ] org.apache.hive#hive-llap-common;2.3.9!hive-llap-common.jar (582ms)\n",
      "downloading https://repo1.maven.org/maven2/org/xerial/snappy/snappy-java/1.1.8.2/snappy-java-1.1.8.2.jar ...\n",
      "\t[SUCCESSFUL ] org.xerial.snappy#snappy-java;1.1.8.2!snappy-java.jar(bundle) (698ms)\n",
      "downloading https://repo1.maven.org/maven2/org/slf4j/slf4j-api/1.7.36/slf4j-api-1.7.36.jar ...\n",
      "\t[SUCCESSFUL ] org.slf4j#slf4j-api;1.7.36!slf4j-api.jar (544ms)\n",
      "downloading https://repo1.maven.org/maven2/com/google/code/findbugs/jsr305/3.0.2/jsr305-3.0.2.jar ...\n",
      "\t[SUCCESSFUL ] com.google.code.findbugs#jsr305;3.0.2!jsr305.jar (543ms)\n",
      ":: resolution report :: resolve 299865ms :: artifacts dl 143747ms\n",
      "\t:: modules in use:\n",
      "\tant#ant;1.6.5 from central in [default]\n",
      "\taopalliance#aopalliance;1.0 from central in [default]\n",
      "\tasm#asm;3.2 from central in [default]\n",
      "\tasm#asm-commons;3.1 from central in [default]\n",
      "\tasm#asm-tree;3.1 from central in [default]\n",
      "\tco.cask.tephra#tephra-api;0.6.0 from central in [default]\n",
      "\tco.cask.tephra#tephra-core;0.6.0 from central in [default]\n",
      "\tco.cask.tephra#tephra-hbase-compat-1.0;0.6.0 from central in [default]\n",
      "\tcom.github.joshelser#dropwizard-metrics-hadoop-metrics2-reporter;0.1.2 from central in [default]\n",
      "\tcom.github.stephenc.findbugs#findbugs-annotations;1.3.9-1 from central in [default]\n",
      "\tcom.google.code.findbugs#jsr305;3.0.2 from central in [default]\n",
      "\tcom.google.code.gson#gson;2.2.4 from central in [default]\n",
      "\tcom.google.guava#guava;14.0.1 from central in [default]\n",
      "\tcom.google.inject#guice;3.0 from central in [default]\n",
      "\tcom.google.inject.extensions#guice-assistedinject;3.0 from central in [default]\n",
      "\tcom.google.inject.extensions#guice-servlet;3.0 from central in [default]\n",
      "\tcom.google.protobuf#protobuf-java;2.5.0 from central in [default]\n",
      "\tcom.jamesmurty.utils#java-xmlbuilder;0.4 from central in [default]\n",
      "\tcom.jcraft#jsch;0.1.42 from central in [default]\n",
      "\tcom.jolbox#bonecp;0.8.0.RELEASE from central in [default]\n",
      "\tcom.sun.jersey#jersey-client;1.9 from central in [default]\n",
      "\tcom.sun.jersey#jersey-core;1.14 from central in [default]\n",
      "\tcom.sun.jersey#jersey-json;1.14 from central in [default]\n",
      "\tcom.sun.jersey#jersey-server;1.14 from central in [default]\n",
      "\tcom.sun.jersey.contribs#jersey-guice;1.9 from central in [default]\n",
      "\tcom.sun.xml.bind#jaxb-impl;2.2.3-1 from central in [default]\n",
      "\tcom.tdunning#json;1.8 from central in [default]\n",
      "\tcom.thoughtworks.paranamer#paranamer;2.7 from central in [default]\n",
      "\tcom.zaxxer#HikariCP;2.5.1 from central in [default]\n",
      "\tcommons-beanutils#commons-beanutils;1.7.0 from central in [default]\n",
      "\tcommons-beanutils#commons-beanutils-core;1.8.0 from central in [default]\n",
      "\tcommons-cli#commons-cli;1.2 from central in [default]\n",
      "\tcommons-codec#commons-codec;1.4 from central in [default]\n",
      "\tcommons-collections#commons-collections;3.2.2 from central in [default]\n",
      "\tcommons-configuration#commons-configuration;1.6 from central in [default]\n",
      "\tcommons-dbcp#commons-dbcp;1.4 from central in [default]\n",
      "\tcommons-digester#commons-digester;1.8 from central in [default]\n",
      "\tcommons-el#commons-el;1.0 from central in [default]\n",
      "\tcommons-httpclient#commons-httpclient;3.1 from central in [default]\n",
      "\tcommons-io#commons-io;2.4 from central in [default]\n",
      "\tcommons-lang#commons-lang;2.6 from central in [default]\n",
      "\tcommons-logging#commons-logging;1.2 from central in [default]\n",
      "\tcommons-net#commons-net;3.1 from central in [default]\n",
      "\tcommons-pool#commons-pool;1.5.4 from central in [default]\n",
      "\tio.airlift#aircompressor;0.8 from central in [default]\n",
      "\tio.airlift#slice;0.29 from central in [default]\n",
      "\tio.dropwizard.metrics#metrics-core;3.1.0 from central in [default]\n",
      "\tio.dropwizard.metrics#metrics-json;3.1.0 from central in [default]\n",
      "\tio.dropwizard.metrics#metrics-jvm;3.1.0 from central in [default]\n",
      "\tio.netty#netty;3.7.0.Final from central in [default]\n",
      "\tio.netty#netty-all;4.0.52.Final from central in [default]\n",
      "\tit.unimi.dsi#fastutil;6.5.6 from central in [default]\n",
      "\tjavax.activation#activation;1.1 from central in [default]\n",
      "\tjavax.inject#javax.inject;1 from central in [default]\n",
      "\tjavax.jdo#jdo-api;3.0.1 from central in [default]\n",
      "\tjavax.mail#mail;1.4.1 from central in [default]\n",
      "\tjavax.servlet#jsp-api;2.0 from central in [default]\n",
      "\tjavax.servlet#servlet-api;2.5 from central in [default]\n",
      "\tjavax.servlet.jsp#jsp-api;2.1 from central in [default]\n",
      "\tjavax.transaction#jta;1.1 from central in [default]\n",
      "\tjavax.transaction#transaction-api;1.1 from central in [default]\n",
      "\tjavax.xml.bind#jaxb-api;2.2.2 from central in [default]\n",
      "\tjavax.xml.stream#stax-api;1.0-2 from central in [default]\n",
      "\tjavolution#javolution;5.5.1 from central in [default]\n",
      "\tjline#jline;2.12 from central in [default]\n",
      "\tjoda-time#joda-time;2.8.1 from central in [default]\n",
      "\tjunit#junit;4.11 from central in [default]\n",
      "\tlog4j#log4j;1.2.17 from central in [default]\n",
      "\tnet.hydromatic#eigenbase-properties;1.1.5 from central in [default]\n",
      "\tnet.java.dev.jets3t#jets3t;0.9.0 from central in [default]\n",
      "\tnet.sf.opencsv#opencsv;2.3 from central in [default]\n",
      "\torg.antlr#ST4;4.0.4 from central in [default]\n",
      "\torg.antlr#antlr-runtime;3.5.2 from central in [default]\n",
      "\torg.apache.ant#ant;1.9.1 from central in [default]\n",
      "\torg.apache.ant#ant-launcher;1.9.1 from central in [default]\n",
      "\torg.apache.avro#avro;1.8.2 from central in [default]\n",
      "\torg.apache.commons#commons-compress;1.9 from central in [default]\n",
      "\torg.apache.commons#commons-lang3;3.1 from central in [default]\n",
      "\torg.apache.commons#commons-math3;3.1.1 from central in [default]\n",
      "\torg.apache.derby#derby;10.10.2.0 from central in [default]\n",
      "\torg.apache.directory.api#api-asn1-api;1.0.0-M20 from central in [default]\n",
      "\torg.apache.directory.api#api-util;1.0.0-M20 from central in [default]\n",
      "\torg.apache.directory.server#apacheds-i18n;2.0.0-M15 from central in [default]\n",
      "\torg.apache.directory.server#apacheds-kerberos-codec;2.0.0-M15 from central in [default]\n",
      "\torg.apache.geronimo.specs#geronimo-annotation_1.0_spec;1.1.1 from central in [default]\n",
      "\torg.apache.geronimo.specs#geronimo-jaspic_1.0_spec;1.0 from central in [default]\n",
      "\torg.apache.geronimo.specs#geronimo-jta_1.1_spec;1.1.1 from central in [default]\n",
      "\torg.apache.hadoop#hadoop-annotations;2.7.2 from central in [default]\n",
      "\torg.apache.hadoop#hadoop-auth;2.7.2 from central in [default]\n",
      "\torg.apache.hadoop#hadoop-client-api;3.3.4 from central in [default]\n",
      "\torg.apache.hadoop#hadoop-client-runtime;3.3.4 from central in [default]\n",
      "\torg.apache.hadoop#hadoop-common;2.7.2 from central in [default]\n",
      "\torg.apache.hadoop#hadoop-mapreduce-client-core;2.7.2 from central in [default]\n",
      "\torg.apache.hadoop#hadoop-yarn-api;2.7.2 from central in [default]\n",
      "\torg.apache.hadoop#hadoop-yarn-common;2.7.2 from central in [default]\n",
      "\torg.apache.hadoop#hadoop-yarn-server-applicationhistoryservice;2.7.2 from central in [default]\n",
      "\torg.apache.hadoop#hadoop-yarn-server-common;2.7.2 from central in [default]\n",
      "\torg.apache.hadoop#hadoop-yarn-server-resourcemanager;2.7.2 from central in [default]\n",
      "\torg.apache.hadoop#hadoop-yarn-server-web-proxy;2.7.2 from central in [default]\n",
      "\torg.apache.hbase#hbase-annotations;1.1.1 from central in [default]\n",
      "\torg.apache.hbase#hbase-client;1.1.1 from central in [default]\n",
      "\torg.apache.hbase#hbase-protocol;1.1.1 from central in [default]\n",
      "\torg.apache.hive#hive-common;2.3.9 from central in [default]\n",
      "\torg.apache.hive#hive-exec;2.3.9 from central in [default]\n",
      "\torg.apache.hive#hive-llap-client;2.3.9 from central in [default]\n",
      "\torg.apache.hive#hive-llap-common;2.3.9 from central in [default]\n",
      "\torg.apache.hive#hive-llap-tez;2.3.9 from central in [default]\n",
      "\torg.apache.hive#hive-metastore;2.3.9 from central in [default]\n",
      "\torg.apache.hive#hive-serde;2.3.9 from central in [default]\n",
      "\torg.apache.hive#hive-service-rpc;2.3.9 from central in [default]\n",
      "\torg.apache.hive#hive-shims;2.3.9 from central in [default]\n",
      "\torg.apache.hive#hive-storage-api;2.4.0 from central in [default]\n",
      "\torg.apache.hive.shims#hive-shims-0.23;2.3.9 from central in [default]\n",
      "\torg.apache.hive.shims#hive-shims-common;2.3.9 from central in [default]\n",
      "\torg.apache.hive.shims#hive-shims-scheduler;2.3.9 from central in [default]\n",
      "\torg.apache.htrace#htrace-core;3.1.0-incubating from central in [default]\n",
      "\torg.apache.httpcomponents#httpclient;4.4 from central in [default]\n",
      "\torg.apache.httpcomponents#httpcore;4.4 from central in [default]\n",
      "\torg.apache.ivy#ivy;2.4.0 from central in [default]\n",
      "\torg.apache.logging.log4j#log4j-1.2-api;2.6.2 from central in [default]\n",
      "\torg.apache.logging.log4j#log4j-slf4j-impl;2.6.2 from central in [default]\n",
      "\torg.apache.logging.log4j#log4j-web;2.6.2 from central in [default]\n",
      "\torg.apache.orc#orc-core;1.3.4 from central in [default]\n",
      "\torg.apache.parquet#parquet-hadoop-bundle;1.8.1 from central in [default]\n",
      "\torg.apache.thrift#libfb303;0.9.3 from central in [default]\n",
      "\torg.apache.thrift#libthrift;0.9.3 from central in [default]\n",
      "\torg.apache.twill#twill-api;0.6.0-incubating from central in [default]\n",
      "\torg.apache.twill#twill-common;0.6.0-incubating from central in [default]\n",
      "\torg.apache.twill#twill-core;0.6.0-incubating from central in [default]\n",
      "\torg.apache.twill#twill-discovery-api;0.6.0-incubating from central in [default]\n",
      "\torg.apache.twill#twill-discovery-core;0.6.0-incubating from central in [default]\n",
      "\torg.apache.twill#twill-zookeeper;0.6.0-incubating from central in [default]\n",
      "\torg.apache.zookeeper#zookeeper;3.4.6 from central in [default]\n",
      "\torg.codehaus.groovy#groovy-all;2.4.4 from central in [default]\n",
      "\torg.codehaus.jackson#jackson-core-asl;1.9.13 from central in [default]\n",
      "\torg.codehaus.jackson#jackson-jaxrs;1.9.13 from central in [default]\n",
      "\torg.codehaus.jackson#jackson-mapper-asl;1.9.13 from central in [default]\n",
      "\torg.codehaus.jackson#jackson-xc;1.9.13 from central in [default]\n",
      "\torg.codehaus.janino#commons-compiler;2.7.6 from central in [default]\n",
      "\torg.codehaus.janino#janino;2.7.6 from central in [default]\n",
      "\torg.codehaus.jettison#jettison;1.1 from central in [default]\n",
      "\torg.datanucleus#datanucleus-api-jdo;4.2.4 from central in [default]\n",
      "\torg.datanucleus#datanucleus-core;4.1.17 from central in [default]\n",
      "\torg.datanucleus#datanucleus-rdbms;4.1.19 from central in [default]\n",
      "\torg.datanucleus#javax.jdo;3.2.0-m3 from central in [default]\n",
      "\torg.eclipse.jetty.aggregate#jetty-all;7.6.0.v20120127 from central in [default]\n",
      "\torg.eclipse.jetty.orbit#javax.servlet;3.0.0.v201112011016 from central in [default]\n",
      "\torg.fusesource.leveldbjni#leveldbjni-all;1.8 from central in [default]\n",
      "\torg.hamcrest#hamcrest-core;1.3 from central in [default]\n",
      "\torg.jruby.jcodings#jcodings;1.0.8 from central in [default]\n",
      "\torg.jruby.joni#joni;2.1.2 from central in [default]\n",
      "\torg.mortbay.jetty#jetty;6.1.26 from central in [default]\n",
      "\torg.mortbay.jetty#jetty-util;6.1.26 from central in [default]\n",
      "\torg.openjdk.jol#jol-core;0.2 from central in [default]\n",
      "\torg.slf4j#slf4j-api;1.7.36 from central in [default]\n",
      "\torg.slf4j#slf4j-log4j12;1.7.14 from central in [default]\n",
      "\torg.sonatype.sisu.inject#cglib;2.2.1-v20090111 from central in [default]\n",
      "\torg.tukaani#xz;1.5 from central in [default]\n",
      "\torg.xerial.snappy#snappy-java;1.1.8.2 from central in [default]\n",
      "\tstax#stax-api;1.0.1 from central in [default]\n",
      "\ttomcat#jasper-compiler;5.5.23 from central in [default]\n",
      "\ttomcat#jasper-runtime;5.5.23 from central in [default]\n",
      "\txmlenc#xmlenc;0.52 from central in [default]\n",
      "\t:: evicted modules:\n",
      "\torg.slf4j#slf4j-api;1.7.10 by [org.slf4j#slf4j-api;1.7.36] in [default]\n",
      "\torg.slf4j#slf4j-log4j12;1.6.1 by [org.slf4j#slf4j-log4j12;1.7.14] in [default]\n",
      "\tlog4j#log4j;1.2.16 by [log4j#log4j;1.2.17] in [default]\n",
      "\tcommons-logging#commons-logging;1.1.3 by [commons-logging#commons-logging;1.2] in [default]\n",
      "\tasm#asm;3.1 by [asm#asm;3.2] in [default]\n",
      "\tio.dropwizard.metrics#metrics-core;3.1.2 by [io.dropwizard.metrics#metrics-core;3.1.0] in [default]\n",
      "\torg.xerial.snappy#snappy-java;1.1.1.3 by [org.xerial.snappy#snappy-java;1.1.8.2] in [default]\n",
      "\tcom.google.code.findbugs#jsr305;3.0.0 by [com.google.code.findbugs#jsr305;3.0.2] in [default]\n",
      "\tjavax.servlet#servlet-api;2.4 by [javax.servlet#servlet-api;2.5] in [default]\n",
      "\tcommons-logging#commons-logging;1.0.3 by [commons-logging#commons-logging;1.2] in [default]\n",
      "\torg.apache.hadoop#hadoop-auth;2.5.1 by [org.apache.hadoop#hadoop-auth;2.7.2] in [default]\n",
      "\tio.netty#netty;3.6.2.Final by [io.netty#netty;3.7.0.Final] in [default]\n",
      "\tcom.google.code.findbugs#jsr305;2.0.1 by [com.google.code.findbugs#jsr305;3.0.0] in [default]\n",
      "\t---------------------------------------------------------------------\n",
      "\t|                  |            modules            ||   artifacts   |\n",
      "\t|       conf       | number| search|dwnlded|evicted|| number|dwnlded|\n",
      "\t---------------------------------------------------------------------\n",
      "\t|      default     |  176  |  168  |  168  |   13  ||  164  |  164  |\n",
      "\t---------------------------------------------------------------------\n",
      ":: retrieving :: org.apache.spark#spark-submit-parent-d0b6e840-45f6-4772-8ade-5aa0f5ea6361\n",
      "\tconfs: [default]\n",
      "\t164 artifacts copied, 0 already retrieved (195519kB/408ms)\n"
     ]
    },
    {
     "data": {
      "text/html": [
       "<table><tr style=\"border-bottom: 1px solid\"><td style=\"font-weight: bold\">namespace</td></tr><tr><td>default</td></tr></table>"
      ],
      "text/plain": [
       "<IPython.core.display.HTML object>"
      ]
     },
     "execution_count": 7,
     "metadata": {},
     "output_type": "execute_result"
    }
   ],
   "source": [
    "%%sparksql\n",
    "SHOW DATABASES;"
   ]
  },
  {
   "cell_type": "code",
   "execution_count": 8,
   "id": "c45168fa-36a3-4fcf-a863-b61565a8f9e7",
   "metadata": {},
   "outputs": [
    {
     "data": {
      "text/html": [
       "<table><tr style=\"border-bottom: 1px solid\"><td style=\"font-weight: bold\">namespace</td><td style=\"font-weight: bold\">tableName</td><td style=\"font-weight: bold\">isTemporary</td></tr></table>"
      ],
      "text/plain": [
       "<IPython.core.display.HTML object>"
      ]
     },
     "execution_count": 8,
     "metadata": {},
     "output_type": "execute_result"
    }
   ],
   "source": [
    "%%sparksql\n",
    "SHOW TABLES;"
   ]
  },
  {
   "cell_type": "code",
   "execution_count": 9,
   "id": "3b640817-22e4-4df5-b046-b243addcb5ce",
   "metadata": {
    "scrolled": true
   },
   "outputs": [
    {
     "name": "stderr",
     "output_type": "stream",
     "text": [
      "25/01/24 08:32:13 WARN HiveExternalCatalog: Couldn't find corresponding Hive SerDe for data source provider delta. Persisting data source table `spark_catalog`.`default`.`test_delta_table_managed` into Hive metastore in Spark SQL specific format, which is NOT compatible with Hive.\n"
     ]
    }
   ],
   "source": [
    "df.write.format(\"delta\").saveAsTable(\"`test_delta_table_managed`\")"
   ]
  },
  {
   "cell_type": "code",
   "execution_count": 14,
   "id": "e4397df7-3f3c-4c3b-a457-39c880b9fa31",
   "metadata": {},
   "outputs": [
    {
     "name": "stderr",
     "output_type": "stream",
     "text": [
      "25/01/24 08:36:04 WARN SparkStringUtils: Truncated the string representation of a plan since it was too large. This behavior can be adjusted by setting 'spark.sql.debug.maxToStringFields'.\n",
      "                                                                                "
     ]
    },
    {
     "name": "stdout",
     "output_type": "stream",
     "text": [
      "+------+---+\n",
      "|  Name|Age|\n",
      "+------+---+\n",
      "|Aayush| 35|\n",
      "|Neeraj| 28|\n",
      "| Jerin| 29|\n",
      "+------+---+\n",
      "\n"
     ]
    }
   ],
   "source": [
    "spark.sql(\"Select * from test_delta_table_managed\").show()"
   ]
  },
  {
   "cell_type": "code",
   "execution_count": 12,
   "id": "691a3b5f-72bb-4a8f-9b84-7750979a7ef4",
   "metadata": {},
   "outputs": [
    {
     "name": "stderr",
     "output_type": "stream",
     "text": [
      "25/01/24 08:34:22 WARN ResolveSessionCatalog: A Hive serde table will be created as there is no table provider specified. You can set spark.sql.legacy.createHiveTableByDefault to false so that native data source table will be created instead.\n"
     ]
    },
    {
     "data": {
      "text/html": [
       "<table><tr style=\"border-bottom: 1px solid\"></tr></table>"
      ],
      "text/plain": [
       "<IPython.core.display.HTML object>"
      ]
     },
     "execution_count": 12,
     "metadata": {},
     "output_type": "execute_result"
    }
   ],
   "source": [
    "%%sparksql \n",
    "Create table default.test_table_by_sparksql(id int, name STRING);"
   ]
  },
  {
   "cell_type": "code",
   "execution_count": 13,
   "id": "0a207eba-a61f-4548-a424-f0e65cb9613d",
   "metadata": {
    "scrolled": true
   },
   "outputs": [
    {
     "name": "stderr",
     "output_type": "stream",
     "text": [
      "25/01/24 08:35:35 WARN AbstractS3ACommitterFactory: Using standard FileOutputCommitter to commit work. This is slow and potentially unsafe.\n",
      "                                                                                "
     ]
    },
    {
     "data": {
      "text/html": [
       "<table><tr style=\"border-bottom: 1px solid\"></tr></table>"
      ],
      "text/plain": [
       "<IPython.core.display.HTML object>"
      ]
     },
     "execution_count": 13,
     "metadata": {},
     "output_type": "execute_result"
    }
   ],
   "source": [
    "%%sparksql \n",
    "INSERT INTO test_table_by_sparksql VALUES (1,'Sam'),(2,'Kumar'),(3,'Shinde');"
   ]
  },
  {
   "cell_type": "code",
   "execution_count": 15,
   "id": "b43509ac-4b12-4e3f-bc71-c75a0dc94325",
   "metadata": {},
   "outputs": [
    {
     "data": {
      "text/html": [
       "<table><tr style=\"border-bottom: 1px solid\"><td style=\"font-weight: bold\">id</td><td style=\"font-weight: bold\">name</td></tr><tr><td>1</td><td>Sam</td></tr><tr><td>2</td><td>Kumar</td></tr><tr><td>3</td><td>Shinde</td></tr></table>"
      ],
      "text/plain": [
       "<IPython.core.display.HTML object>"
      ]
     },
     "execution_count": 15,
     "metadata": {},
     "output_type": "execute_result"
    }
   ],
   "source": [
    "%%sparksql\n",
    "\n",
    "select * from default.test_table_by_sparksql;"
   ]
  },
  {
   "cell_type": "code",
   "execution_count": 16,
   "id": "c02e3fcc-6152-4f7c-a2f4-a7b41c64406e",
   "metadata": {},
   "outputs": [
    {
     "data": {
      "text/html": [
       "<table><tr style=\"border-bottom: 1px solid\"><td style=\"font-weight: bold\">namespace</td><td style=\"font-weight: bold\">tableName</td><td style=\"font-weight: bold\">isTemporary</td></tr><tr><td>default</td><td>test_delta_table_managed</td><td>False</td></tr><tr><td>default</td><td>test_table_by_sparksql</td><td>False</td></tr></table>"
      ],
      "text/plain": [
       "<IPython.core.display.HTML object>"
      ]
     },
     "execution_count": 16,
     "metadata": {},
     "output_type": "execute_result"
    }
   ],
   "source": [
    "%%sparksql\n",
    "SHOW TABLES;"
   ]
  },
  {
   "cell_type": "code",
   "execution_count": 17,
   "id": "836e21ac-2e27-4461-b664-3c74e3d5ffb2",
   "metadata": {},
   "outputs": [
    {
     "name": "stdout",
     "output_type": "stream",
     "text": [
      "only showing top 20 row(s)\n"
     ]
    },
    {
     "data": {
      "text/html": [
       "<table><tr style=\"border-bottom: 1px solid\"><td style=\"font-weight: bold\">col_name</td><td style=\"font-weight: bold\">data_type</td><td style=\"font-weight: bold\">comment</td></tr><tr><td>id</td><td>int</td><td>null</td></tr><tr><td>name</td><td>string</td><td>null</td></tr><tr><td></td><td></td><td></td></tr><tr><td># Detailed Table Information</td><td></td><td></td></tr><tr><td>Catalog</td><td>spark_catalog</td><td></td></tr><tr><td>Database</td><td>default</td><td></td></tr><tr><td>Table</td><td>test_table_by_sparksql</td><td></td></tr><tr><td>Owner</td><td>root</td><td></td></tr><tr><td>Created Time</td><td>Fri Jan 24 08:34:22 UTC 2025</td><td></td></tr><tr><td>Last Access</td><td>UNKNOWN</td><td></td></tr><tr><td>Created By</td><td>Spark 3.5.4</td><td></td></tr><tr><td>Type</td><td>MANAGED</td><td></td></tr><tr><td>Provider</td><td>hive</td><td></td></tr><tr><td>Table Properties</td><td>[transient_lastDdlTime=1737707739]</td><td></td></tr><tr><td>Statistics</td><td>23 bytes</td><td></td></tr><tr><td>Location</td><td>s3a://hivebucket/delta-lake/data/test_table_by_sparksql</td><td></td></tr><tr><td>Serde Library</td><td>org.apache.hadoop.hive.serde2.lazy.LazySimpleSerDe</td><td></td></tr><tr><td>InputFormat</td><td>org.apache.hadoop.mapred.TextInputFormat</td><td></td></tr><tr><td>OutputFormat</td><td>org.apache.hadoop.hive.ql.io.HiveIgnoreKeyTextOutputFormat</td><td></td></tr><tr><td>Storage Properties</td><td>[serialization.format=1]</td><td></td></tr></table>"
      ],
      "text/plain": [
       "<IPython.core.display.HTML object>"
      ]
     },
     "execution_count": 17,
     "metadata": {},
     "output_type": "execute_result"
    }
   ],
   "source": [
    "%%sparksql \n",
    "DESCRIBE EXTENDED default.test_table_by_sparksql;"
   ]
  },
  {
   "cell_type": "code",
   "execution_count": 18,
   "id": "2a651a26-e277-46d9-8270-3b5c49b5d639",
   "metadata": {
    "scrolled": true
   },
   "outputs": [
    {
     "data": {
      "text/html": [
       "<table><tr style=\"border-bottom: 1px solid\"></tr></table>"
      ],
      "text/plain": [
       "<IPython.core.display.HTML object>"
      ]
     },
     "execution_count": 18,
     "metadata": {},
     "output_type": "execute_result"
    }
   ],
   "source": [
    "%%sparksql \n",
    "DROP TABLE default.test_delta_table_managed"
   ]
  },
  {
   "cell_type": "code",
   "execution_count": 20,
   "id": "5b448bc3-acd8-4fbb-b2c7-03614d55d183",
   "metadata": {},
   "outputs": [
    {
     "data": {
      "text/html": [
       "<table><tr style=\"border-bottom: 1px solid\"></tr></table>"
      ],
      "text/plain": [
       "<IPython.core.display.HTML object>"
      ]
     },
     "execution_count": 20,
     "metadata": {},
     "output_type": "execute_result"
    }
   ],
   "source": [
    "%%sparksql \n",
    "DROP TABLE default.test_table_by_sparksql"
   ]
  },
  {
   "cell_type": "code",
   "execution_count": null,
   "id": "e375b759-624b-4465-80cb-4702f6b3ed56",
   "metadata": {},
   "outputs": [],
   "source": []
  }
 ],
 "metadata": {
  "kernelspec": {
   "display_name": "Python 3 (ipykernel)",
   "language": "python",
   "name": "python3"
  },
  "language_info": {
   "codemirror_mode": {
    "name": "ipython",
    "version": 3
   },
   "file_extension": ".py",
   "mimetype": "text/x-python",
   "name": "python",
   "nbconvert_exporter": "python",
   "pygments_lexer": "ipython3",
   "version": "3.11.11"
  }
 },
 "nbformat": 4,
 "nbformat_minor": 5
}
