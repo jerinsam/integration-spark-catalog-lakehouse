{
 "cells": [
  {
   "cell_type": "code",
   "execution_count": 1,
   "id": "b61aad15-e4d6-4f5a-8e08-fc1db0c578d8",
   "metadata": {},
   "outputs": [],
   "source": [
    "# from pyspark.sql import SparkSession"
   ]
  },
  {
   "cell_type": "code",
   "execution_count": 1,
   "id": "7ccd36bb-4e21-4352-98f4-55df269b6214",
   "metadata": {},
   "outputs": [],
   "source": [
    "%load_ext sparksql_magic"
   ]
  },
  {
   "cell_type": "markdown",
   "id": "16db51e2-6f41-45bf-9a7b-f7e44180cf76",
   "metadata": {},
   "source": [
    "### Following code is used to initilize the Spark Session. Delta lake package is used while creating the spark session, which will help to save spark dataframe as Delta Table."
   ]
  },
  {
   "cell_type": "code",
   "execution_count": null,
   "id": "5241b61e",
   "metadata": {},
   "outputs": [],
   "source": [
    "# # Initialize SparkSession\n",
    "# spark = SparkSession.builder \\\n",
    "#     .appName(\"add-delta-lake-with-unity-catalog\") \\\n",
    "#     .master(\"spark://spark-master:7077\") \\\n",
    "#     .config(\"spark.jars.packages\", \"io.delta:delta-spark_2.12:3.2.1\")\\\n",
    "#     .config(\"spark.jars.packages\", \"io.unitycatalog:unitycatalog-spark_2.12:0.2.0\")\\\n",
    "#     .config(\"spark.sql.extensions\", \"io.delta.sql.DeltaSparkSessionExtension\") \\\n",
    "#     .config(\"spark.sql.catalog.spark_catalog\", \"io.unitycatalog.spark.UCSingleCatalog\")\\\n",
    "#     .config(\"spark.sql.catalog.unity\", \"io.unitycatalog.spark.UCSingleCatalog\")\\\n",
    "#     .config(\"spark.sql.catalog.unity.uri\",\"http://unity-catalog:8080\")\\\n",
    "#     .config(\"spark.sql.catalog.unity.token\", \"\")\\\n",
    "#     .config(\"spark.sql.defaultCatalog\",\"unity\")\\\n",
    "#     .getOrCreate() \n"
   ]
  },
  {
   "cell_type": "code",
   "execution_count": 9,
   "id": "d50f5cef-634f-447b-840c-3d24785da0fd",
   "metadata": {},
   "outputs": [],
   "source": [
    "# To stop SparkSession\n",
    "# spark.stop()"
   ]
  },
  {
   "cell_type": "code",
   "execution_count": 85,
   "id": "5dfa4f79-76b1-49c3-95a7-89ed84c111e4",
   "metadata": {
    "collapsed": true,
    "jupyter": {
     "outputs_hidden": true
    },
    "scrolled": true
   },
   "outputs": [
    {
     "data": {
      "text/plain": [
       "[('spark.eventLog.enabled', 'true'),\n",
       " ('spark.jars',\n",
       "  'file:///root/.ivy2/jars/io.delta_delta-spark_2.12-3.2.0.jar,file:///root/.ivy2/jars/io.unitycatalog_unitycatalog-spark_2.12-0.2.0.jar,file:///root/.ivy2/jars/io.delta_delta-storage-3.2.0.jar,file:///root/.ivy2/jars/org.antlr_antlr4-runtime-4.9.3.jar,file:///root/.ivy2/jars/io.unitycatalog_unitycatalog-client-0.2.0.jar,file:///root/.ivy2/jars/org.slf4j_slf4j-api-2.0.13.jar,file:///root/.ivy2/jars/org.apache.logging.log4j_log4j-slf4j2-impl-2.23.1.jar,file:///root/.ivy2/jars/org.apache.logging.log4j_log4j-api-2.23.1.jar,file:///root/.ivy2/jars/com.fasterxml.jackson.core_jackson-databind-2.15.0.jar,file:///root/.ivy2/jars/com.fasterxml.jackson.module_jackson-module-scala_2.12-2.15.0.jar,file:///root/.ivy2/jars/com.fasterxml.jackson.core_jackson-annotations-2.15.0.jar,file:///root/.ivy2/jars/com.fasterxml.jackson.core_jackson-core-2.15.0.jar,file:///root/.ivy2/jars/com.fasterxml.jackson.dataformat_jackson-dataformat-xml-2.15.0.jar,file:///root/.ivy2/jars/org.antlr_antlr4-4.9.3.jar,file:///root/.ivy2/jars/org.apache.hadoop_hadoop-client-runtime-3.4.0.jar,file:///root/.ivy2/jars/com.fasterxml.jackson.datatype_jackson-datatype-jsr310-2.17.0.jar,file:///root/.ivy2/jars/org.openapitools_jackson-databind-nullable-0.2.6.jar,file:///root/.ivy2/jars/com.google.code.findbugs_jsr305-3.0.2.jar,file:///root/.ivy2/jars/org.apache.logging.log4j_log4j-core-2.23.1.jar,file:///root/.ivy2/jars/com.thoughtworks.paranamer_paranamer-2.8.jar,file:///root/.ivy2/jars/org.codehaus.woodstox_stax2-api-4.2.1.jar,file:///root/.ivy2/jars/com.fasterxml.woodstox_woodstox-core-6.5.1.jar,file:///root/.ivy2/jars/org.antlr_antlr-runtime-3.5.2.jar,file:///root/.ivy2/jars/org.antlr_ST4-4.3.1.jar,file:///root/.ivy2/jars/org.abego.treelayout_org.abego.treelayout.core-1.0.3.jar,file:///root/.ivy2/jars/org.glassfish_javax.json-1.0.4.jar,file:///root/.ivy2/jars/com.ibm.icu_icu4j-69.1.jar,file:///root/.ivy2/jars/org.apache.hadoop_hadoop-client-api-3.4.0.jar,file:///root/.ivy2/jars/org.xerial.snappy_snappy-java-1.1.10.4.jar,file:///root/.ivy2/jars/commons-logging_commons-logging-1.2.jar'),\n",
       " ('spark.app.id', 'app-20250103065338-0003'),\n",
       " ('spark.app.startTime', '1735887217085'),\n",
       " ('spark.app.submitTime', '1735887216550'),\n",
       " ('spark.files',\n",
       "  'file:///root/.ivy2/jars/io.delta_delta-spark_2.12-3.2.0.jar,file:///root/.ivy2/jars/io.unitycatalog_unitycatalog-spark_2.12-0.2.0.jar,file:///root/.ivy2/jars/io.delta_delta-storage-3.2.0.jar,file:///root/.ivy2/jars/org.antlr_antlr4-runtime-4.9.3.jar,file:///root/.ivy2/jars/io.unitycatalog_unitycatalog-client-0.2.0.jar,file:///root/.ivy2/jars/org.slf4j_slf4j-api-2.0.13.jar,file:///root/.ivy2/jars/org.apache.logging.log4j_log4j-slf4j2-impl-2.23.1.jar,file:///root/.ivy2/jars/org.apache.logging.log4j_log4j-api-2.23.1.jar,file:///root/.ivy2/jars/com.fasterxml.jackson.core_jackson-databind-2.15.0.jar,file:///root/.ivy2/jars/com.fasterxml.jackson.module_jackson-module-scala_2.12-2.15.0.jar,file:///root/.ivy2/jars/com.fasterxml.jackson.core_jackson-annotations-2.15.0.jar,file:///root/.ivy2/jars/com.fasterxml.jackson.core_jackson-core-2.15.0.jar,file:///root/.ivy2/jars/com.fasterxml.jackson.dataformat_jackson-dataformat-xml-2.15.0.jar,file:///root/.ivy2/jars/org.antlr_antlr4-4.9.3.jar,file:///root/.ivy2/jars/org.apache.hadoop_hadoop-client-runtime-3.4.0.jar,file:///root/.ivy2/jars/com.fasterxml.jackson.datatype_jackson-datatype-jsr310-2.17.0.jar,file:///root/.ivy2/jars/org.openapitools_jackson-databind-nullable-0.2.6.jar,file:///root/.ivy2/jars/com.google.code.findbugs_jsr305-3.0.2.jar,file:///root/.ivy2/jars/org.apache.logging.log4j_log4j-core-2.23.1.jar,file:///root/.ivy2/jars/com.thoughtworks.paranamer_paranamer-2.8.jar,file:///root/.ivy2/jars/org.codehaus.woodstox_stax2-api-4.2.1.jar,file:///root/.ivy2/jars/com.fasterxml.woodstox_woodstox-core-6.5.1.jar,file:///root/.ivy2/jars/org.antlr_antlr-runtime-3.5.2.jar,file:///root/.ivy2/jars/org.antlr_ST4-4.3.1.jar,file:///root/.ivy2/jars/org.abego.treelayout_org.abego.treelayout.core-1.0.3.jar,file:///root/.ivy2/jars/org.glassfish_javax.json-1.0.4.jar,file:///root/.ivy2/jars/com.ibm.icu_icu4j-69.1.jar,file:///root/.ivy2/jars/org.apache.hadoop_hadoop-client-api-3.4.0.jar,file:///root/.ivy2/jars/org.xerial.snappy_snappy-java-1.1.10.4.jar,file:///root/.ivy2/jars/commons-logging_commons-logging-1.2.jar'),\n",
       " ('spark.master', 'spark://spark-master:7077'),\n",
       " ('spark.serializer.objectStreamReset', '100'),\n",
       " ('spark.submit.deployMode', 'client'),\n",
       " ('spark.sql.catalog.unity.token', ''),\n",
       " ('spark.driver.port', '41263'),\n",
       " ('spark.driver.extraJavaOptions',\n",
       "  '-Djava.net.preferIPv6Addresses=false -XX:+IgnoreUnrecognizedVMOptions --add-opens=java.base/java.lang=ALL-UNNAMED --add-opens=java.base/java.lang.invoke=ALL-UNNAMED --add-opens=java.base/java.lang.reflect=ALL-UNNAMED --add-opens=java.base/java.io=ALL-UNNAMED --add-opens=java.base/java.net=ALL-UNNAMED --add-opens=java.base/java.nio=ALL-UNNAMED --add-opens=java.base/java.util=ALL-UNNAMED --add-opens=java.base/java.util.concurrent=ALL-UNNAMED --add-opens=java.base/java.util.concurrent.atomic=ALL-UNNAMED --add-opens=java.base/jdk.internal.ref=ALL-UNNAMED --add-opens=java.base/sun.nio.ch=ALL-UNNAMED --add-opens=java.base/sun.nio.cs=ALL-UNNAMED --add-opens=java.base/sun.security.action=ALL-UNNAMED --add-opens=java.base/sun.util.calendar=ALL-UNNAMED --add-opens=java.security.jgss/sun.security.krb5=ALL-UNNAMED -Djdk.reflect.useDirectMethodHandle=false'),\n",
       " ('spark.submit.pyFiles',\n",
       "  '/root/.ivy2/jars/io.delta_delta-spark_2.12-3.2.0.jar,/root/.ivy2/jars/io.unitycatalog_unitycatalog-spark_2.12-0.2.0.jar,/root/.ivy2/jars/io.delta_delta-storage-3.2.0.jar,/root/.ivy2/jars/org.antlr_antlr4-runtime-4.9.3.jar,/root/.ivy2/jars/io.unitycatalog_unitycatalog-client-0.2.0.jar,/root/.ivy2/jars/org.slf4j_slf4j-api-2.0.13.jar,/root/.ivy2/jars/org.apache.logging.log4j_log4j-slf4j2-impl-2.23.1.jar,/root/.ivy2/jars/org.apache.logging.log4j_log4j-api-2.23.1.jar,/root/.ivy2/jars/com.fasterxml.jackson.core_jackson-databind-2.15.0.jar,/root/.ivy2/jars/com.fasterxml.jackson.module_jackson-module-scala_2.12-2.15.0.jar,/root/.ivy2/jars/com.fasterxml.jackson.core_jackson-annotations-2.15.0.jar,/root/.ivy2/jars/com.fasterxml.jackson.core_jackson-core-2.15.0.jar,/root/.ivy2/jars/com.fasterxml.jackson.dataformat_jackson-dataformat-xml-2.15.0.jar,/root/.ivy2/jars/org.antlr_antlr4-4.9.3.jar,/root/.ivy2/jars/org.apache.hadoop_hadoop-client-runtime-3.4.0.jar,/root/.ivy2/jars/com.fasterxml.jackson.datatype_jackson-datatype-jsr310-2.17.0.jar,/root/.ivy2/jars/org.openapitools_jackson-databind-nullable-0.2.6.jar,/root/.ivy2/jars/com.google.code.findbugs_jsr305-3.0.2.jar,/root/.ivy2/jars/org.apache.logging.log4j_log4j-core-2.23.1.jar,/root/.ivy2/jars/com.thoughtworks.paranamer_paranamer-2.8.jar,/root/.ivy2/jars/org.codehaus.woodstox_stax2-api-4.2.1.jar,/root/.ivy2/jars/com.fasterxml.woodstox_woodstox-core-6.5.1.jar,/root/.ivy2/jars/org.antlr_antlr-runtime-3.5.2.jar,/root/.ivy2/jars/org.antlr_ST4-4.3.1.jar,/root/.ivy2/jars/org.abego.treelayout_org.abego.treelayout.core-1.0.3.jar,/root/.ivy2/jars/org.glassfish_javax.json-1.0.4.jar,/root/.ivy2/jars/com.ibm.icu_icu4j-69.1.jar,/root/.ivy2/jars/org.apache.hadoop_hadoop-client-api-3.4.0.jar,/root/.ivy2/jars/org.xerial.snappy_snappy-java-1.1.10.4.jar,/root/.ivy2/jars/commons-logging_commons-logging-1.2.jar'),\n",
       " ('spark.executor.id', 'driver'),\n",
       " ('spark.sql.warehouse.dir', 'file:/opt/spark/apps/spark-warehouse'),\n",
       " ('spark.app.initial.file.urls',\n",
       "  'spark://2c03a8ef8999:41263/files/org.slf4j_slf4j-api-2.0.13.jar,spark://2c03a8ef8999:41263/files/org.apache.hadoop_hadoop-client-api-3.4.0.jar,spark://2c03a8ef8999:41263/files/io.delta_delta-spark_2.12-3.2.0.jar,spark://2c03a8ef8999:41263/files/io.unitycatalog_unitycatalog-spark_2.12-0.2.0.jar,spark://2c03a8ef8999:41263/files/io.unitycatalog_unitycatalog-client-0.2.0.jar,spark://2c03a8ef8999:41263/files/commons-logging_commons-logging-1.2.jar,spark://2c03a8ef8999:41263/files/com.fasterxml.jackson.core_jackson-core-2.15.0.jar,spark://2c03a8ef8999:41263/files/com.google.code.findbugs_jsr305-3.0.2.jar,spark://2c03a8ef8999:41263/files/org.apache.hadoop_hadoop-client-runtime-3.4.0.jar,spark://2c03a8ef8999:41263/files/org.abego.treelayout_org.abego.treelayout.core-1.0.3.jar,spark://2c03a8ef8999:41263/files/org.apache.logging.log4j_log4j-api-2.23.1.jar,spark://2c03a8ef8999:41263/files/org.antlr_antlr-runtime-3.5.2.jar,spark://2c03a8ef8999:41263/files/com.fasterxml.jackson.datatype_jackson-datatype-jsr310-2.17.0.jar,spark://2c03a8ef8999:41263/files/org.antlr_antlr4-4.9.3.jar,spark://2c03a8ef8999:41263/files/org.glassfish_javax.json-1.0.4.jar,spark://2c03a8ef8999:41263/files/com.fasterxml.jackson.module_jackson-module-scala_2.12-2.15.0.jar,spark://2c03a8ef8999:41263/files/org.apache.logging.log4j_log4j-core-2.23.1.jar,spark://2c03a8ef8999:41263/files/org.xerial.snappy_snappy-java-1.1.10.4.jar,spark://2c03a8ef8999:41263/files/com.fasterxml.woodstox_woodstox-core-6.5.1.jar,spark://2c03a8ef8999:41263/files/org.antlr_antlr4-runtime-4.9.3.jar,spark://2c03a8ef8999:41263/files/com.ibm.icu_icu4j-69.1.jar,spark://2c03a8ef8999:41263/files/org.apache.logging.log4j_log4j-slf4j2-impl-2.23.1.jar,spark://2c03a8ef8999:41263/files/io.delta_delta-storage-3.2.0.jar,spark://2c03a8ef8999:41263/files/org.antlr_ST4-4.3.1.jar,spark://2c03a8ef8999:41263/files/com.thoughtworks.paranamer_paranamer-2.8.jar,spark://2c03a8ef8999:41263/files/com.fasterxml.jackson.core_jackson-databind-2.15.0.jar,spark://2c03a8ef8999:41263/files/com.fasterxml.jackson.dataformat_jackson-dataformat-xml-2.15.0.jar,spark://2c03a8ef8999:41263/files/org.openapitools_jackson-databind-nullable-0.2.6.jar,spark://2c03a8ef8999:41263/files/org.codehaus.woodstox_stax2-api-4.2.1.jar,spark://2c03a8ef8999:41263/files/com.fasterxml.jackson.core_jackson-annotations-2.15.0.jar'),\n",
       " ('spark.sql.catalog.unity', 'io.unitycatalog.spark.UCSingleCatalog'),\n",
       " ('spark.app.name', 'unity-catalog-pyspark-session'),\n",
       " ('spark.history.fs.logDirectory', '/opt/spark/spark-events'),\n",
       " ('spark.sql.catalogImplementation', 'hive'),\n",
       " ('spark.sql.extensions', 'io.delta.sql.DeltaSparkSessionExtension'),\n",
       " ('spark.sql.catalog.spark_catalog', 'io.unitycatalog.spark.UCSingleCatalog'),\n",
       " ('spark.rdd.compress', 'True'),\n",
       " ('spark.executor.extraJavaOptions',\n",
       "  '-Djava.net.preferIPv6Addresses=false -XX:+IgnoreUnrecognizedVMOptions --add-opens=java.base/java.lang=ALL-UNNAMED --add-opens=java.base/java.lang.invoke=ALL-UNNAMED --add-opens=java.base/java.lang.reflect=ALL-UNNAMED --add-opens=java.base/java.io=ALL-UNNAMED --add-opens=java.base/java.net=ALL-UNNAMED --add-opens=java.base/java.nio=ALL-UNNAMED --add-opens=java.base/java.util=ALL-UNNAMED --add-opens=java.base/java.util.concurrent=ALL-UNNAMED --add-opens=java.base/java.util.concurrent.atomic=ALL-UNNAMED --add-opens=java.base/jdk.internal.ref=ALL-UNNAMED --add-opens=java.base/sun.nio.ch=ALL-UNNAMED --add-opens=java.base/sun.nio.cs=ALL-UNNAMED --add-opens=java.base/sun.security.action=ALL-UNNAMED --add-opens=java.base/sun.util.calendar=ALL-UNNAMED --add-opens=java.security.jgss/sun.security.krb5=ALL-UNNAMED -Djdk.reflect.useDirectMethodHandle=false'),\n",
       " ('spark.driver.host', '2c03a8ef8999'),\n",
       " ('spark.app.initial.jar.urls',\n",
       "  'spark://2c03a8ef8999:41263/jars/org.xerial.snappy_snappy-java-1.1.10.4.jar,spark://2c03a8ef8999:41263/jars/com.fasterxml.jackson.core_jackson-core-2.15.0.jar,spark://2c03a8ef8999:41263/jars/com.fasterxml.jackson.module_jackson-module-scala_2.12-2.15.0.jar,spark://2c03a8ef8999:41263/jars/com.fasterxml.jackson.core_jackson-databind-2.15.0.jar,spark://2c03a8ef8999:41263/jars/org.antlr_antlr-runtime-3.5.2.jar,spark://2c03a8ef8999:41263/jars/com.fasterxml.jackson.datatype_jackson-datatype-jsr310-2.17.0.jar,spark://2c03a8ef8999:41263/jars/com.fasterxml.woodstox_woodstox-core-6.5.1.jar,spark://2c03a8ef8999:41263/jars/com.fasterxml.jackson.core_jackson-annotations-2.15.0.jar,spark://2c03a8ef8999:41263/jars/com.thoughtworks.paranamer_paranamer-2.8.jar,spark://2c03a8ef8999:41263/jars/org.apache.hadoop_hadoop-client-api-3.4.0.jar,spark://2c03a8ef8999:41263/jars/org.apache.logging.log4j_log4j-slf4j2-impl-2.23.1.jar,spark://2c03a8ef8999:41263/jars/org.apache.logging.log4j_log4j-core-2.23.1.jar,spark://2c03a8ef8999:41263/jars/org.apache.hadoop_hadoop-client-runtime-3.4.0.jar,spark://2c03a8ef8999:41263/jars/io.unitycatalog_unitycatalog-client-0.2.0.jar,spark://2c03a8ef8999:41263/jars/org.antlr_antlr4-4.9.3.jar,spark://2c03a8ef8999:41263/jars/com.google.code.findbugs_jsr305-3.0.2.jar,spark://2c03a8ef8999:41263/jars/com.ibm.icu_icu4j-69.1.jar,spark://2c03a8ef8999:41263/jars/org.openapitools_jackson-databind-nullable-0.2.6.jar,spark://2c03a8ef8999:41263/jars/io.delta_delta-storage-3.2.0.jar,spark://2c03a8ef8999:41263/jars/io.unitycatalog_unitycatalog-spark_2.12-0.2.0.jar,spark://2c03a8ef8999:41263/jars/org.codehaus.woodstox_stax2-api-4.2.1.jar,spark://2c03a8ef8999:41263/jars/org.antlr_ST4-4.3.1.jar,spark://2c03a8ef8999:41263/jars/org.apache.logging.log4j_log4j-api-2.23.1.jar,spark://2c03a8ef8999:41263/jars/com.fasterxml.jackson.dataformat_jackson-dataformat-xml-2.15.0.jar,spark://2c03a8ef8999:41263/jars/commons-logging_commons-logging-1.2.jar,spark://2c03a8ef8999:41263/jars/org.antlr_antlr4-runtime-4.9.3.jar,spark://2c03a8ef8999:41263/jars/org.abego.treelayout_org.abego.treelayout.core-1.0.3.jar,spark://2c03a8ef8999:41263/jars/io.delta_delta-spark_2.12-3.2.0.jar,spark://2c03a8ef8999:41263/jars/org.slf4j_slf4j-api-2.0.13.jar,spark://2c03a8ef8999:41263/jars/org.glassfish_javax.json-1.0.4.jar'),\n",
       " ('spark.repl.local.jars',\n",
       "  'file:///root/.ivy2/jars/io.delta_delta-spark_2.12-3.2.0.jar,file:///root/.ivy2/jars/io.unitycatalog_unitycatalog-spark_2.12-0.2.0.jar,file:///root/.ivy2/jars/io.delta_delta-storage-3.2.0.jar,file:///root/.ivy2/jars/org.antlr_antlr4-runtime-4.9.3.jar,file:///root/.ivy2/jars/io.unitycatalog_unitycatalog-client-0.2.0.jar,file:///root/.ivy2/jars/org.slf4j_slf4j-api-2.0.13.jar,file:///root/.ivy2/jars/org.apache.logging.log4j_log4j-slf4j2-impl-2.23.1.jar,file:///root/.ivy2/jars/org.apache.logging.log4j_log4j-api-2.23.1.jar,file:///root/.ivy2/jars/com.fasterxml.jackson.core_jackson-databind-2.15.0.jar,file:///root/.ivy2/jars/com.fasterxml.jackson.module_jackson-module-scala_2.12-2.15.0.jar,file:///root/.ivy2/jars/com.fasterxml.jackson.core_jackson-annotations-2.15.0.jar,file:///root/.ivy2/jars/com.fasterxml.jackson.core_jackson-core-2.15.0.jar,file:///root/.ivy2/jars/com.fasterxml.jackson.dataformat_jackson-dataformat-xml-2.15.0.jar,file:///root/.ivy2/jars/org.antlr_antlr4-4.9.3.jar,file:///root/.ivy2/jars/org.apache.hadoop_hadoop-client-runtime-3.4.0.jar,file:///root/.ivy2/jars/com.fasterxml.jackson.datatype_jackson-datatype-jsr310-2.17.0.jar,file:///root/.ivy2/jars/org.openapitools_jackson-databind-nullable-0.2.6.jar,file:///root/.ivy2/jars/com.google.code.findbugs_jsr305-3.0.2.jar,file:///root/.ivy2/jars/org.apache.logging.log4j_log4j-core-2.23.1.jar,file:///root/.ivy2/jars/com.thoughtworks.paranamer_paranamer-2.8.jar,file:///root/.ivy2/jars/org.codehaus.woodstox_stax2-api-4.2.1.jar,file:///root/.ivy2/jars/com.fasterxml.woodstox_woodstox-core-6.5.1.jar,file:///root/.ivy2/jars/org.antlr_antlr-runtime-3.5.2.jar,file:///root/.ivy2/jars/org.antlr_ST4-4.3.1.jar,file:///root/.ivy2/jars/org.abego.treelayout_org.abego.treelayout.core-1.0.3.jar,file:///root/.ivy2/jars/org.glassfish_javax.json-1.0.4.jar,file:///root/.ivy2/jars/com.ibm.icu_icu4j-69.1.jar,file:///root/.ivy2/jars/org.apache.hadoop_hadoop-client-api-3.4.0.jar,file:///root/.ivy2/jars/org.xerial.snappy_snappy-java-1.1.10.4.jar,file:///root/.ivy2/jars/commons-logging_commons-logging-1.2.jar'),\n",
       " ('spark.sql.catalog.unity.uri', 'http://unity-catalog:8080'),\n",
       " ('spark.ui.showConsoleProgress', 'true'),\n",
       " ('spark.eventLog.dir', '/opt/spark/spark-events'),\n",
       " ('spark.sql.defaultCatalog', 'unity')]"
      ]
     },
     "execution_count": 85,
     "metadata": {},
     "output_type": "execute_result"
    }
   ],
   "source": [
    "# Get spark session config details\n",
    "# spark.sparkContext.getConf().getAll()"
   ]
  },
  {
   "cell_type": "code",
   "execution_count": 1,
   "id": "cf7dd13b-e3cc-4962-8f20-9e2e552b04e8",
   "metadata": {},
   "outputs": [],
   "source": [
    "# Example DataFrame creation\n",
    "data = [(\"Jerin\", 29), (\"Aayush\", 35), (\"Neeraj\", 28)]\n",
    "columns = [\"Name\", \"Age\"]\n",
    "df = spark.createDataFrame(data, columns)"
   ]
  },
  {
   "cell_type": "code",
   "execution_count": 2,
   "id": "a538f060-489d-4f68-87ed-22b7e29ab06c",
   "metadata": {},
   "outputs": [
    {
     "name": "stderr",
     "output_type": "stream",
     "text": [
      "                                                                                "
     ]
    },
    {
     "name": "stdout",
     "output_type": "stream",
     "text": [
      "+------+---+\n",
      "|  Name|Age|\n",
      "+------+---+\n",
      "| Jerin| 29|\n",
      "|Aayush| 35|\n",
      "|Neeraj| 28|\n",
      "+------+---+\n",
      "\n"
     ]
    }
   ],
   "source": [
    "df.show()"
   ]
  },
  {
   "cell_type": "code",
   "execution_count": 3,
   "id": "b989920b-fb34-4425-9ede-99cca474c2b8",
   "metadata": {},
   "outputs": [
    {
     "data": {
      "text/html": [
       "<table><tr style=\"border-bottom: 1px solid\"><td style=\"font-weight: bold\">catalog</td></tr><tr><td>spark_catalog</td></tr><tr><td>unity</td></tr></table>"
      ],
      "text/plain": [
       "<IPython.core.display.HTML object>"
      ]
     },
     "execution_count": 3,
     "metadata": {},
     "output_type": "execute_result"
    }
   ],
   "source": [
    "%%sparksql\n",
    "SHOW CATALOGS;"
   ]
  },
  {
   "cell_type": "code",
   "execution_count": 6,
   "id": "ba2cae38-caea-4270-ac73-c2e21f8a529d",
   "metadata": {},
   "outputs": [
    {
     "data": {
      "text/html": [
       "<table><tr style=\"border-bottom: 1px solid\"><td style=\"font-weight: bold\">namespace</td></tr><tr><td>default</td></tr><tr><td>demo</td></tr></table>"
      ],
      "text/plain": [
       "<IPython.core.display.HTML object>"
      ]
     },
     "execution_count": 6,
     "metadata": {},
     "output_type": "execute_result"
    }
   ],
   "source": [
    "%%sparksql\n",
    "SHOW SCHEMAS IN unity;"
   ]
  },
  {
   "cell_type": "code",
   "execution_count": 7,
   "id": "3c5ebbd4-8025-439d-86f5-7886c7819dac",
   "metadata": {},
   "outputs": [
    {
     "data": {
      "text/html": [
       "<table><tr style=\"border-bottom: 1px solid\"><td style=\"font-weight: bold\">namespace</td><td style=\"font-weight: bold\">tableName</td><td style=\"font-weight: bold\">isTemporary</td></tr><tr><td>default</td><td>jerinunity</td><td>False</td></tr><tr><td>default</td><td>marksheet</td><td>False</td></tr><tr><td>default</td><td>marksheet_uniform</td><td>False</td></tr><tr><td>default</td><td>mytable</td><td>False</td></tr><tr><td>default</td><td>numbers</td><td>False</td></tr><tr><td>default</td><td>testJerinUnity</td><td>False</td></tr><tr><td>default</td><td>user_countries</td><td>False</td></tr></table>"
      ],
      "text/plain": [
       "<IPython.core.display.HTML object>"
      ]
     },
     "execution_count": 7,
     "metadata": {},
     "output_type": "execute_result"
    }
   ],
   "source": [
    "%%sparksql\n",
    "SHOW TABLES IN unity.default;"
   ]
  },
  {
   "cell_type": "code",
   "execution_count": 8,
   "id": "aa1bec4e-873c-4cba-befb-0a0a189724f5",
   "metadata": {},
   "outputs": [
    {
     "data": {
      "text/html": [
       "<table><tr style=\"border-bottom: 1px solid\"></tr></table>"
      ],
      "text/plain": [
       "<IPython.core.display.HTML object>"
      ]
     },
     "execution_count": 8,
     "metadata": {},
     "output_type": "execute_result"
    }
   ],
   "source": [
    "%%sparksql\n",
    "USE unity.default"
   ]
  },
  {
   "cell_type": "code",
   "execution_count": 9,
   "id": "9e92d416-a4c1-462b-ba0f-7c7675196769",
   "metadata": {},
   "outputs": [
    {
     "data": {
      "text/html": [
       "<table><tr style=\"border-bottom: 1px solid\"><td style=\"font-weight: bold\">current_database()</td></tr><tr><td>default</td></tr></table>"
      ],
      "text/plain": [
       "<IPython.core.display.HTML object>"
      ]
     },
     "execution_count": 9,
     "metadata": {},
     "output_type": "execute_result"
    }
   ],
   "source": [
    "%%sparksql\n",
    "\n",
    "SELECT current_schema()\n"
   ]
  },
  {
   "cell_type": "code",
   "execution_count": 69,
   "id": "dd04dccb-89bd-432b-b15c-d4a3a15946f0",
   "metadata": {},
   "outputs": [
    {
     "data": {
      "text/html": [
       "<table><tr style=\"border-bottom: 1px solid\"></tr></table>"
      ],
      "text/plain": [
       "<IPython.core.display.HTML object>"
      ]
     },
     "execution_count": 69,
     "metadata": {},
     "output_type": "execute_result"
    }
   ],
   "source": [
    "%%sparksql\n",
    "CREATE SCHEMA demo;"
   ]
  },
  {
   "cell_type": "code",
   "execution_count": 10,
   "id": "52a5dd0a-0b47-4aeb-9cae-fccb774a8c77",
   "metadata": {},
   "outputs": [
    {
     "data": {
      "text/html": [
       "<table><tr style=\"border-bottom: 1px solid\"><td style=\"font-weight: bold\">namespace</td></tr><tr><td>default</td></tr><tr><td>demo</td></tr></table>"
      ],
      "text/plain": [
       "<IPython.core.display.HTML object>"
      ]
     },
     "execution_count": 10,
     "metadata": {},
     "output_type": "execute_result"
    }
   ],
   "source": [
    "%%sparksql\n",
    "SHOW SCHEMAS;"
   ]
  },
  {
   "cell_type": "code",
   "execution_count": 82,
   "id": "7fdd36b5-2d0f-40ca-87a2-7e671578d5ad",
   "metadata": {},
   "outputs": [
    {
     "data": {
      "text/html": [
       "<table><tr style=\"border-bottom: 1px solid\"></tr></table>"
      ],
      "text/plain": [
       "<IPython.core.display.HTML object>"
      ]
     },
     "execution_count": 82,
     "metadata": {},
     "output_type": "execute_result"
    }
   ],
   "source": [
    "%%sparksql\n",
    "USE unity.demo"
   ]
  },
  {
   "cell_type": "code",
   "execution_count": 8,
   "id": "adcf4ea6-4430-4bf3-9496-b1fceabf1f0f",
   "metadata": {},
   "outputs": [
    {
     "ename": "AnalysisException",
     "evalue": "[DELTA_TABLE_ALREADY_EXISTS] Table `default`.`mytablees1123` already exists.",
     "output_type": "error",
     "traceback": [
      "\u001b[0;31m---------------------------------------------------------------------------\u001b[0m",
      "\u001b[0;31mAnalysisException\u001b[0m                         Traceback (most recent call last)",
      "Cell \u001b[0;32mIn[8], line 1\u001b[0m\n\u001b[0;32m----> 1\u001b[0m \u001b[43mget_ipython\u001b[49m\u001b[43m(\u001b[49m\u001b[43m)\u001b[49m\u001b[38;5;241;43m.\u001b[39;49m\u001b[43mrun_cell_magic\u001b[49m\u001b[43m(\u001b[49m\u001b[38;5;124;43m'\u001b[39;49m\u001b[38;5;124;43msparksql\u001b[39;49m\u001b[38;5;124;43m'\u001b[39;49m\u001b[43m,\u001b[49m\u001b[43m \u001b[49m\u001b[38;5;124;43m'\u001b[39;49m\u001b[38;5;124;43m'\u001b[39;49m\u001b[43m,\u001b[49m\u001b[43m \u001b[49m\u001b[38;5;124;43m\"\u001b[39;49m\u001b[38;5;130;43;01m\\n\u001b[39;49;00m\u001b[38;5;124;43mCREATE EXTERNAL TABLE unity.default.mytablees1123 (\u001b[39;49m\u001b[38;5;130;43;01m\\n\u001b[39;49;00m\u001b[38;5;124;43m    id INT, \u001b[39;49m\u001b[38;5;130;43;01m\\n\u001b[39;49;00m\u001b[38;5;124;43m    desc STRING\u001b[39;49m\u001b[38;5;130;43;01m\\n\u001b[39;49;00m\u001b[38;5;124;43m) \u001b[39;49m\u001b[38;5;130;43;01m\\n\u001b[39;49;00m\u001b[38;5;124;43mUSING delta \u001b[39;49m\u001b[38;5;130;43;01m\\n\u001b[39;49;00m\u001b[38;5;124;43mLOCATION \u001b[39;49m\u001b[38;5;124;43m'\u001b[39;49m\u001b[38;5;124;43m/opt/spark/data/tables/mytablees1123\u001b[39;49m\u001b[38;5;124;43m'\u001b[39;49m\u001b[38;5;124;43m;\u001b[39;49m\u001b[38;5;130;43;01m\\n\u001b[39;49;00m\u001b[38;5;124;43m\"\u001b[39;49m\u001b[43m)\u001b[49m\n",
      "File \u001b[0;32m/usr/local/lib/python3.11/site-packages/IPython/core/interactiveshell.py:2541\u001b[0m, in \u001b[0;36mInteractiveShell.run_cell_magic\u001b[0;34m(self, magic_name, line, cell)\u001b[0m\n\u001b[1;32m   2539\u001b[0m \u001b[38;5;28;01mwith\u001b[39;00m \u001b[38;5;28mself\u001b[39m\u001b[38;5;241m.\u001b[39mbuiltin_trap:\n\u001b[1;32m   2540\u001b[0m     args \u001b[38;5;241m=\u001b[39m (magic_arg_s, cell)\n\u001b[0;32m-> 2541\u001b[0m     result \u001b[38;5;241m=\u001b[39m \u001b[43mfn\u001b[49m\u001b[43m(\u001b[49m\u001b[38;5;241;43m*\u001b[39;49m\u001b[43margs\u001b[49m\u001b[43m,\u001b[49m\u001b[43m \u001b[49m\u001b[38;5;241;43m*\u001b[39;49m\u001b[38;5;241;43m*\u001b[39;49m\u001b[43mkwargs\u001b[49m\u001b[43m)\u001b[49m\n\u001b[1;32m   2543\u001b[0m \u001b[38;5;66;03m# The code below prevents the output from being displayed\u001b[39;00m\n\u001b[1;32m   2544\u001b[0m \u001b[38;5;66;03m# when using magics with decorator @output_can_be_silenced\u001b[39;00m\n\u001b[1;32m   2545\u001b[0m \u001b[38;5;66;03m# when the last Python token in the expression is a ';'.\u001b[39;00m\n\u001b[1;32m   2546\u001b[0m \u001b[38;5;28;01mif\u001b[39;00m \u001b[38;5;28mgetattr\u001b[39m(fn, magic\u001b[38;5;241m.\u001b[39mMAGIC_OUTPUT_CAN_BE_SILENCED, \u001b[38;5;28;01mFalse\u001b[39;00m):\n",
      "File \u001b[0;32m/usr/local/lib/python3.11/site-packages/sparksql_magic/sparksql.py:40\u001b[0m, in \u001b[0;36mSparkSql.sparksql\u001b[0;34m(self, line, cell, local_ns)\u001b[0m\n\u001b[1;32m     37\u001b[0m     \u001b[38;5;28mprint\u001b[39m(\u001b[38;5;124m\"\u001b[39m\u001b[38;5;124mactive spark session is not found\u001b[39m\u001b[38;5;124m\"\u001b[39m)\n\u001b[1;32m     38\u001b[0m     \u001b[38;5;28;01mreturn\u001b[39;00m\n\u001b[0;32m---> 40\u001b[0m df \u001b[38;5;241m=\u001b[39m \u001b[43mspark\u001b[49m\u001b[38;5;241;43m.\u001b[39;49m\u001b[43msql\u001b[49m\u001b[43m(\u001b[49m\u001b[43mbind_variables\u001b[49m\u001b[43m(\u001b[49m\u001b[43mcell\u001b[49m\u001b[43m,\u001b[49m\u001b[43m \u001b[49m\u001b[43muser_ns\u001b[49m\u001b[43m)\u001b[49m\u001b[43m)\u001b[49m\n\u001b[1;32m     41\u001b[0m \u001b[38;5;28;01mif\u001b[39;00m args\u001b[38;5;241m.\u001b[39mcache \u001b[38;5;129;01mor\u001b[39;00m args\u001b[38;5;241m.\u001b[39meager:\n\u001b[1;32m     42\u001b[0m     \u001b[38;5;28mprint\u001b[39m(\u001b[38;5;124m'\u001b[39m\u001b[38;5;124mcache dataframe with \u001b[39m\u001b[38;5;132;01m%s\u001b[39;00m\u001b[38;5;124m load\u001b[39m\u001b[38;5;124m'\u001b[39m \u001b[38;5;241m%\u001b[39m (\u001b[38;5;124m'\u001b[39m\u001b[38;5;124meager\u001b[39m\u001b[38;5;124m'\u001b[39m \u001b[38;5;28;01mif\u001b[39;00m args\u001b[38;5;241m.\u001b[39meager \u001b[38;5;28;01melse\u001b[39;00m \u001b[38;5;124m'\u001b[39m\u001b[38;5;124mlazy\u001b[39m\u001b[38;5;124m'\u001b[39m))\n",
      "File \u001b[0;32m/opt/spark/python/pyspark/sql/session.py:1631\u001b[0m, in \u001b[0;36mSparkSession.sql\u001b[0;34m(self, sqlQuery, args, **kwargs)\u001b[0m\n\u001b[1;32m   1627\u001b[0m         \u001b[38;5;28;01massert\u001b[39;00m \u001b[38;5;28mself\u001b[39m\u001b[38;5;241m.\u001b[39m_jvm \u001b[38;5;129;01mis\u001b[39;00m \u001b[38;5;129;01mnot\u001b[39;00m \u001b[38;5;28;01mNone\u001b[39;00m\n\u001b[1;32m   1628\u001b[0m         litArgs \u001b[38;5;241m=\u001b[39m \u001b[38;5;28mself\u001b[39m\u001b[38;5;241m.\u001b[39m_jvm\u001b[38;5;241m.\u001b[39mPythonUtils\u001b[38;5;241m.\u001b[39mtoArray(\n\u001b[1;32m   1629\u001b[0m             [_to_java_column(lit(v)) \u001b[38;5;28;01mfor\u001b[39;00m v \u001b[38;5;129;01min\u001b[39;00m (args \u001b[38;5;129;01mor\u001b[39;00m [])]\n\u001b[1;32m   1630\u001b[0m         )\n\u001b[0;32m-> 1631\u001b[0m     \u001b[38;5;28;01mreturn\u001b[39;00m DataFrame(\u001b[38;5;28;43mself\u001b[39;49m\u001b[38;5;241;43m.\u001b[39;49m\u001b[43m_jsparkSession\u001b[49m\u001b[38;5;241;43m.\u001b[39;49m\u001b[43msql\u001b[49m\u001b[43m(\u001b[49m\u001b[43msqlQuery\u001b[49m\u001b[43m,\u001b[49m\u001b[43m \u001b[49m\u001b[43mlitArgs\u001b[49m\u001b[43m)\u001b[49m, \u001b[38;5;28mself\u001b[39m)\n\u001b[1;32m   1632\u001b[0m \u001b[38;5;28;01mfinally\u001b[39;00m:\n\u001b[1;32m   1633\u001b[0m     \u001b[38;5;28;01mif\u001b[39;00m \u001b[38;5;28mlen\u001b[39m(kwargs) \u001b[38;5;241m>\u001b[39m \u001b[38;5;241m0\u001b[39m:\n",
      "File \u001b[0;32m/opt/spark/python/lib/py4j-0.10.9.7-src.zip/py4j/java_gateway.py:1322\u001b[0m, in \u001b[0;36mJavaMember.__call__\u001b[0;34m(self, *args)\u001b[0m\n\u001b[1;32m   1316\u001b[0m command \u001b[38;5;241m=\u001b[39m proto\u001b[38;5;241m.\u001b[39mCALL_COMMAND_NAME \u001b[38;5;241m+\u001b[39m\\\n\u001b[1;32m   1317\u001b[0m     \u001b[38;5;28mself\u001b[39m\u001b[38;5;241m.\u001b[39mcommand_header \u001b[38;5;241m+\u001b[39m\\\n\u001b[1;32m   1318\u001b[0m     args_command \u001b[38;5;241m+\u001b[39m\\\n\u001b[1;32m   1319\u001b[0m     proto\u001b[38;5;241m.\u001b[39mEND_COMMAND_PART\n\u001b[1;32m   1321\u001b[0m answer \u001b[38;5;241m=\u001b[39m \u001b[38;5;28mself\u001b[39m\u001b[38;5;241m.\u001b[39mgateway_client\u001b[38;5;241m.\u001b[39msend_command(command)\n\u001b[0;32m-> 1322\u001b[0m return_value \u001b[38;5;241m=\u001b[39m \u001b[43mget_return_value\u001b[49m\u001b[43m(\u001b[49m\n\u001b[1;32m   1323\u001b[0m \u001b[43m    \u001b[49m\u001b[43manswer\u001b[49m\u001b[43m,\u001b[49m\u001b[43m \u001b[49m\u001b[38;5;28;43mself\u001b[39;49m\u001b[38;5;241;43m.\u001b[39;49m\u001b[43mgateway_client\u001b[49m\u001b[43m,\u001b[49m\u001b[43m \u001b[49m\u001b[38;5;28;43mself\u001b[39;49m\u001b[38;5;241;43m.\u001b[39;49m\u001b[43mtarget_id\u001b[49m\u001b[43m,\u001b[49m\u001b[43m \u001b[49m\u001b[38;5;28;43mself\u001b[39;49m\u001b[38;5;241;43m.\u001b[39;49m\u001b[43mname\u001b[49m\u001b[43m)\u001b[49m\n\u001b[1;32m   1325\u001b[0m \u001b[38;5;28;01mfor\u001b[39;00m temp_arg \u001b[38;5;129;01min\u001b[39;00m temp_args:\n\u001b[1;32m   1326\u001b[0m     \u001b[38;5;28;01mif\u001b[39;00m \u001b[38;5;28mhasattr\u001b[39m(temp_arg, \u001b[38;5;124m\"\u001b[39m\u001b[38;5;124m_detach\u001b[39m\u001b[38;5;124m\"\u001b[39m):\n",
      "File \u001b[0;32m/opt/spark/python/pyspark/errors/exceptions/captured.py:185\u001b[0m, in \u001b[0;36mcapture_sql_exception.<locals>.deco\u001b[0;34m(*a, **kw)\u001b[0m\n\u001b[1;32m    181\u001b[0m converted \u001b[38;5;241m=\u001b[39m convert_exception(e\u001b[38;5;241m.\u001b[39mjava_exception)\n\u001b[1;32m    182\u001b[0m \u001b[38;5;28;01mif\u001b[39;00m \u001b[38;5;129;01mnot\u001b[39;00m \u001b[38;5;28misinstance\u001b[39m(converted, UnknownException):\n\u001b[1;32m    183\u001b[0m     \u001b[38;5;66;03m# Hide where the exception came from that shows a non-Pythonic\u001b[39;00m\n\u001b[1;32m    184\u001b[0m     \u001b[38;5;66;03m# JVM exception message.\u001b[39;00m\n\u001b[0;32m--> 185\u001b[0m     \u001b[38;5;28;01mraise\u001b[39;00m converted \u001b[38;5;28;01mfrom\u001b[39;00m \u001b[38;5;28;01mNone\u001b[39;00m\n\u001b[1;32m    186\u001b[0m \u001b[38;5;28;01melse\u001b[39;00m:\n\u001b[1;32m    187\u001b[0m     \u001b[38;5;28;01mraise\u001b[39;00m\n",
      "\u001b[0;31mAnalysisException\u001b[0m: [DELTA_TABLE_ALREADY_EXISTS] Table `default`.`mytablees1123` already exists."
     ]
    }
   ],
   "source": [
    "%%sparksql\n",
    "\n",
    "CREATE EXTERNAL TABLE unity.default.mytablees1123 (\n",
    "    id INT, \n",
    "    desc STRING\n",
    ") \n",
    "USING delta \n",
    "LOCATION '/opt/spark/data/tables/mytablees1123';"
   ]
  },
  {
   "cell_type": "code",
   "execution_count": null,
   "id": "aa042cd4-720c-4713-9b14-c5bf9a855261",
   "metadata": {
    "scrolled": true
   },
   "outputs": [],
   "source": [
    "%%sparksql\n",
    "\n",
    "Select * from unity.default.testJerinUnitybash;"
   ]
  },
  {
   "cell_type": "code",
   "execution_count": null,
   "id": "96b4f6c7-2702-4c4a-9897-57cfc8f2c330",
   "metadata": {},
   "outputs": [],
   "source": [
    "spark.sql(\"SELECT * FROM delta.`/opt/spark/data/test_jerininity123`;\").show()"
   ]
  },
  {
   "cell_type": "code",
   "execution_count": 39,
   "id": "1ee1fc6f-e78d-42cd-b710-78eac3375b4d",
   "metadata": {
    "jupyter": {
     "source_hidden": true
    }
   },
   "outputs": [
    {
     "data": {
      "text/html": [
       "<table><tr style=\"border-bottom: 1px solid\"><td style=\"font-weight: bold\">namespace</td><td style=\"font-weight: bold\">tableName</td><td style=\"font-weight: bold\">isTemporary</td></tr><tr><td>default</td><td>marksheet</td><td>False</td></tr><tr><td>default</td><td>marksheet_uniform</td><td>False</td></tr><tr><td>default</td><td>numbers</td><td>False</td></tr><tr><td>default</td><td>user_countries</td><td>False</td></tr></table>"
      ],
      "text/plain": [
       "<IPython.core.display.HTML object>"
      ]
     },
     "execution_count": 39,
     "metadata": {},
     "output_type": "execute_result"
    }
   ],
   "source": [
    "%%sparksql\n",
    "\n",
    "SHOW TABLES IN default"
   ]
  },
  {
   "cell_type": "code",
   "execution_count": null,
   "id": "be39a864-6874-4cbf-931f-5a7768b8fe8c",
   "metadata": {},
   "outputs": [],
   "source": [
    "%%sparksql\n",
    "\n",
    "Select * from unity.default.jerinunity;"
   ]
  },
  {
   "cell_type": "code",
   "execution_count": null,
   "id": "2a10ba33-7582-4d5a-8d0a-a6b302c6b328",
   "metadata": {},
   "outputs": [],
   "source": []
  }
 ],
 "metadata": {
  "kernelspec": {
   "display_name": "Python 3 (ipykernel)",
   "language": "python",
   "name": "python3"
  },
  "language_info": {
   "codemirror_mode": {
    "name": "ipython",
    "version": 3
   },
   "file_extension": ".py",
   "mimetype": "text/x-python",
   "name": "python",
   "nbconvert_exporter": "python",
   "pygments_lexer": "ipython3",
   "version": "3.11.11"
  }
 },
 "nbformat": 4,
 "nbformat_minor": 5
}
