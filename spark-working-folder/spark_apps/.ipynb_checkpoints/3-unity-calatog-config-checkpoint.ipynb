{
 "cells": [
  {
   "cell_type": "code",
   "execution_count": 1,
   "id": "b61aad15-e4d6-4f5a-8e08-fc1db0c578d8",
   "metadata": {},
   "outputs": [],
   "source": [
    "from pyspark.sql import SparkSession"
   ]
  },
  {
   "cell_type": "code",
   "execution_count": 1,
   "id": "7ccd36bb-4e21-4352-98f4-55df269b6214",
   "metadata": {},
   "outputs": [],
   "source": [
    "%load_ext sparksql_magic"
   ]
  },
  {
   "cell_type": "markdown",
   "id": "16db51e2-6f41-45bf-9a7b-f7e44180cf76",
   "metadata": {},
   "source": [
    "### Following code is used to initilize the Spark Session. Delta lake package is used while creating the spark session, which will help to save spark dataframe as Delta Table."
   ]
  },
  {
   "cell_type": "code",
   "execution_count": null,
   "id": "5241b61e",
   "metadata": {},
   "outputs": [],
   "source": [
    "# # Initialize SparkSession\n",
    "# spark = SparkSession.builder \\\n",
    "#     .appName(\"add-delta-lake-with-unity-catalog\") \\\n",
    "#     .master(\"spark://spark-master:7077\") \\\n",
    "#     .config(\"spark.jars.packages\", \"io.delta:delta-spark_2.12:3.2.1\")\\\n",
    "#     .config(\"spark.jars.packages\", \"io.unitycatalog:unitycatalog-spark_2.12:0.2.0\")\\\n",
    "#     .config(\"spark.sql.extensions\", \"io.delta.sql.DeltaSparkSessionExtension\") \\\n",
    "#     .config(\"spark.sql.catalog.spark_catalog\", \"io.unitycatalog.spark.UCSingleCatalog\")\\\n",
    "#     .config(\"spark.sql.catalog.unity\", \"io.unitycatalog.spark.UCSingleCatalog\")\\\n",
    "#     .config(\"spark.sql.catalog.unity.uri\",\"http://unity-catalog:8080\")\\\n",
    "#     .config(\"spark.sql.catalog.unity.token\", \"\")\\\n",
    "#     .config(\"spark.sql.defaultCatalog\",\"unity\")\\\n",
    "#     .getOrCreate() \n"
   ]
  },
  {
   "cell_type": "code",
   "execution_count": 9,
   "id": "d50f5cef-634f-447b-840c-3d24785da0fd",
   "metadata": {},
   "outputs": [],
   "source": [
    "# To stop SparkSession\n",
    "# spark.stop()"
   ]
  },
  {
   "cell_type": "code",
   "execution_count": 2,
   "id": "cf7dd13b-e3cc-4962-8f20-9e2e552b04e8",
   "metadata": {},
   "outputs": [],
   "source": [
    "# Example DataFrame creation\n",
    "data = [(\"Jerin\", 29), (\"Aayush\", 35), (\"Neeraj\", 28)]\n",
    "columns = [\"Name\", \"Age\"]\n",
    "df = spark.createDataFrame(data, columns)"
   ]
  },
  {
   "cell_type": "code",
   "execution_count": 3,
   "id": "a538f060-489d-4f68-87ed-22b7e29ab06c",
   "metadata": {},
   "outputs": [
    {
     "name": "stderr",
     "output_type": "stream",
     "text": [
      "                                                                                "
     ]
    },
    {
     "name": "stdout",
     "output_type": "stream",
     "text": [
      "+------+---+\n",
      "|  Name|Age|\n",
      "+------+---+\n",
      "| Jerin| 29|\n",
      "|Aayush| 35|\n",
      "|Neeraj| 28|\n",
      "+------+---+\n",
      "\n"
     ]
    }
   ],
   "source": [
    "df.show()"
   ]
  },
  {
   "cell_type": "code",
   "execution_count": 4,
   "id": "ba2cae38-caea-4270-ac73-c2e21f8a529d",
   "metadata": {},
   "outputs": [
    {
     "data": {
      "text/html": [
       "<table><tr style=\"border-bottom: 1px solid\"><td style=\"font-weight: bold\">namespace</td></tr><tr><td>default</td></tr></table>"
      ],
      "text/plain": [
       "<IPython.core.display.HTML object>"
      ]
     },
     "execution_count": 4,
     "metadata": {},
     "output_type": "execute_result"
    }
   ],
   "source": [
    "%%sparksql\n",
    "SHOW SCHEMAS;"
   ]
  },
  {
   "cell_type": "code",
   "execution_count": 5,
   "id": "3c5ebbd4-8025-439d-86f5-7886c7819dac",
   "metadata": {},
   "outputs": [
    {
     "data": {
      "text/html": [
       "<table><tr style=\"border-bottom: 1px solid\"><td style=\"font-weight: bold\">namespace</td><td style=\"font-weight: bold\">tableName</td><td style=\"font-weight: bold\">isTemporary</td></tr><tr><td>default</td><td>marksheet</td><td>False</td></tr><tr><td>default</td><td>marksheet_uniform</td><td>False</td></tr><tr><td>default</td><td>numbers</td><td>False</td></tr><tr><td>default</td><td>user_countries</td><td>False</td></tr></table>"
      ],
      "text/plain": [
       "<IPython.core.display.HTML object>"
      ]
     },
     "execution_count": 5,
     "metadata": {},
     "output_type": "execute_result"
    }
   ],
   "source": [
    "%%sparksql\n",
    "SHOW TABLES in default"
   ]
  },
  {
   "cell_type": "code",
   "execution_count": 6,
   "id": "aa1bec4e-873c-4cba-befb-0a0a189724f5",
   "metadata": {},
   "outputs": [
    {
     "data": {
      "text/html": [
       "<table><tr style=\"border-bottom: 1px solid\"></tr></table>"
      ],
      "text/plain": [
       "<IPython.core.display.HTML object>"
      ]
     },
     "execution_count": 6,
     "metadata": {},
     "output_type": "execute_result"
    }
   ],
   "source": [
    "%%sparksql\n",
    "USE default"
   ]
  },
  {
   "cell_type": "code",
   "execution_count": 7,
   "id": "9e92d416-a4c1-462b-ba0f-7c7675196769",
   "metadata": {},
   "outputs": [
    {
     "data": {
      "text/html": [
       "<table><tr style=\"border-bottom: 1px solid\"><td style=\"font-weight: bold\">current_database()</td></tr><tr><td>default</td></tr></table>"
      ],
      "text/plain": [
       "<IPython.core.display.HTML object>"
      ]
     },
     "execution_count": 7,
     "metadata": {},
     "output_type": "execute_result"
    }
   ],
   "source": [
    "%%sparksql\n",
    "\n",
    "SELECT current_schema()\n"
   ]
  },
  {
   "cell_type": "code",
   "execution_count": null,
   "id": "7c6d793b-cb9f-4007-9f6b-b8ee7486149f",
   "metadata": {},
   "outputs": [],
   "source": [
    "%%sparksql\n",
    "\n",
    "CREATE TABLE\n",
    "unity.default.`test_unity_table` (id INT, desc STRING) \n",
    "USING delta \n",
    "LOCATION '/opt/spark/data/test_unity_table';"
   ]
  },
  {
   "cell_type": "code",
   "execution_count": 39,
   "id": "1ee1fc6f-e78d-42cd-b710-78eac3375b4d",
   "metadata": {},
   "outputs": [
    {
     "data": {
      "text/html": [
       "<table><tr style=\"border-bottom: 1px solid\"><td style=\"font-weight: bold\">namespace</td><td style=\"font-weight: bold\">tableName</td><td style=\"font-weight: bold\">isTemporary</td></tr><tr><td>default</td><td>marksheet</td><td>False</td></tr><tr><td>default</td><td>marksheet_uniform</td><td>False</td></tr><tr><td>default</td><td>numbers</td><td>False</td></tr><tr><td>default</td><td>user_countries</td><td>False</td></tr></table>"
      ],
      "text/plain": [
       "<IPython.core.display.HTML object>"
      ]
     },
     "execution_count": 39,
     "metadata": {},
     "output_type": "execute_result"
    }
   ],
   "source": [
    "%%sparksql\n",
    "\n",
    "SHOW TABLES IN default"
   ]
  },
  {
   "cell_type": "code",
   "execution_count": null,
   "id": "be39a864-6874-4cbf-931f-5a7768b8fe8c",
   "metadata": {},
   "outputs": [],
   "source": []
  }
 ],
 "metadata": {
  "kernelspec": {
   "display_name": "Python 3 (ipykernel)",
   "language": "python",
   "name": "python3"
  },
  "language_info": {
   "codemirror_mode": {
    "name": "ipython",
    "version": 3
   },
   "file_extension": ".py",
   "mimetype": "text/x-python",
   "name": "python",
   "nbconvert_exporter": "python",
   "pygments_lexer": "ipython3",
   "version": "3.11.11"
  }
 },
 "nbformat": 4,
 "nbformat_minor": 5
}
