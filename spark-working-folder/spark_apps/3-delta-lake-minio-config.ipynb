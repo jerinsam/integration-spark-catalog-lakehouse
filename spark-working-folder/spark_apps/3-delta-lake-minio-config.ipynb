{
 "cells": [
  {
   "cell_type": "code",
   "execution_count": 1,
   "id": "b61aad15-e4d6-4f5a-8e08-fc1db0c578d8",
   "metadata": {},
   "outputs": [],
   "source": [
    "from pyspark.sql import SparkSession"
   ]
  },
  {
   "cell_type": "code",
   "execution_count": 2,
   "id": "5838a2bf-b276-41af-b2be-2cf8f6dd9209",
   "metadata": {},
   "outputs": [],
   "source": [
    "# Load Spark SQL Magic command\n",
    "%load_ext sparksql_magic"
   ]
  },
  {
   "cell_type": "markdown",
   "id": "16db51e2-6f41-45bf-9a7b-f7e44180cf76",
   "metadata": {},
   "source": [
    "### Following code is used to initilize the Spark Session. \n",
    "- Delta lake package is used while creating the spark session, which will help to save spark dataframe as Delta Table.\n",
    "- Delta Catalog is used as default catalog.\n",
    "- Data is saved in Minio, which is a S3 compatible lake."
   ]
  },
  {
   "cell_type": "code",
   "execution_count": 43,
   "id": "bde9c589-e564-49da-aa45-9fe505c1fd91",
   "metadata": {},
   "outputs": [],
   "source": [
    "# # Initialize SparkSession\n",
    "# # Use latest jars for delta lake. \n",
    "spark = SparkSession.builder \\\n",
    "    .appName(\"add-delta-lake_1\") \\\n",
    "    .master(\"spark://spark-master:7077\") \\\n",
    "    .config(\"spark.jars.packages\", \"io.delta:delta-spark_2.12:3.3.0,org.apache.hadoop:hadoop-aws:3.3.4\")\\\n",
    "    .config(\"spark.sql.extensions\",\"io.delta.sql.DeltaSparkSessionExtension\") \\\n",
    "    .config(\"spark.sql.catalog.spark_catalog\", \"org.apache.spark.sql.delta.catalog.DeltaCatalog\")\\\n",
    "    .config(\"spark.hadoop.fs.s3a.endpoint\", \"http://minio:9000\") \\\n",
    "    .config(\"spark.hadoop.fs.s3a.access.key\", \"root\") \\\n",
    "    .config(\"spark.hadoop.fs.s3a.secret.key\", \"jerinminioserver\") \\\n",
    "    .config(\"spark.hadoop.fs.s3a.path.style.access\", \"true\") \\\n",
    "    .config(\"spark.hadoop.fs.s3a.impl\", \"org.apache.hadoop.fs.s3a.S3AFileSystem\") \\\n",
    "    .config(\"spark.sql.warehouse.dir\", \"s3a://delta-bucket/delta-lake/data\") \\\n",
    "    .getOrCreate()"
   ]
  },
  {
   "cell_type": "code",
   "execution_count": 44,
   "id": "7fe9c88e-3e75-478f-876f-2e3fc03e7ca2",
   "metadata": {},
   "outputs": [
    {
     "name": "stdout",
     "output_type": "stream",
     "text": [
      "s3a://delta-bucket/delta-lake/data\n"
     ]
    }
   ],
   "source": [
    "# Get spark session config details\n",
    "# spark.sparkContext.getConf().getAll()\n",
    "print(spark.conf.get(\"spark.sql.warehouse.dir\"))\n"
   ]
  },
  {
   "cell_type": "code",
   "execution_count": 42,
   "id": "d50f5cef-634f-447b-840c-3d24785da0fd",
   "metadata": {},
   "outputs": [],
   "source": [
    "# To stop SparkSession\n",
    "spark.stop()"
   ]
  },
  {
   "cell_type": "code",
   "execution_count": 45,
   "id": "cf7dd13b-e3cc-4962-8f20-9e2e552b04e8",
   "metadata": {},
   "outputs": [],
   "source": [
    "# Example DataFrame creation\n",
    "data = [(\"Jerin\", 29), (\"Aayush\", 35), (\"Neeraj\", 28)]\n",
    "columns = [\"Name\", \"Age\"]\n",
    "df = spark.createDataFrame(data, columns)"
   ]
  },
  {
   "cell_type": "code",
   "execution_count": 46,
   "id": "a538f060-489d-4f68-87ed-22b7e29ab06c",
   "metadata": {},
   "outputs": [
    {
     "name": "stderr",
     "output_type": "stream",
     "text": [
      "[Stage 0:>                                                          (0 + 1) / 1]"
     ]
    },
    {
     "name": "stdout",
     "output_type": "stream",
     "text": [
      "+------+---+\n",
      "|  Name|Age|\n",
      "+------+---+\n",
      "| Jerin| 29|\n",
      "|Aayush| 35|\n",
      "|Neeraj| 28|\n",
      "+------+---+\n",
      "\n"
     ]
    },
    {
     "name": "stderr",
     "output_type": "stream",
     "text": [
      "                                                                                "
     ]
    }
   ],
   "source": [
    "df.show()"
   ]
  },
  {
   "cell_type": "code",
   "execution_count": 48,
   "id": "a6e88698-e9fa-4fdd-b28b-9800c9bb59ad",
   "metadata": {
    "scrolled": true
   },
   "outputs": [
    {
     "data": {
      "text/html": [
       "<table><tr style=\"border-bottom: 1px solid\"><td style=\"font-weight: bold\">catalog</td></tr><tr><td>spark_catalog</td></tr></table>"
      ],
      "text/plain": [
       "<IPython.core.display.HTML object>"
      ]
     },
     "execution_count": 48,
     "metadata": {},
     "output_type": "execute_result"
    }
   ],
   "source": [
    "%%sparksql\n",
    "\n",
    "SHOW CATALOGS"
   ]
  },
  {
   "cell_type": "code",
   "execution_count": 50,
   "id": "c4760a72-bf1f-4007-a827-38e507204da3",
   "metadata": {},
   "outputs": [
    {
     "data": {
      "text/html": [
       "<table><tr style=\"border-bottom: 1px solid\"><td style=\"font-weight: bold\">namespace</td></tr><tr><td>default</td></tr></table>"
      ],
      "text/plain": [
       "<IPython.core.display.HTML object>"
      ]
     },
     "execution_count": 50,
     "metadata": {},
     "output_type": "execute_result"
    }
   ],
   "source": [
    "%%sparksql\n",
    "\n",
    "SHOW SCHEMAS in spark_catalog\n"
   ]
  },
  {
   "cell_type": "code",
   "execution_count": 52,
   "id": "79e11156-8aa4-4828-b03f-43c0dbb149d0",
   "metadata": {},
   "outputs": [
    {
     "data": {
      "text/html": [
       "<table><tr style=\"border-bottom: 1px solid\"><td style=\"font-weight: bold\">namespace</td><td style=\"font-weight: bold\">tableName</td><td style=\"font-weight: bold\">isTemporary</td></tr></table>"
      ],
      "text/plain": [
       "<IPython.core.display.HTML object>"
      ]
     },
     "execution_count": 52,
     "metadata": {},
     "output_type": "execute_result"
    }
   ],
   "source": [
    "%%sparksql\n",
    "\n",
    "SHOW TABLES in default"
   ]
  },
  {
   "cell_type": "markdown",
   "id": "e919f596-aa33-462c-9834-c693e4b322ca",
   "metadata": {},
   "source": [
    "### Create Unmanaged Delta Table, This can be accessed only using location of the data.\n",
    "- This unmanaged table is not registered in Delta Catalog, therefore this can not be accessed via Table Reference."
   ]
  },
  {
   "cell_type": "code",
   "execution_count": 10,
   "id": "a3f2572f-86cd-475d-84a2-349db4707973",
   "metadata": {},
   "outputs": [
    {
     "name": "stderr",
     "output_type": "stream",
     "text": [
      "25/01/15 09:14:34 WARN MetricsConfig: Cannot locate configuration: tried hadoop-metrics2-s3a-file-system.properties,hadoop-metrics2.properties\n",
      "                                                                                "
     ]
    }
   ],
   "source": [
    "# unmanaged delta table - not registered in delta catalog\n",
    "df.write.format(\"delta\").save(\"s3a://delta-bucket/delta-lake/data/test-delta-table-unmanaged\")"
   ]
  },
  {
   "cell_type": "code",
   "execution_count": 32,
   "id": "5223ab16-f786-4e3a-8bca-75f13ec07740",
   "metadata": {},
   "outputs": [
    {
     "name": "stderr",
     "output_type": "stream",
     "text": [
      "                                                                                "
     ]
    },
    {
     "name": "stdout",
     "output_type": "stream",
     "text": [
      "+------+---+\n",
      "|  Name|Age|\n",
      "+------+---+\n",
      "|Aayush| 35|\n",
      "|Neeraj| 28|\n",
      "| Jerin| 29|\n",
      "+------+---+\n",
      "\n"
     ]
    }
   ],
   "source": [
    "# Read unmanaged delta table\n",
    "spark.sql(\"SELECT * FROM delta.`s3a://delta-bucket/delta-lake/data/test-delta-table-unmanaged`;\").show()"
   ]
  },
  {
   "cell_type": "markdown",
   "id": "0acffeb2-12f6-45e2-8d3a-7bb245a983aa",
   "metadata": {},
   "source": [
    "### Create Managed Delta Table, this can be accessed using SQL Table Reference.\n",
    "- This managed table is registered in Delta Catalog, therefore this can be accessed via SQL Table Reference."
   ]
  },
  {
   "cell_type": "markdown",
   "id": "b62394fb-0641-4b06-b051-2ccf49734a32",
   "metadata": {},
   "source": [
    "#### In this scenario, dataframe is saved to managed delta table"
   ]
  },
  {
   "cell_type": "code",
   "execution_count": 56,
   "id": "fe754e20-f188-4217-8c07-2bc0c2314cc9",
   "metadata": {},
   "outputs": [],
   "source": [
    "# This method is used to create a delta table from a dataframe and register the metadata to delta catalog.\n",
    "# In this method, When Delta table is created, data location is also managed by delta catalog along with table metadata.  \n",
    "# Since Delta Catalog manages the data location and metadata of delta table, therefore the actual data location is controlled by Delta Catalog.\n",
    "\n",
    "# Below command saves data in minio location mentioned while initilizing the spark session\n",
    "df.write.format(\"delta\").saveAsTable(\"test_delta_table_managed\")"
   ]
  },
  {
   "cell_type": "code",
   "execution_count": 57,
   "id": "6501cc6b-aa40-4da3-bcc2-2d66c9b894c8",
   "metadata": {},
   "outputs": [
    {
     "name": "stderr",
     "output_type": "stream",
     "text": [
      "                                                                                "
     ]
    },
    {
     "name": "stdout",
     "output_type": "stream",
     "text": [
      "+------+---+\n",
      "|  Name|Age|\n",
      "+------+---+\n",
      "|Aayush| 35|\n",
      "|Neeraj| 28|\n",
      "| Jerin| 29|\n",
      "+------+---+\n",
      "\n"
     ]
    }
   ],
   "source": [
    "# Read managed delta table, which is registered in delta catalog\n",
    "spark.sql(\"select * from test_delta_table_managed;\").show()"
   ]
  },
  {
   "cell_type": "code",
   "execution_count": 58,
   "id": "abdc56bb-61d5-4e40-a3fd-6d29fbdc8f33",
   "metadata": {},
   "outputs": [
    {
     "data": {
      "text/html": [
       "<table><tr style=\"border-bottom: 1px solid\"><td style=\"font-weight: bold\">namespace</td><td style=\"font-weight: bold\">tableName</td><td style=\"font-weight: bold\">isTemporary</td></tr><tr><td>default</td><td>test_delta_table_managed</td><td>False</td></tr><tr><td>default</td><td>test_delta_table_managed1</td><td>False</td></tr></table>"
      ],
      "text/plain": [
       "<IPython.core.display.HTML object>"
      ]
     },
     "execution_count": 58,
     "metadata": {},
     "output_type": "execute_result"
    }
   ],
   "source": [
    "%%sparksql\n",
    "SHOW TABLES"
   ]
  },
  {
   "cell_type": "code",
   "execution_count": 60,
   "id": "2bd18a7f-8944-4f6b-a6fe-19589d192047",
   "metadata": {},
   "outputs": [
    {
     "name": "stdout",
     "output_type": "stream",
     "text": [
      "++\n",
      "||\n",
      "++\n",
      "++\n",
      "\n"
     ]
    }
   ],
   "source": [
    "# Drop managed delta table, since this table is saved as delta table, registered in Delta Catalog ... \n",
    "# and data location is also managed by Delta Catalog therefore dropping the table will remove the metadata along with actual data from the location.\n",
    "\n",
    "spark.sql(\"DROP TABLE test_delta_table_managed;\").show()"
   ]
  },
  {
   "cell_type": "markdown",
   "id": "dcaacfd3-8bba-458b-8d25-8b29b29d523c",
   "metadata": {},
   "source": [
    "#### In this method, unmanaged delta table location is registered to Delta catalog and a table name is assigned to it, therefore droping this table does not delete the data from location, it just drop the metadata from delta catalog.\n",
    "- If the unmanaged table folder name is changed, then querying the table using table name will give error."
   ]
  },
  {
   "cell_type": "code",
   "execution_count": 61,
   "id": "a8dc4cca-0d67-423d-ac66-e8dafcf88bbe",
   "metadata": {},
   "outputs": [
    {
     "data": {
      "text/plain": [
       "DataFrame[]"
      ]
     },
     "execution_count": 61,
     "metadata": {},
     "output_type": "execute_result"
    }
   ],
   "source": [
    "# Another method to create a delta table and register the metadata to delta catalog.\n",
    "# In this method, Delta table is created on the location of unmanaged delta table.  \n",
    "# Since Delta table is created on the location of unmanaged delta table, therefore the actual data location is not controlled by Delta Catalog.\n",
    "# This method will register the table metadata to the Delta Catalog but the data location is not managed by Delta Catalog.\n",
    "\n",
    "spark.sql(\"\"\"\n",
    "    CREATE TABLE test_delta_table_managed_method2\n",
    "    USING DELTA\n",
    "    LOCATION 's3a://delta-bucket/delta-lake/data/test-delta-table-unmanaged'\n",
    "\"\"\")"
   ]
  },
  {
   "cell_type": "code",
   "execution_count": 64,
   "id": "a347b364-aa7a-4223-9bd9-6aa7371a2d55",
   "metadata": {},
   "outputs": [
    {
     "name": "stderr",
     "output_type": "stream",
     "text": [
      "                                                                                "
     ]
    },
    {
     "name": "stdout",
     "output_type": "stream",
     "text": [
      "+------+---+\n",
      "|  Name|Age|\n",
      "+------+---+\n",
      "|Aayush| 35|\n",
      "|Neeraj| 28|\n",
      "| Jerin| 29|\n",
      "+------+---+\n",
      "\n"
     ]
    }
   ],
   "source": [
    "# Read managed delta table, which is registered in delta catalog\n",
    "spark.sql(\"select * from test_delta_table_managed_method2;\").show()"
   ]
  },
  {
   "cell_type": "code",
   "execution_count": 63,
   "id": "2e5da7ac-0d99-47b4-9a00-cca3e4dd6e81",
   "metadata": {},
   "outputs": [
    {
     "data": {
      "text/html": [
       "<table><tr style=\"border-bottom: 1px solid\"><td style=\"font-weight: bold\">namespace</td><td style=\"font-weight: bold\">tableName</td><td style=\"font-weight: bold\">isTemporary</td></tr><tr><td>default</td><td>test_delta_table_managed_method2</td><td>False</td></tr></table>"
      ],
      "text/plain": [
       "<IPython.core.display.HTML object>"
      ]
     },
     "execution_count": 63,
     "metadata": {},
     "output_type": "execute_result"
    }
   ],
   "source": [
    "%%sparksql\n",
    "SHOW TABLES"
   ]
  },
  {
   "cell_type": "code",
   "execution_count": 65,
   "id": "3b9f2e27-a590-4261-b43e-d8fb7243229b",
   "metadata": {},
   "outputs": [
    {
     "name": "stdout",
     "output_type": "stream",
     "text": [
      "++\n",
      "||\n",
      "++\n",
      "++\n",
      "\n"
     ]
    }
   ],
   "source": [
    "# Drop managed delta table, since this table is created on an unmanaged delta table location therefore ...\n",
    "# dropping the table will only remove the metadata from the delta catalog but not the actual data from the location.\n",
    "\n",
    "spark.sql(\"DROP TABLE test_delta_table_managed_method2;\").show()"
   ]
  },
  {
   "cell_type": "code",
   "execution_count": 66,
   "id": "445515c1-b8e6-4439-9e49-0ed0ed568cce",
   "metadata": {
    "editable": true,
    "scrolled": true,
    "slideshow": {
     "slide_type": ""
    },
    "tags": []
   },
   "outputs": [
    {
     "name": "stdout",
     "output_type": "stream",
     "text": [
      "+---------+\n",
      "|namespace|\n",
      "+---------+\n",
      "|  default|\n",
      "+---------+\n",
      "\n"
     ]
    }
   ],
   "source": [
    "# Show current database\n",
    "spark.sql(\"SHOW DATABASES;\").show()"
   ]
  },
  {
   "cell_type": "code",
   "execution_count": null,
   "id": "04d1f1a2-a749-4a01-8e7a-4e19b331bd29",
   "metadata": {
    "editable": true,
    "slideshow": {
     "slide_type": ""
    },
    "tags": []
   },
   "outputs": [],
   "source": []
  }
 ],
 "metadata": {
  "kernelspec": {
   "display_name": "Python 3 (ipykernel)",
   "language": "python",
   "name": "python3"
  },
  "language_info": {
   "codemirror_mode": {
    "name": "ipython",
    "version": 3
   },
   "file_extension": ".py",
   "mimetype": "text/x-python",
   "name": "python",
   "nbconvert_exporter": "python",
   "pygments_lexer": "ipython3",
   "version": "3.11.11"
  }
 },
 "nbformat": 4,
 "nbformat_minor": 5
}
