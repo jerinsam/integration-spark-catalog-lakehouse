{
 "cells": [
  {
   "cell_type": "code",
   "execution_count": 1,
   "id": "b61aad15-e4d6-4f5a-8e08-fc1db0c578d8",
   "metadata": {},
   "outputs": [],
   "source": [
    "from pyspark.sql import SparkSession"
   ]
  },
  {
   "cell_type": "code",
   "execution_count": 2,
   "id": "7ccd36bb-4e21-4352-98f4-55df269b6214",
   "metadata": {},
   "outputs": [],
   "source": [
    "%load_ext sparksql_magic"
   ]
  },
  {
   "cell_type": "markdown",
   "id": "16db51e2-6f41-45bf-9a7b-f7e44180cf76",
   "metadata": {},
   "source": [
    "#### Following code is used to initilize the Spark Session. Iceberg package is used while creating the spark session, which will help to save spark dataframe as Iceberg Table."
   ]
  },
  {
   "cell_type": "code",
   "execution_count": 18,
   "id": "5241b61e",
   "metadata": {
    "scrolled": true
   },
   "outputs": [],
   "source": [
    "# Initialize SparkSession\n",
    "\n",
    "spark = SparkSession.builder \\\n",
    "    .appName(\"add-iceberg-minio\") \\\n",
    "    .master(\"spark://spark-master:7077\") \\\n",
    "    .config(\"spark.jars.packages\", \"org.apache.iceberg:iceberg-spark-runtime-3.5_2.12:1.7.1,org.apache.hive:hive-exec:3.1.3\")\\\n",
    "    .config(\"spark.sql.extensions\",\"org.apache.iceberg.spark.extensions.IcebergSparkSessionExtensions\") \\\n",
    "    .config(\"spark.sql.catalog.spark_catalog\", \"org.apache.iceberg.spark.SparkSessionCatalog\")\\\n",
    "    .config(\"spark.sql.catalog.local\", \"org.apache.iceberg.spark.SparkCatalog\")\\\n",
    "    .config(\"spark.sql.catalog.spark_catalog.type\", \"hive\")\\\n",
    "    .config(\"spark.sql.catalog.local.type\", \"hadoop\")\\\n",
    "    .config(\"spark.sql.catalog.local.warehouse\", \"/usr/spark/delta-lake/data\")\\\n",
    "    .config(\"spark.sql.defaultCatalog\", \"local\")\\\n",
    "    .config(\"spark.hadoop.datanucleus.autoCreateSchema\", \"true\")\\\n",
    "    .config(\"spark.hadoop.datanucleus.fixedDatastore\", \"false\")\\\n",
    "    .config(\"hive.metastore.schema.verification\", \"false\")\\\n",
    "    .config(\"hive.metastore.schema.verification.record.version\", \"false\")\\\n",
    "    .getOrCreate()\n"
   ]
  },
  {
   "cell_type": "code",
   "execution_count": 17,
   "id": "d50f5cef-634f-447b-840c-3d24785da0fd",
   "metadata": {},
   "outputs": [],
   "source": [
    "# To stop SparkSession\n",
    "spark.stop()"
   ]
  },
  {
   "cell_type": "code",
   "execution_count": null,
   "id": "5dfa4f79-76b1-49c3-95a7-89ed84c111e4",
   "metadata": {
    "scrolled": true
   },
   "outputs": [],
   "source": [
    "# Get spark session config details\n",
    "# spark.sparkContext.getConf().getAll()"
   ]
  },
  {
   "cell_type": "code",
   "execution_count": 27,
   "id": "cf7dd13b-e3cc-4962-8f20-9e2e552b04e8",
   "metadata": {},
   "outputs": [],
   "source": [
    "# Example DataFrame creation\n",
    "data = [(\"Jerin\", 29), (\"Aayush\", 35), (\"Neeraj\", 28),(\"Pritisinh\", 28)]\n",
    "columns = [\"Name\", \"Age\"]\n",
    "df = spark.createDataFrame(data, columns)"
   ]
  },
  {
   "cell_type": "code",
   "execution_count": 28,
   "id": "a538f060-489d-4f68-87ed-22b7e29ab06c",
   "metadata": {},
   "outputs": [
    {
     "name": "stderr",
     "output_type": "stream",
     "text": [
      "                                                                                "
     ]
    },
    {
     "name": "stdout",
     "output_type": "stream",
     "text": [
      "+---------+---+\n",
      "|     Name|Age|\n",
      "+---------+---+\n",
      "|    Jerin| 29|\n",
      "|   Aayush| 35|\n",
      "|   Neeraj| 28|\n",
      "|Pritisinh| 28|\n",
      "+---------+---+\n",
      "\n"
     ]
    }
   ],
   "source": [
    "df.show()"
   ]
  },
  {
   "cell_type": "markdown",
   "id": "266f16da-ef9c-406d-ad93-9798c4e16058",
   "metadata": {},
   "source": [
    "### Create Managed Iceberg Table.\n",
    "- This managed table is registered in Spark Catalog, therefore this can be accessed via SQL Table Reference."
   ]
  },
  {
   "cell_type": "code",
   "execution_count": 39,
   "id": "ac3b4dc3-6763-4327-9b18-5f4808c11d58",
   "metadata": {
    "scrolled": true
   },
   "outputs": [
    {
     "name": "stderr",
     "output_type": "stream",
     "text": [
      "                                                                                "
     ]
    }
   ],
   "source": [
    "# Usually gets error \"version-hint.text does not exist\" but the table gets created however while reading it, no error will occur.\n",
    "# Reexecuting it again will not produce error.\n",
    "df.writeTo(\"local.test_iceberg_table\").createOrReplace() "
   ]
  },
  {
   "cell_type": "code",
   "execution_count": 40,
   "id": "2e3b5150-83e0-4376-9387-9ccd408f1610",
   "metadata": {},
   "outputs": [
    {
     "name": "stdout",
     "output_type": "stream",
     "text": [
      "+---------+---+\n",
      "|     Name|Age|\n",
      "+---------+---+\n",
      "|    Jerin| 29|\n",
      "|   Aayush| 35|\n",
      "|   Neeraj| 28|\n",
      "|Pritisinh| 28|\n",
      "+---------+---+\n",
      "\n"
     ]
    }
   ],
   "source": [
    "spark.read.table(\"local.test_iceberg_table\").show()"
   ]
  },
  {
   "cell_type": "code",
   "execution_count": 41,
   "id": "26d782a3-c793-45d7-b239-f48fc933d913",
   "metadata": {},
   "outputs": [
    {
     "data": {
      "text/html": [
       "<table><tr style=\"border-bottom: 1px solid\"></tr></table>"
      ],
      "text/plain": [
       "<IPython.core.display.HTML object>"
      ]
     },
     "execution_count": 41,
     "metadata": {},
     "output_type": "execute_result"
    }
   ],
   "source": [
    "%%sparksql\n",
    "\n",
    "DROP TABLE local.test_iceberg_table;"
   ]
  },
  {
   "cell_type": "code",
   "execution_count": 42,
   "id": "4b0f0576-8af5-445d-be99-2963d7318cbb",
   "metadata": {},
   "outputs": [
    {
     "data": {
      "text/plain": [
       "DataFrame[]"
      ]
     },
     "execution_count": 42,
     "metadata": {},
     "output_type": "execute_result"
    }
   ],
   "source": [
    "# Creating table using spark sql wont throw \"version-hint.text does not exist\" \n",
    "\n",
    "spark.sql(\"\"\"\n",
    "    CREATE TABLE local.test_iceberg_table_sparksql (\n",
    "        id INT,\n",
    "        name STRING\n",
    "    ) USING iceberg\n",
    "\"\"\")"
   ]
  },
  {
   "cell_type": "code",
   "execution_count": 43,
   "id": "efe651e5-d9eb-4f29-965b-08f0a6f917c8",
   "metadata": {},
   "outputs": [
    {
     "name": "stderr",
     "output_type": "stream",
     "text": [
      "                                                                                "
     ]
    },
    {
     "data": {
      "text/html": [
       "<table><tr style=\"border-bottom: 1px solid\"></tr></table>"
      ],
      "text/plain": [
       "<IPython.core.display.HTML object>"
      ]
     },
     "execution_count": 43,
     "metadata": {},
     "output_type": "execute_result"
    }
   ],
   "source": [
    "%%sparksql\n",
    "\n",
    "INSERT INTO local.test_iceberg_table_sparksql VALUES (1,'Jerin'),(2,'Aayush')\n"
   ]
  },
  {
   "cell_type": "code",
   "execution_count": 44,
   "id": "7133dc08-1183-456d-bb05-3317c9bd0b07",
   "metadata": {},
   "outputs": [
    {
     "data": {
      "text/html": [
       "<table><tr style=\"border-bottom: 1px solid\"><td style=\"font-weight: bold\">id</td><td style=\"font-weight: bold\">name</td></tr><tr><td>1</td><td>Jerin</td></tr><tr><td>2</td><td>Aayush</td></tr></table>"
      ],
      "text/plain": [
       "<IPython.core.display.HTML object>"
      ]
     },
     "execution_count": 44,
     "metadata": {},
     "output_type": "execute_result"
    }
   ],
   "source": [
    "%%sparksql\n",
    "\n",
    "Select * from local.test_iceberg_table_sparksql"
   ]
  },
  {
   "cell_type": "code",
   "execution_count": null,
   "id": "ecaa6299-26a5-44c7-8057-40b2a7835b24",
   "metadata": {},
   "outputs": [],
   "source": []
  }
 ],
 "metadata": {
  "kernelspec": {
   "display_name": "Python 3 (ipykernel)",
   "language": "python",
   "name": "python3"
  },
  "language_info": {
   "codemirror_mode": {
    "name": "ipython",
    "version": 3
   },
   "file_extension": ".py",
   "mimetype": "text/x-python",
   "name": "python",
   "nbconvert_exporter": "python",
   "pygments_lexer": "ipython3",
   "version": "3.11.11"
  }
 },
 "nbformat": 4,
 "nbformat_minor": 5
}
